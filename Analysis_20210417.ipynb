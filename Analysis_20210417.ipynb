{
 "cells": [
  {
   "cell_type": "code",
   "execution_count": 1,
   "metadata": {},
   "outputs": [],
   "source": [
    "import numpy as np\n",
    "import pandas as pd\n",
    "import matplotlib.pyplot as plt\n",
    "import pyodbc\n",
    "\n",
    "from sklearn.preprocessing import StandardScaler, MinMaxScaler\n",
    "from sklearn.decomposition import PCA\n",
    "import bisect \n",
    "\n",
    "from datetime import datetime\n",
    "from printdescribe import changepath\n",
    "\n",
    "from statsmodels.tsa.api import VAR\n",
    "from statsmodels.tsa.stattools import adfuller\n",
    "from statsmodels.tools.eval_measures import rmse, aic\n",
    "\n",
    "from statsmodels.tsa.stattools import kpss,adfuller\n",
    "\n",
    "from statsmodels.tsa.stattools import acf, pacf\n",
    "from statsmodels.graphics.tsaplots import plot_acf, plot_pacf\n",
    "\n",
    "import pycaret\n",
    "\n",
    "import warnings\n",
    "warnings.filterwarnings('ignore')"
   ]
  },
  {
   "cell_type": "code",
   "execution_count": 2,
   "metadata": {},
   "outputs": [
    {
     "name": "stdout",
     "output_type": "stream",
     "text": [
      "driver:Microsoft Access Text Driver (*.txt, *.csv)\n"
     ]
    }
   ],
   "source": [
    "drivers = [item for item in pyodbc.drivers()]\n",
    "driver = drivers[-1]\n",
    "print(\"driver:{}\".format(driver))"
   ]
  },
  {
   "cell_type": "code",
   "execution_count": 3,
   "metadata": {},
   "outputs": [],
   "source": [
    "# path1 = r\"C:\\Users\\HP\\Downloads\"\n",
    "# with changepath(path1):\n",
    "#     data = pd.read_csv(\"spy_vix.csv\")\n",
    "cnxn = pyodbc.connect('Trusted_Connection=yes', \n",
    "                     driver = '{ODBC Driver 17 for SQL Server}',\n",
    "                     server = '.', \n",
    "                     database = 'TickHistory')"
   ]
  },
  {
   "cell_type": "code",
   "execution_count": 4,
   "metadata": {},
   "outputs": [
    {
     "data": {
      "text/html": [
       "<div>\n",
       "<style scoped>\n",
       "    .dataframe tbody tr th:only-of-type {\n",
       "        vertical-align: middle;\n",
       "    }\n",
       "\n",
       "    .dataframe tbody tr th {\n",
       "        vertical-align: top;\n",
       "    }\n",
       "\n",
       "    .dataframe thead th {\n",
       "        text-align: right;\n",
       "    }\n",
       "</style>\n",
       "<table border=\"1\" class=\"dataframe\">\n",
       "  <thead>\n",
       "    <tr style=\"text-align: right;\">\n",
       "      <th></th>\n",
       "      <th>Date_Time</th>\n",
       "      <th>SPY_Volume</th>\n",
       "      <th>SPY_Last</th>\n",
       "      <th>VIX_Last</th>\n",
       "    </tr>\n",
       "  </thead>\n",
       "  <tbody>\n",
       "    <tr>\n",
       "      <th>617355</th>\n",
       "      <td>2020-12-31T20:58:51.000000000Z</td>\n",
       "      <td>17587</td>\n",
       "      <td>374.26</td>\n",
       "      <td>22.64</td>\n",
       "    </tr>\n",
       "    <tr>\n",
       "      <th>617356</th>\n",
       "      <td>2020-12-31T20:59:06.000000000Z</td>\n",
       "      <td>110402</td>\n",
       "      <td>374.43</td>\n",
       "      <td>22.59</td>\n",
       "    </tr>\n",
       "    <tr>\n",
       "      <th>617357</th>\n",
       "      <td>2020-12-31T20:59:21.000000000Z</td>\n",
       "      <td>49541</td>\n",
       "      <td>374.32</td>\n",
       "      <td>22.56</td>\n",
       "    </tr>\n",
       "    <tr>\n",
       "      <th>617358</th>\n",
       "      <td>2020-12-31T20:59:36.000000000Z</td>\n",
       "      <td>44823</td>\n",
       "      <td>374.32</td>\n",
       "      <td>22.62</td>\n",
       "    </tr>\n",
       "    <tr>\n",
       "      <th>617359</th>\n",
       "      <td>2020-12-31T20:59:51.000000000Z</td>\n",
       "      <td>201248</td>\n",
       "      <td>374.63</td>\n",
       "      <td>22.51</td>\n",
       "    </tr>\n",
       "  </tbody>\n",
       "</table>\n",
       "</div>"
      ],
      "text/plain": [
       "                             Date_Time SPY_Volume  SPY_Last  VIX_Last\n",
       "617355  2020-12-31T20:58:51.000000000Z      17587    374.26     22.64\n",
       "617356  2020-12-31T20:59:06.000000000Z     110402    374.43     22.59\n",
       "617357  2020-12-31T20:59:21.000000000Z      49541    374.32     22.56\n",
       "617358  2020-12-31T20:59:36.000000000Z      44823    374.32     22.62\n",
       "617359  2020-12-31T20:59:51.000000000Z     201248    374.63     22.51"
      ]
     },
     "execution_count": 4,
     "metadata": {},
     "output_type": "execute_result"
    }
   ],
   "source": [
    "cursor = cnxn.cursor()\n",
    "query = '''select Spy.Date_Time, SPY.Volume [SPY_Volume],\n",
    "SPY.Last [SPY_Last], VIX.Last [VIX_Last]\n",
    "FROM [TickHistory].[dbo].[raw_SPY_VIX_2019_2020] Spy\n",
    "INNER JOIN [TickHistory].[dbo].[raw_SPY_VIX_2019_2020] Vix\n",
    "ON Spy.Date_Time = Vix.Date_Time\n",
    "AND Vix.RIC = '.VIX'\n",
    "where Spy.RIC = 'SPY' \n",
    "and Spy.[Open] is not null\n",
    "ORDER BY Spy.Date_Time'''\n",
    "# query = '''select top 10 * from raw_SPY_VIX_2019_2020'''\n",
    "# cursor.execute()\n",
    "data = pd.read_sql(query, cnxn)\n",
    "# cnxn.commit()\n",
    "cursor.close()\n",
    "data.tail(5)"
   ]
  },
  {
   "cell_type": "code",
   "execution_count": 5,
   "metadata": {},
   "outputs": [],
   "source": [
    "df = data"
   ]
  },
  {
   "cell_type": "code",
   "execution_count": 6,
   "metadata": {},
   "outputs": [],
   "source": [
    "df['TimeIndex']= df['Date_Time'].apply(lambda t:datetime.strptime(t[:-11], \"%Y-%m-%dT%H:%M:%S\"))"
   ]
  },
  {
   "cell_type": "code",
   "execution_count": 7,
   "metadata": {},
   "outputs": [],
   "source": [
    "df.set_index(\"TimeIndex\", inplace=True)"
   ]
  },
  {
   "cell_type": "code",
   "execution_count": 8,
   "metadata": {},
   "outputs": [],
   "source": [
    "df = df[['SPY_Last','VIX_Last']]"
   ]
  },
  {
   "cell_type": "code",
   "execution_count": 9,
   "metadata": {},
   "outputs": [],
   "source": [
    "df = df.astype('float64')"
   ]
  },
  {
   "cell_type": "code",
   "execution_count": 10,
   "metadata": {},
   "outputs": [],
   "source": [
    "df = df.dropna()"
   ]
  },
  {
   "cell_type": "code",
   "execution_count": 11,
   "metadata": {},
   "outputs": [],
   "source": [
    "from statsmodels.tsa.stattools import coint"
   ]
  },
  {
   "cell_type": "code",
   "execution_count": 12,
   "metadata": {},
   "outputs": [],
   "source": [
    "# my_coint = coint(df['SPY_Last'][:-2], df['VIX_Last'].shift(-2).dropna(), trend='nc', method='aeg', autolag='bic')"
   ]
  },
  {
   "cell_type": "code",
   "execution_count": 13,
   "metadata": {},
   "outputs": [],
   "source": [
    "# print(my_coint)"
   ]
  },
  {
   "cell_type": "code",
   "execution_count": 14,
   "metadata": {},
   "outputs": [],
   "source": [
    "df_train = df[:int(len(df)*0.7)]\n",
    "df_test = df[int(len(df)*0.7):int(len(df)*0.9)]\n",
    "df_validation = df[int(len(df)*0.9):]"
   ]
  },
  {
   "cell_type": "code",
   "execution_count": 129,
   "metadata": {},
   "outputs": [],
   "source": [
    "last_train_obs = str(df_train.iloc[-1].name)\n",
    "last_test_obs = str(df_test.iloc[-1].name)\n",
    "last_validation_obs = str(df_validation.iloc[-1].name)"
   ]
  },
  {
   "cell_type": "code",
   "execution_count": 119,
   "metadata": {},
   "outputs": [],
   "source": [
    "# Difference the datasets twice\n",
    "df_train_fd = df_train.diff().dropna()\n",
    "df_test_fd = df_test.diff().dropna()\n",
    "df_validation_fd = df_validation.diff().dropna()\n",
    "df_train_sd = df_train_fd.diff().dropna()\n",
    "df_test_sd = df_test_fd.diff().dropna()\n",
    "df_validation_sd = df_validation_fd.diff().dropna()"
   ]
  },
  {
   "cell_type": "code",
   "execution_count": 16,
   "metadata": {},
   "outputs": [
    {
     "name": "stderr",
     "output_type": "stream",
     "text": [
      "C:\\Users\\cemre\\anaconda3\\lib\\site-packages\\statsmodels\\tsa\\base\\tsa_model.py:581: ValueWarning: A date index has been provided, but it has no associated frequency information and so will be ignored when e.g. forecasting.\n",
      "  warnings.warn('A date index has been provided, but it has no'\n"
     ]
    },
    {
     "name": "stdout",
     "output_type": "stream",
     "text": [
      "  Summary of Regression Results   \n",
      "==================================\n",
      "Model:                         VAR\n",
      "Method:                        OLS\n",
      "Date:           Sat, 17, Apr, 2021\n",
      "Time:                     20:12:27\n",
      "--------------------------------------------------------------------\n",
      "No. of Equations:         2.00000    BIC:                   -8.27171\n",
      "Nobs:                     432149.    HQIC:                  -8.27179\n",
      "Log likelihood:           560947.    FPE:                0.000255621\n",
      "AIC:                     -8.27182    Det(Omega_mle):     0.000255618\n",
      "--------------------------------------------------------------------\n",
      "Results for equation SPY_Last\n",
      "==============================================================================\n",
      "                 coefficient       std. error           t-stat            prob\n",
      "------------------------------------------------------------------------------\n",
      "L1.SPY_Last        -0.479653         0.001395         -343.792           0.000\n",
      "L1.VIX_Last         0.085040         0.002187           38.883           0.000\n",
      "==============================================================================\n",
      "\n",
      "Results for equation VIX_Last\n",
      "==============================================================================\n",
      "                 coefficient       std. error           t-stat            prob\n",
      "------------------------------------------------------------------------------\n",
      "L1.SPY_Last        -0.089119         0.000875         -101.843           0.000\n",
      "L1.VIX_Last        -0.553746         0.001372         -403.685           0.000\n",
      "==============================================================================\n",
      "\n",
      "Correlation matrix of residuals\n",
      "            SPY_Last  VIX_Last\n",
      "SPY_Last    1.000000 -0.381803\n",
      "VIX_Last   -0.381803  1.000000\n",
      "\n",
      "\n",
      "\n"
     ]
    }
   ],
   "source": [
    "'''LOOKIE LOOKIE'''\n",
    "var_1 = VAR(df_train_sd)\n",
    "var_1_fitted = var_1.fit(1, trend='nc')# Fit the model\n",
    "print(var_1_fitted.summary())"
   ]
  },
  {
   "cell_type": "code",
   "execution_count": 17,
   "metadata": {},
   "outputs": [
    {
     "name": "stderr",
     "output_type": "stream",
     "text": [
      "C:\\Users\\cemre\\anaconda3\\lib\\site-packages\\statsmodels\\tsa\\base\\tsa_model.py:581: ValueWarning: A date index has been provided, but it has no associated frequency information and so will be ignored when e.g. forecasting.\n",
      "  warnings.warn('A date index has been provided, but it has no'\n"
     ]
    },
    {
     "name": "stdout",
     "output_type": "stream",
     "text": [
      "  Summary of Regression Results   \n",
      "==================================\n",
      "Model:                         VAR\n",
      "Method:                        OLS\n",
      "Date:           Sat, 17, Apr, 2021\n",
      "Time:                     20:12:28\n",
      "--------------------------------------------------------------------\n",
      "No. of Equations:         2.00000    BIC:                   -8.55381\n",
      "Nobs:                     432148.    HQIC:                  -8.55395\n",
      "Log likelihood:           621924.    FPE:                0.000192771\n",
      "AIC:                     -8.55401    Det(Omega_mle):     0.000192767\n",
      "--------------------------------------------------------------------\n",
      "Results for equation SPY_Last\n",
      "==============================================================================\n",
      "                 coefficient       std. error           t-stat            prob\n",
      "------------------------------------------------------------------------------\n",
      "L1.SPY_Last        -0.651488         0.001552         -419.662           0.000\n",
      "L1.VIX_Last         0.058239         0.002475           23.530           0.000\n",
      "L2.SPY_Last        -0.312047         0.001569         -198.943           0.000\n",
      "L2.VIX_Last         0.080834         0.002452           32.964           0.000\n",
      "==============================================================================\n",
      "\n",
      "Results for equation VIX_Last\n",
      "==============================================================================\n",
      "                 coefficient       std. error           t-stat            prob\n",
      "------------------------------------------------------------------------------\n",
      "L1.SPY_Last        -0.118064         0.000960         -122.958           0.000\n",
      "L1.VIX_Last        -0.762670         0.001531         -498.178           0.000\n",
      "L2.SPY_Last        -0.076662         0.000970          -79.020           0.000\n",
      "L2.VIX_Last        -0.392182         0.001517         -258.573           0.000\n",
      "==============================================================================\n",
      "\n",
      "Correlation matrix of residuals\n",
      "            SPY_Last  VIX_Last\n",
      "SPY_Last    1.000000 -0.403818\n",
      "VIX_Last   -0.403818  1.000000\n",
      "\n",
      "\n",
      "\n"
     ]
    }
   ],
   "source": [
    "'''LOOKIE LOOKIE'''\n",
    "var_2 = VAR(df_train_sd)\n",
    "var_2_fitted = var_2.fit(2, trend='nc')# Fit the model\n",
    "print(var_2_fitted.summary())"
   ]
  },
  {
   "cell_type": "code",
   "execution_count": 18,
   "metadata": {},
   "outputs": [
    {
     "name": "stderr",
     "output_type": "stream",
     "text": [
      "C:\\Users\\cemre\\anaconda3\\lib\\site-packages\\statsmodels\\tsa\\base\\tsa_model.py:581: ValueWarning: A date index has been provided, but it has no associated frequency information and so will be ignored when e.g. forecasting.\n",
      "  warnings.warn('A date index has been provided, but it has no'\n"
     ]
    },
    {
     "name": "stdout",
     "output_type": "stream",
     "text": [
      "  Summary of Regression Results   \n",
      "==================================\n",
      "Model:                         VAR\n",
      "Method:                        OLS\n",
      "Date:           Sat, 17, Apr, 2021\n",
      "Time:                     20:12:28\n",
      "--------------------------------------------------------------------\n",
      "No. of Equations:         2.00000    BIC:                   -8.68346\n",
      "Nobs:                     432147.    HQIC:                  -8.68368\n",
      "Log likelihood:           649964.    FPE:                0.000169312\n",
      "AIC:                     -8.68377    Det(Omega_mle):     0.000169307\n",
      "--------------------------------------------------------------------\n",
      "Results for equation SPY_Last\n",
      "==============================================================================\n",
      "                 coefficient       std. error           t-stat            prob\n",
      "------------------------------------------------------------------------------\n",
      "L1.SPY_Last        -0.733171         0.001614         -454.132           0.000\n",
      "L1.VIX_Last         0.048647         0.002610           18.637           0.000\n",
      "L2.SPY_Last        -0.471951         0.001933         -244.209           0.000\n",
      "L2.VIX_Last         0.077455         0.003098           25.004           0.000\n",
      "L3.SPY_Last        -0.216067         0.001641         -131.629           0.000\n",
      "L3.VIX_Last         0.083551         0.002574           32.459           0.000\n",
      "==============================================================================\n",
      "\n",
      "Results for equation VIX_Last\n",
      "==============================================================================\n",
      "                 coefficient       std. error           t-stat            prob\n",
      "------------------------------------------------------------------------------\n",
      "L1.SPY_Last        -0.132478         0.000997         -132.883           0.000\n",
      "L1.VIX_Last        -0.861947         0.001612         -534.760           0.000\n",
      "L2.SPY_Last        -0.115711         0.001193          -96.959           0.000\n",
      "L2.VIX_Last        -0.588190         0.001913         -307.488           0.000\n",
      "L3.SPY_Last        -0.058633         0.001014          -57.843           0.000\n",
      "L3.VIX_Last        -0.264253         0.001590         -166.249           0.000\n",
      "==============================================================================\n",
      "\n",
      "Correlation matrix of residuals\n",
      "            SPY_Last  VIX_Last\n",
      "SPY_Last    1.000000 -0.412474\n",
      "VIX_Last   -0.412474  1.000000\n",
      "\n",
      "\n",
      "\n"
     ]
    }
   ],
   "source": [
    "'''LOOKIE LOOKIE'''\n",
    "var_3 = VAR(df_train_sd)\n",
    "var_3_fitted = var_3.fit(3, trend='nc')# Fit the model\n",
    "print(var_3_fitted.summary())"
   ]
  },
  {
   "cell_type": "markdown",
   "metadata": {},
   "source": [
    "### PREDICTION"
   ]
  },
  {
   "cell_type": "code",
   "execution_count": 171,
   "metadata": {},
   "outputs": [],
   "source": [
    "xx=var_3_fitted.forecast\n"
   ]
  },
  {
   "cell_type": "code",
   "execution_count": 196,
   "metadata": {},
   "outputs": [
    {
     "data": {
      "text/html": [
       "<div>\n",
       "<style scoped>\n",
       "    .dataframe tbody tr th:only-of-type {\n",
       "        vertical-align: middle;\n",
       "    }\n",
       "\n",
       "    .dataframe tbody tr th {\n",
       "        vertical-align: top;\n",
       "    }\n",
       "\n",
       "    .dataframe thead th {\n",
       "        text-align: right;\n",
       "    }\n",
       "</style>\n",
       "<table border=\"1\" class=\"dataframe\">\n",
       "  <thead>\n",
       "    <tr style=\"text-align: right;\">\n",
       "      <th></th>\n",
       "      <th>SPY_Last</th>\n",
       "      <th>VIX_Last</th>\n",
       "    </tr>\n",
       "    <tr>\n",
       "      <th>TimeIndex</th>\n",
       "      <th></th>\n",
       "      <th></th>\n",
       "    </tr>\n",
       "  </thead>\n",
       "  <tbody>\n",
       "    <tr>\n",
       "      <th>2020-10-22 19:09:19</th>\n",
       "      <td>-0.04</td>\n",
       "      <td>1.000000e-02</td>\n",
       "    </tr>\n",
       "    <tr>\n",
       "      <th>2020-10-22 19:09:34</th>\n",
       "      <td>0.02</td>\n",
       "      <td>3.552714e-15</td>\n",
       "    </tr>\n",
       "    <tr>\n",
       "      <th>2020-10-22 19:09:49</th>\n",
       "      <td>0.06</td>\n",
       "      <td>-1.000000e-02</td>\n",
       "    </tr>\n",
       "    <tr>\n",
       "      <th>2020-10-22 19:10:49</th>\n",
       "      <td>-0.07</td>\n",
       "      <td>-3.000000e-02</td>\n",
       "    </tr>\n",
       "    <tr>\n",
       "      <th>2020-10-22 19:11:04</th>\n",
       "      <td>0.06</td>\n",
       "      <td>4.000000e-02</td>\n",
       "    </tr>\n",
       "    <tr>\n",
       "      <th>2020-10-22 19:11:19</th>\n",
       "      <td>-0.09</td>\n",
       "      <td>-2.000000e-02</td>\n",
       "    </tr>\n",
       "  </tbody>\n",
       "</table>\n",
       "</div>"
      ],
      "text/plain": [
       "                     SPY_Last      VIX_Last\n",
       "TimeIndex                                  \n",
       "2020-10-22 19:09:19     -0.04  1.000000e-02\n",
       "2020-10-22 19:09:34      0.02  3.552714e-15\n",
       "2020-10-22 19:09:49      0.06 -1.000000e-02\n",
       "2020-10-22 19:10:49     -0.07 -3.000000e-02\n",
       "2020-10-22 19:11:04      0.06  4.000000e-02\n",
       "2020-10-22 19:11:19     -0.09 -2.000000e-02"
      ]
     },
     "execution_count": 196,
     "metadata": {},
     "output_type": "execute_result"
    }
   ],
   "source": [
    "df_test_sd.iloc[-6:]"
   ]
  },
  {
   "cell_type": "code",
   "execution_count": 192,
   "metadata": {},
   "outputs": [
    {
     "data": {
      "text/plain": [
       "array([[0.06, 0.04]])"
      ]
     },
     "execution_count": 192,
     "metadata": {},
     "output_type": "execute_result"
    }
   ],
   "source": [
    "df_test_sd.values[-2:-1]"
   ]
  },
  {
   "cell_type": "code",
   "execution_count": 195,
   "metadata": {},
   "outputs": [
    {
     "data": {
      "text/plain": [
       "array([[-0.025131  , -0.01755651]])"
      ]
     },
     "execution_count": 195,
     "metadata": {},
     "output_type": "execute_result"
    }
   ],
   "source": [
    "xx(df_test_sd.values[-4:-1], 1)"
   ]
  },
  {
   "cell_type": "code",
   "execution_count": 197,
   "metadata": {},
   "outputs": [
    {
     "data": {
      "text/plain": [
       "array([[0.01644961, 0.03289845]])"
      ]
     },
     "execution_count": 197,
     "metadata": {},
     "output_type": "execute_result"
    }
   ],
   "source": [
    "xx(df_test_sd.values[-5:-2], 1)"
   ]
  },
  {
   "cell_type": "code",
   "execution_count": 198,
   "metadata": {},
   "outputs": [
    {
     "data": {
      "text/plain": [
       "array([[-0.04443755, -0.00194063]])"
      ]
     },
     "execution_count": 198,
     "metadata": {},
     "output_type": "execute_result"
    }
   ],
   "source": [
    "xx(df_test_sd.values[-6:-3], 1)"
   ]
  },
  {
   "cell_type": "code",
   "execution_count": 199,
   "metadata": {},
   "outputs": [
    {
     "data": {
      "text/plain": [
       "array([[ 0.00199299, -0.00184683]])"
      ]
     },
     "execution_count": 199,
     "metadata": {},
     "output_type": "execute_result"
    }
   ],
   "source": [
    "xx(df_test_sd.values[-7:-4], 1)"
   ]
  },
  {
   "cell_type": "code",
   "execution_count": 201,
   "metadata": {},
   "outputs": [
    {
     "data": {
      "text/plain": [
       "array([[-0.01226839,  0.00582219],\n",
       "       [ 0.02593447, -0.00259041],\n",
       "       [-0.00342118, -0.00350515],\n",
       "       [-0.0069654 ,  0.00117804],\n",
       "       [ 0.00068725,  0.00152883]])"
      ]
     },
     "execution_count": 201,
     "metadata": {},
     "output_type": "execute_result"
    }
   ],
   "source": [
    "xx(df_test_sd.values[-8:-5], 5)"
   ]
  },
  {
   "cell_type": "code",
   "execution_count": null,
   "metadata": {},
   "outputs": [],
   "source": [
    "var_3_fitted? #forecast(df_validation_sd['SPY_Last'],steps=1)"
   ]
  },
  {
   "cell_type": "code",
   "execution_count": 203,
   "metadata": {},
   "outputs": [
    {
     "data": {
      "text/html": [
       "<div>\n",
       "<style scoped>\n",
       "    .dataframe tbody tr th:only-of-type {\n",
       "        vertical-align: middle;\n",
       "    }\n",
       "\n",
       "    .dataframe tbody tr th {\n",
       "        vertical-align: top;\n",
       "    }\n",
       "\n",
       "    .dataframe thead th {\n",
       "        text-align: right;\n",
       "    }\n",
       "</style>\n",
       "<table border=\"1\" class=\"dataframe\">\n",
       "  <thead>\n",
       "    <tr style=\"text-align: right;\">\n",
       "      <th></th>\n",
       "      <th>SPY_Last</th>\n",
       "      <th>VIX_Last</th>\n",
       "    </tr>\n",
       "    <tr>\n",
       "      <th>TimeIndex</th>\n",
       "      <th></th>\n",
       "      <th></th>\n",
       "    </tr>\n",
       "  </thead>\n",
       "  <tbody>\n",
       "    <tr>\n",
       "      <th>2020-06-11 18:25:50</th>\n",
       "      <td>0.11</td>\n",
       "      <td>3.000000e-01</td>\n",
       "    </tr>\n",
       "    <tr>\n",
       "      <th>2020-06-11 18:26:05</th>\n",
       "      <td>-0.05</td>\n",
       "      <td>-2.500000e-01</td>\n",
       "    </tr>\n",
       "    <tr>\n",
       "      <th>2020-06-11 18:26:20</th>\n",
       "      <td>0.07</td>\n",
       "      <td>1.100000e-01</td>\n",
       "    </tr>\n",
       "    <tr>\n",
       "      <th>2020-06-11 18:26:35</th>\n",
       "      <td>-0.06</td>\n",
       "      <td>-3.000000e-02</td>\n",
       "    </tr>\n",
       "    <tr>\n",
       "      <th>2020-06-11 18:26:50</th>\n",
       "      <td>-0.09</td>\n",
       "      <td>3.000000e-02</td>\n",
       "    </tr>\n",
       "    <tr>\n",
       "      <th>...</th>\n",
       "      <td>...</td>\n",
       "      <td>...</td>\n",
       "    </tr>\n",
       "    <tr>\n",
       "      <th>2020-10-22 19:09:34</th>\n",
       "      <td>0.02</td>\n",
       "      <td>3.552714e-15</td>\n",
       "    </tr>\n",
       "    <tr>\n",
       "      <th>2020-10-22 19:09:49</th>\n",
       "      <td>0.06</td>\n",
       "      <td>-1.000000e-02</td>\n",
       "    </tr>\n",
       "    <tr>\n",
       "      <th>2020-10-22 19:10:49</th>\n",
       "      <td>-0.07</td>\n",
       "      <td>-3.000000e-02</td>\n",
       "    </tr>\n",
       "    <tr>\n",
       "      <th>2020-10-22 19:11:04</th>\n",
       "      <td>0.06</td>\n",
       "      <td>4.000000e-02</td>\n",
       "    </tr>\n",
       "    <tr>\n",
       "      <th>2020-10-22 19:11:19</th>\n",
       "      <td>-0.09</td>\n",
       "      <td>-2.000000e-02</td>\n",
       "    </tr>\n",
       "  </tbody>\n",
       "</table>\n",
       "<p>123470 rows × 2 columns</p>\n",
       "</div>"
      ],
      "text/plain": [
       "                     SPY_Last      VIX_Last\n",
       "TimeIndex                                  \n",
       "2020-06-11 18:25:50      0.11  3.000000e-01\n",
       "2020-06-11 18:26:05     -0.05 -2.500000e-01\n",
       "2020-06-11 18:26:20      0.07  1.100000e-01\n",
       "2020-06-11 18:26:35     -0.06 -3.000000e-02\n",
       "2020-06-11 18:26:50     -0.09  3.000000e-02\n",
       "...                       ...           ...\n",
       "2020-10-22 19:09:34      0.02  3.552714e-15\n",
       "2020-10-22 19:09:49      0.06 -1.000000e-02\n",
       "2020-10-22 19:10:49     -0.07 -3.000000e-02\n",
       "2020-10-22 19:11:04      0.06  4.000000e-02\n",
       "2020-10-22 19:11:19     -0.09 -2.000000e-02\n",
       "\n",
       "[123470 rows x 2 columns]"
      ]
     },
     "execution_count": 203,
     "metadata": {},
     "output_type": "execute_result"
    }
   ],
   "source": [
    "df_test_sd"
   ]
  },
  {
   "cell_type": "code",
   "execution_count": 19,
   "metadata": {},
   "outputs": [],
   "source": [
    "df_train_lagged = df_train_sd.shift(1).dropna()\n",
    "df_train_lagged_2 = df_train_sd.shift(2).dropna()\n",
    "df_train_lagged_3 = df_train_sd.shift(3).dropna()"
   ]
  },
  {
   "cell_type": "code",
   "execution_count": 208,
   "metadata": {},
   "outputs": [],
   "source": [
    "df_test_lagged = df_test_sd.shift(1).dropna()\n",
    "df_test_lagged_2 = df_test_sd.shift(2).dropna()\n",
    "df_test_lagged_3 = df_test_sd.shift(3).dropna()"
   ]
  },
  {
   "cell_type": "code",
   "execution_count": 209,
   "metadata": {},
   "outputs": [],
   "source": [
    "df_validation_lagged = df_validation_sd.shift(1).dropna()\n",
    "df_validation_lagged_2 = df_validation_sd.shift(2).dropna()\n",
    "df_validation_lagged_3 = df_validation_sd.shift(3).dropna()"
   ]
  },
  {
   "cell_type": "code",
   "execution_count": 21,
   "metadata": {},
   "outputs": [],
   "source": [
    "predicted_train_1 = var_1_fitted.coefs[0][0][0]*df_train_lagged['SPY_Last'] +\\\n",
    "var_1_fitted.coefs[0][0][1]*df_train_lagged['VIX_Last']"
   ]
  },
  {
   "cell_type": "code",
   "execution_count": 22,
   "metadata": {},
   "outputs": [],
   "source": [
    "predicted_test_1 = var_1_fitted.coefs[0][0][0]*df_test_lagged['SPY_Last'] +\\\n",
    "var_1_fitted.coefs[0][0][1]*df_test_lagged['VIX_Last']"
   ]
  },
  {
   "cell_type": "code",
   "execution_count": 210,
   "metadata": {},
   "outputs": [],
   "source": [
    "predicted_validation_1 = var_1_fitted.coefs[0][0][0]*df_validation_lagged['SPY_Last'] +\\\n",
    "var_1_fitted.coefs[0][0][1]*df_validation_lagged['VIX_Last']"
   ]
  },
  {
   "cell_type": "code",
   "execution_count": 211,
   "metadata": {},
   "outputs": [
    {
     "data": {
      "text/plain": [
       "TimeIndex\n",
       "2020-10-22 19:12:19    0.012362\n",
       "2020-10-22 19:12:49   -0.024092\n",
       "2020-10-22 19:13:04    0.023983\n",
       "2020-10-22 19:13:19   -0.036824\n",
       "2020-10-22 19:13:34   -0.004797\n",
       "                         ...   \n",
       "2020-12-31 20:58:51    0.047812\n",
       "2020-12-31 20:59:06   -0.043713\n",
       "2020-12-31 20:59:21   -0.070009\n",
       "2020-12-31 20:59:36    0.136004\n",
       "2020-12-31 20:59:51   -0.045108\n",
       "Length: 61733, dtype: float64"
      ]
     },
     "execution_count": 211,
     "metadata": {},
     "output_type": "execute_result"
    }
   ],
   "source": [
    "predicted_validation_1"
   ]
  },
  {
   "cell_type": "code",
   "execution_count": 24,
   "metadata": {},
   "outputs": [],
   "source": [
    "predicted_train_2 = var_2_fitted.coefs[0][0][0]*df_train_lagged['SPY_Last'] +\\\n",
    "var_2_fitted.coefs[0][0][1]*df_train_lagged['VIX_Last'] +\\\n",
    "var_2_fitted.coefs[1][0][0]*df_train_lagged_2['SPY_Last'] +\\\n",
    "var_2_fitted.coefs[1][0][1]*df_train_lagged_2['VIX_Last']"
   ]
  },
  {
   "cell_type": "code",
   "execution_count": 25,
   "metadata": {},
   "outputs": [],
   "source": [
    "predicted_test_2 = var_2_fitted.coefs[0][0][0]*df_test_lagged['SPY_Last'] +\\\n",
    "var_2_fitted.coefs[0][0][1]*df_test_lagged['VIX_Last'] +\\\n",
    "var_2_fitted.coefs[1][0][0]*df_test_lagged_2['SPY_Last'] +\\\n",
    "var_2_fitted.coefs[1][0][1]*df_test_lagged_2['VIX_Last']"
   ]
  },
  {
   "cell_type": "code",
   "execution_count": 26,
   "metadata": {},
   "outputs": [],
   "source": [
    "predicted_test_3 = var_3_fitted.coefs[0][0][0]*df_test_lagged['SPY_Last'] +\\\n",
    "var_3_fitted.coefs[0][0][1]*df_test_lagged['VIX_Last'] +\\\n",
    "var_3_fitted.coefs[1][0][0]*df_test_lagged_2['SPY_Last'] +\\\n",
    "var_3_fitted.coefs[1][0][1]*df_test_lagged_2['VIX_Last'] +\\\n",
    "var_3_fitted.coefs[2][0][0]*df_test_lagged_3['SPY_Last'] +\\\n",
    "var_3_fitted.coefs[2][0][1]*df_test_lagged_3['VIX_Last'] "
   ]
  },
  {
   "cell_type": "code",
   "execution_count": 213,
   "metadata": {},
   "outputs": [],
   "source": [
    "predicted_train_undiff = 2*df_train['SPY_Last'].shift(1) - df_train['SPY_Last'].shift(2) + predicted_train_1\n",
    "# predicted_train_undiff = 2*df_train['SPY_Last'].shift(1) - df_train['SPY_Last'].shift(2) + predicted_train_1\n",
    "predicted_validation_undiff = 2*df_validation['SPY_Last'].shift(1) - df_validation['SPY_Last'].shift(2) + predicted_validation_1"
   ]
  },
  {
   "cell_type": "code",
   "execution_count": 28,
   "metadata": {},
   "outputs": [],
   "source": [
    "predicted_train_undiff.dropna(inplace=True)"
   ]
  },
  {
   "cell_type": "code",
   "execution_count": 29,
   "metadata": {},
   "outputs": [],
   "source": [
    "df_delta_1 = predicted_train_undiff-df_train['SPY_Last'][3:]"
   ]
  },
  {
   "cell_type": "code",
   "execution_count": 30,
   "metadata": {},
   "outputs": [
    {
     "data": {
      "text/plain": [
       "TimeIndex\n",
       "2019-01-02 14:31:49    246.498244\n",
       "2019-01-02 14:32:04    246.635057\n",
       "2019-01-02 14:32:19    246.477579\n",
       "2019-01-02 14:32:34    246.299371\n",
       "2019-01-02 14:32:49    246.444106\n",
       "dtype: float64"
      ]
     },
     "execution_count": 30,
     "metadata": {},
     "output_type": "execute_result"
    }
   ],
   "source": [
    "predicted_train_undiff.head(5)"
   ]
  },
  {
   "cell_type": "code",
   "execution_count": 215,
   "metadata": {},
   "outputs": [
    {
     "data": {
      "text/plain": [
       "TimeIndex\n",
       "2020-12-31 20:58:51    374.207812\n",
       "2020-12-31 20:59:06    374.256287\n",
       "2020-12-31 20:59:21    374.529991\n",
       "2020-12-31 20:59:36    374.346004\n",
       "2020-12-31 20:59:51    374.274892\n",
       "dtype: float64"
      ]
     },
     "execution_count": 215,
     "metadata": {},
     "output_type": "execute_result"
    }
   ],
   "source": [
    "predicted_validation_undiff.tail(5)"
   ]
  },
  {
   "cell_type": "code",
   "execution_count": 216,
   "metadata": {},
   "outputs": [
    {
     "data": {
      "text/html": [
       "<div>\n",
       "<style scoped>\n",
       "    .dataframe tbody tr th:only-of-type {\n",
       "        vertical-align: middle;\n",
       "    }\n",
       "\n",
       "    .dataframe tbody tr th {\n",
       "        vertical-align: top;\n",
       "    }\n",
       "\n",
       "    .dataframe thead th {\n",
       "        text-align: right;\n",
       "    }\n",
       "</style>\n",
       "<table border=\"1\" class=\"dataframe\">\n",
       "  <thead>\n",
       "    <tr style=\"text-align: right;\">\n",
       "      <th></th>\n",
       "      <th>SPY_Last</th>\n",
       "      <th>VIX_Last</th>\n",
       "    </tr>\n",
       "    <tr>\n",
       "      <th>TimeIndex</th>\n",
       "      <th></th>\n",
       "      <th></th>\n",
       "    </tr>\n",
       "  </thead>\n",
       "  <tbody>\n",
       "    <tr>\n",
       "      <th>2020-12-31 20:58:51</th>\n",
       "      <td>374.26</td>\n",
       "      <td>22.64</td>\n",
       "    </tr>\n",
       "    <tr>\n",
       "      <th>2020-12-31 20:59:06</th>\n",
       "      <td>374.43</td>\n",
       "      <td>22.59</td>\n",
       "    </tr>\n",
       "    <tr>\n",
       "      <th>2020-12-31 20:59:21</th>\n",
       "      <td>374.32</td>\n",
       "      <td>22.56</td>\n",
       "    </tr>\n",
       "    <tr>\n",
       "      <th>2020-12-31 20:59:36</th>\n",
       "      <td>374.32</td>\n",
       "      <td>22.62</td>\n",
       "    </tr>\n",
       "    <tr>\n",
       "      <th>2020-12-31 20:59:51</th>\n",
       "      <td>374.63</td>\n",
       "      <td>22.51</td>\n",
       "    </tr>\n",
       "  </tbody>\n",
       "</table>\n",
       "</div>"
      ],
      "text/plain": [
       "                     SPY_Last  VIX_Last\n",
       "TimeIndex                              \n",
       "2020-12-31 20:58:51    374.26     22.64\n",
       "2020-12-31 20:59:06    374.43     22.59\n",
       "2020-12-31 20:59:21    374.32     22.56\n",
       "2020-12-31 20:59:36    374.32     22.62\n",
       "2020-12-31 20:59:51    374.63     22.51"
      ]
     },
     "execution_count": 216,
     "metadata": {},
     "output_type": "execute_result"
    }
   ],
   "source": [
    "df_validation.tail(5)"
   ]
  },
  {
   "cell_type": "code",
   "execution_count": 31,
   "metadata": {},
   "outputs": [
    {
     "data": {
      "text/plain": [
       "TimeIndex\n",
       "2019-01-02 14:31:49    246.5511\n",
       "2019-01-02 14:32:04    246.4700\n",
       "2019-01-02 14:32:19    246.3800\n",
       "2019-01-02 14:32:34    246.4500\n",
       "2019-01-02 14:32:49    246.3900\n",
       "Name: SPY_Last, dtype: float64"
      ]
     },
     "execution_count": 31,
     "metadata": {},
     "output_type": "execute_result"
    }
   ],
   "source": [
    "df_train['SPY_Last'][3:].head(5)"
   ]
  },
  {
   "cell_type": "code",
   "execution_count": 32,
   "metadata": {},
   "outputs": [
    {
     "data": {
      "text/plain": [
       "TimeIndex\n",
       "2019-01-02 14:31:49   -0.052856\n",
       "2019-01-02 14:32:04    0.165057\n",
       "2019-01-02 14:32:19    0.097579\n",
       "2019-01-02 14:32:34   -0.150629\n",
       "2019-01-02 14:32:49    0.054106\n",
       "                         ...   \n",
       "2020-06-11 18:24:05    0.075348\n",
       "2020-06-11 18:24:20   -0.008902\n",
       "2020-06-11 18:24:35   -0.158372\n",
       "2020-06-11 18:24:50    0.171386\n",
       "2020-06-11 18:25:05    0.032975\n",
       "Length: 432149, dtype: float64"
      ]
     },
     "execution_count": 32,
     "metadata": {},
     "output_type": "execute_result"
    }
   ],
   "source": [
    "df_delta_1"
   ]
  },
  {
   "cell_type": "code",
   "execution_count": 33,
   "metadata": {},
   "outputs": [],
   "source": [
    "predicted_test_1_undiff = 2*df['SPY_Last'].shift(1) - df['SPY_Last'].shift(2) + predicted_test_1\n",
    "predicted_test_2_undiff = 2*df['SPY_Last'].shift(1) - df['SPY_Last'].shift(2) + predicted_test_2\n",
    "predicted_test_3_undiff = 2*df['SPY_Last'].shift(1) - df['SPY_Last'].shift(2) + predicted_test_3"
   ]
  },
  {
   "cell_type": "code",
   "execution_count": 34,
   "metadata": {},
   "outputs": [
    {
     "data": {
      "text/plain": [
       "TimeIndex\n",
       "2019-01-02 14:31:04   NaN\n",
       "2019-01-02 14:31:19   NaN\n",
       "2019-01-02 14:31:34   NaN\n",
       "2019-01-02 14:31:49   NaN\n",
       "2019-01-02 14:32:04   NaN\n",
       "                       ..\n",
       "2020-12-31 20:58:51   NaN\n",
       "2020-12-31 20:59:06   NaN\n",
       "2020-12-31 20:59:21   NaN\n",
       "2020-12-31 20:59:36   NaN\n",
       "2020-12-31 20:59:51   NaN\n",
       "Length: 617360, dtype: float64"
      ]
     },
     "execution_count": 34,
     "metadata": {},
     "output_type": "execute_result"
    }
   ],
   "source": [
    "predicted_test_1_undiff"
   ]
  },
  {
   "cell_type": "code",
   "execution_count": 35,
   "metadata": {},
   "outputs": [],
   "source": [
    "def get_prediction_accuracy(method, expected, predicted):\n",
    "    if method == 'MSE':\n",
    "        accuracy = mean_squared_error(expected, predicted)\n",
    "        return {method:accuracy}\n",
    "    elif method == 'MAE':\n",
    "        accuracy = mean_absolute_error(expected, predicted)\n",
    "        return {method:accuracy}\n",
    "#     else:\n",
    "#         accuracy = mean_absolute_error(expected, predicted)\n",
    "#         return {method:accuracy}"
   ]
  },
  {
   "cell_type": "code",
   "execution_count": 36,
   "metadata": {},
   "outputs": [],
   "source": [
    "from sklearn.metrics import mean_absolute_error, mean_squared_error"
   ]
  },
  {
   "cell_type": "code",
   "execution_count": 37,
   "metadata": {
    "scrolled": true
   },
   "outputs": [
    {
     "name": "stdout",
     "output_type": "stream",
     "text": [
      "{'MSE': 0.01761297041411011}\n",
      "{'MAE': 0.07506639186650572}\n",
      "{'MSE': 0.015677563890730446}\n",
      "{'MAE': 0.07078747474730565}\n",
      "{'MSE': 0.014727283878118707}\n",
      "{'MAE': 0.06840291999451488}\n"
     ]
    }
   ],
   "source": [
    "'''Here is a comparison of the various VAR(p) predictions. We have decided to abandon the forecast function \n",
    "and instead we will manually derive the predicted level datasets.'''\n",
    "# Manual\n",
    "# preds = [predicted_1_undiff.dropna(), predicted_2_undiff.dropna(), predicted_3_undiff.dropna()]\n",
    "preds = [predicted_test_1_undiff.dropna(), predicted_test_2_undiff.dropna(), predicted_test_3_undiff.dropna()]\n",
    "for i in range(0, len(preds)):\n",
    "#     print (get_prediction_accuracy('MSE', df['SPY_Last'][3+i:], preds[i]))\n",
    "#     print (get_prediction_accuracy('MAE', df['SPY_Last'][3+i:], preds[i]))\n",
    "    print (get_prediction_accuracy('MSE', df_test['SPY_Last'][3+i:], preds[i]))\n",
    "    print (get_prediction_accuracy('MAE', df_test['SPY_Last'][3+i:], preds[i]))\n"
   ]
  },
  {
   "cell_type": "code",
   "execution_count": 38,
   "metadata": {},
   "outputs": [
    {
     "name": "stdout",
     "output_type": "stream",
     "text": [
      "{'MSE': 0.017612970414110113}\n",
      "{'MAE': 0.0750663918665058}\n",
      "{'MSE': 0.015677563890730457}\n",
      "{'MAE': 0.07078747474730562}\n",
      "{'MSE': 0.014727283878118712}\n",
      "{'MAE': 0.0684029199945149}\n"
     ]
    }
   ],
   "source": [
    "'''Here is a comparison of the various VAR(p) predictions. We have decided to abandon the forecast function \n",
    "and instead we will manually derive the predicted level datasets.'''\n",
    "# Manual\n",
    "# preds = [predicted_1_undiff.dropna(), predicted_2_undiff.dropna(), predicted_3_undiff.dropna()]\n",
    "preds = [predicted_test_1.dropna(), predicted_test_2.dropna(), predicted_test_3.dropna()]\n",
    "for i in range(0, len(preds)):\n",
    "#     print (get_prediction_accuracy('MSE', df['SPY_Last'][3+i:], preds[i]))\n",
    "#     print (get_prediction_accuracy('MAE', df['SPY_Last'][3+i:], preds[i]))\n",
    "    print (get_prediction_accuracy('MSE', df_test_sd['SPY_Last'][1+i:], preds[i]))\n",
    "    print (get_prediction_accuracy('MAE', df_test_sd['SPY_Last'][1+i:], preds[i]))\n"
   ]
  },
  {
   "cell_type": "code",
   "execution_count": 39,
   "metadata": {},
   "outputs": [
    {
     "data": {
      "text/plain": [
       "<matplotlib.legend.Legend at 0x22335a4ac10>"
      ]
     },
     "execution_count": 39,
     "metadata": {},
     "output_type": "execute_result"
    },
    {
     "data": {
      "image/png": "[encoded data removed]",
      "text/plain": [
       "<Figure size 432x288 with 1 Axes>"
      ]
     },
     "metadata": {
      "needs_background": "light"
     },
     "output_type": "display_data"
    }
   ],
   "source": [
    "plt.plot(df_train['SPY_Last'], label='Actual SPY Last - Train')\n",
    "plt.plot(predicted_train_undiff, label='Forecast(1) of SPY Last - Train')\n",
    "# plt.plot(df_delta_1, label='Delta')\n",
    "plt.legend()"
   ]
  },
  {
   "cell_type": "code",
   "execution_count": 40,
   "metadata": {},
   "outputs": [
    {
     "data": {
      "text/plain": [
       "<matplotlib.legend.Legend at 0x2233270dbe0>"
      ]
     },
     "execution_count": 40,
     "metadata": {},
     "output_type": "execute_result"
    },
    {
     "data": {
      "image/png": "[encoded data removed]",
      "text/plain": [
       "<Figure size 432x288 with 1 Axes>"
      ]
     },
     "metadata": {
      "needs_background": "light"
     },
     "output_type": "display_data"
    }
   ],
   "source": [
    "plt.plot(df_delta_1['2020-03-12':'2020-03-15'], label='Delta')\n",
    "plt.legend()"
   ]
  },
  {
   "cell_type": "code",
   "execution_count": 41,
   "metadata": {},
   "outputs": [
    {
     "data": {
      "text/plain": [
       "count    3047.000000\n",
       "mean       -0.000049\n",
       "std         0.654494\n",
       "min       -14.590511\n",
       "25%        -0.218337\n",
       "50%        -0.007193\n",
       "75%         0.213128\n",
       "max        17.982796\n",
       "dtype: float64"
      ]
     },
     "execution_count": 41,
     "metadata": {},
     "output_type": "execute_result"
    }
   ],
   "source": [
    "df_delta_1['2020-03-12':'2020-03-15'].describe()"
   ]
  },
  {
   "cell_type": "code",
   "execution_count": 42,
   "metadata": {},
   "outputs": [
    {
     "data": {
      "text/plain": [
       "count    432149.000000\n",
       "mean          0.067272\n",
       "std           0.151839\n",
       "min           0.000000\n",
       "25%           0.016388\n",
       "50%           0.037749\n",
       "75%           0.076878\n",
       "max          31.768009\n",
       "dtype: float64"
      ]
     },
     "execution_count": 42,
     "metadata": {},
     "output_type": "execute_result"
    }
   ],
   "source": [
    "np.abs(df_delta_1).describe()"
   ]
  },
  {
   "cell_type": "code",
   "execution_count": 43,
   "metadata": {},
   "outputs": [],
   "source": [
    "df_train_fd['2020-03-12':'2020-03-15'].to_csv('delta_train_fd.csv')"
   ]
  },
  {
   "cell_type": "code",
   "execution_count": 44,
   "metadata": {},
   "outputs": [],
   "source": [
    "df_train_sd['2020-03-12':'2020-03-15'].to_csv('delta_train_sd.csv')"
   ]
  },
  {
   "cell_type": "code",
   "execution_count": 45,
   "metadata": {},
   "outputs": [],
   "source": [
    "df_train['2020-03-11':'2020-03-15'].to_csv('train.csv')"
   ]
  },
  {
   "cell_type": "markdown",
   "metadata": {},
   "source": [
    "### ARIMA"
   ]
  },
  {
   "cell_type": "code",
   "execution_count": 46,
   "metadata": {},
   "outputs": [],
   "source": [
    "from statsmodels.tsa.arima.model import ARIMA"
   ]
  },
  {
   "cell_type": "code",
   "execution_count": 47,
   "metadata": {},
   "outputs": [
    {
     "name": "stderr",
     "output_type": "stream",
     "text": [
      "C:\\Users\\cemre\\anaconda3\\lib\\site-packages\\statsmodels\\tsa\\base\\tsa_model.py:581: ValueWarning: A date index has been provided, but it has no associated frequency information and so will be ignored when e.g. forecasting.\n",
      "  warnings.warn('A date index has been provided, but it has no'\n",
      "C:\\Users\\cemre\\anaconda3\\lib\\site-packages\\statsmodels\\tsa\\base\\tsa_model.py:581: ValueWarning: A date index has been provided, but it has no associated frequency information and so will be ignored when e.g. forecasting.\n",
      "  warnings.warn('A date index has been provided, but it has no'\n",
      "C:\\Users\\cemre\\anaconda3\\lib\\site-packages\\statsmodels\\tsa\\base\\tsa_model.py:581: ValueWarning: A date index has been provided, but it has no associated frequency information and so will be ignored when e.g. forecasting.\n",
      "  warnings.warn('A date index has been provided, but it has no'\n"
     ]
    },
    {
     "name": "stdout",
     "output_type": "stream",
     "text": [
      "                               SARIMAX Results                                \n",
      "==============================================================================\n",
      "Dep. Variable:               SPY_Last   No. Observations:               432150\n",
      "Model:                 ARIMA(1, 0, 0)   Log Likelihood              195974.048\n",
      "Date:                Sat, 17 Apr 2021   AIC                        -391940.095\n",
      "Time:                        20:13:06   BIC                        -391896.189\n",
      "Sample:                             0   HQIC                       -391927.590\n",
      "                             - 432150                                         \n",
      "Covariance Type:                  opg                                         \n",
      "==============================================================================\n",
      "                 coef    std err          z      P>|z|      [0.025      0.975]\n",
      "------------------------------------------------------------------------------\n",
      "const      -5.094e-06      0.000     -0.032      0.974      -0.000       0.000\n",
      "VIX_Last      -0.6057   6.92e-05  -8751.409      0.000      -0.606      -0.606\n",
      "ar.L1         -0.5307   3.01e-05  -1.76e+04      0.000      -0.531      -0.531\n",
      "sigma2         0.0236   9.62e-07   2.46e+04      0.000       0.024       0.024\n",
      "===================================================================================\n",
      "Ljung-Box (L1) (Q):               15662.67   Jarque-Bera (JB):      652895382490.12\n",
      "Prob(Q):                              0.00   Prob(JB):                         0.00\n",
      "Heteroskedasticity (H):              12.16   Skew:                           -19.14\n",
      "Prob(H) (two-sided):                  0.00   Kurtosis:                      6024.45\n",
      "===================================================================================\n",
      "\n",
      "Warnings:\n",
      "[1] Covariance matrix calculated using the outer product of gradients (complex-step).\n"
     ]
    }
   ],
   "source": [
    "'''Fit ARIMA(1,0,0)'''\n",
    "arima_1 = ARIMA(df_train_sd['SPY_Last'], df_train_sd['VIX_Last'], order=(1,0,0))\n",
    "res_arima_1 = arima_1.fit()\n",
    "print(res_arima_1.summary())"
   ]
  },
  {
   "cell_type": "code",
   "execution_count": 48,
   "metadata": {},
   "outputs": [
    {
     "name": "stderr",
     "output_type": "stream",
     "text": [
      "C:\\Users\\cemre\\anaconda3\\lib\\site-packages\\statsmodels\\tsa\\base\\tsa_model.py:581: ValueWarning: A date index has been provided, but it has no associated frequency information and so will be ignored when e.g. forecasting.\n",
      "  warnings.warn('A date index has been provided, but it has no'\n",
      "C:\\Users\\cemre\\anaconda3\\lib\\site-packages\\statsmodels\\tsa\\base\\tsa_model.py:581: ValueWarning: A date index has been provided, but it has no associated frequency information and so will be ignored when e.g. forecasting.\n",
      "  warnings.warn('A date index has been provided, but it has no'\n",
      "C:\\Users\\cemre\\anaconda3\\lib\\site-packages\\statsmodels\\tsa\\base\\tsa_model.py:581: ValueWarning: A date index has been provided, but it has no associated frequency information and so will be ignored when e.g. forecasting.\n",
      "  warnings.warn('A date index has been provided, but it has no'\n",
      "C:\\Users\\cemre\\anaconda3\\lib\\site-packages\\statsmodels\\base\\model.py:566: ConvergenceWarning: Maximum Likelihood optimization failed to converge. Check mle_retvals\n",
      "  warnings.warn(\"Maximum Likelihood optimization failed to \"\n"
     ]
    },
    {
     "name": "stdout",
     "output_type": "stream",
     "text": [
      "                               SARIMAX Results                                \n",
      "==============================================================================\n",
      "Dep. Variable:               SPY_Last   No. Observations:               432150\n",
      "Model:                 ARIMA(1, 0, 1)   Log Likelihood              291718.219\n",
      "Date:                Sat, 17 Apr 2021   AIC                        -583426.439\n",
      "Time:                        20:17:16   BIC                        -583371.556\n",
      "Sample:                             0   HQIC                       -583410.807\n",
      "                             - 432150                                         \n",
      "Covariance Type:                  opg                                         \n",
      "==============================================================================\n",
      "                 coef    std err          z      P>|z|      [0.025      0.975]\n",
      "------------------------------------------------------------------------------\n",
      "const      -3.241e-06   1.73e-06     -1.871      0.061   -6.64e-06    1.54e-07\n",
      "VIX_Last      -0.7373   6.26e-05  -1.18e+04      0.000      -0.737      -0.737\n",
      "ar.L1         -0.0961      0.000   -808.200      0.000      -0.096      -0.096\n",
      "ma.L1         -0.9909   6.41e-05  -1.55e+04      0.000      -0.991      -0.991\n",
      "sigma2         0.0146   5.62e-07    2.6e+04      0.000       0.015       0.015\n",
      "===================================================================================\n",
      "Ljung-Box (L1) (Q):                  44.99   Jarque-Bera (JB):     3150386945189.62\n",
      "Prob(Q):                              0.00   Prob(JB):                         0.00\n",
      "Heteroskedasticity (H):              13.08   Skew:                           -47.59\n",
      "Prob(H) (two-sided):                  0.00   Kurtosis:                     13229.93\n",
      "===================================================================================\n",
      "\n",
      "Warnings:\n",
      "[1] Covariance matrix calculated using the outer product of gradients (complex-step).\n"
     ]
    }
   ],
   "source": [
    "'''Fit ARIMA(1,0,1) on train dataset'''\n",
    "arima_101 = ARIMA(df_train_sd['SPY_Last'], df_train_sd['VIX_Last'], order=(1,0,1))\n",
    "res_arima_101 = arima_101.fit()\n",
    "print(res_arima_101.summary())"
   ]
  },
  {
   "cell_type": "markdown",
   "metadata": {},
   "source": [
    "Forecasting Techniques\n",
    "- https://github.com/statsmodels/statsmodels/issues/3623\n",
    "- https://github.com/statsmodels/statsmodels/issues/2788\n"
   ]
  },
  {
   "cell_type": "code",
   "execution_count": 120,
   "metadata": {},
   "outputs": [
    {
     "name": "stderr",
     "output_type": "stream",
     "text": [
      "C:\\Users\\cemre\\anaconda3\\lib\\site-packages\\statsmodels\\tsa\\base\\tsa_model.py:581: ValueWarning: A date index has been provided, but it has no associated frequency information and so will be ignored when e.g. forecasting.\n",
      "  warnings.warn('A date index has been provided, but it has no'\n",
      "C:\\Users\\cemre\\anaconda3\\lib\\site-packages\\statsmodels\\tsa\\base\\tsa_model.py:581: ValueWarning: A date index has been provided, but it has no associated frequency information and so will be ignored when e.g. forecasting.\n",
      "  warnings.warn('A date index has been provided, but it has no'\n",
      "C:\\Users\\cemre\\anaconda3\\lib\\site-packages\\statsmodels\\tsa\\base\\tsa_model.py:581: ValueWarning: A date index has been provided, but it has no associated frequency information and so will be ignored when e.g. forecasting.\n",
      "  warnings.warn('A date index has been provided, but it has no'\n",
      "C:\\Users\\cemre\\anaconda3\\lib\\site-packages\\statsmodels\\base\\model.py:566: ConvergenceWarning: Maximum Likelihood optimization failed to converge. Check mle_retvals\n",
      "  warnings.warn(\"Maximum Likelihood optimization failed to \"\n"
     ]
    },
    {
     "name": "stdout",
     "output_type": "stream",
     "text": [
      "                               SARIMAX Results                                \n",
      "==============================================================================\n",
      "Dep. Variable:               SPY_Last   No. Observations:                61734\n",
      "Model:                 ARIMA(1, 0, 1)   Log Likelihood               57904.815\n",
      "Date:                Sat, 17 Apr 2021   AIC                        -115799.630\n",
      "Time:                        21:40:47   BIC                        -115754.477\n",
      "Sample:                             0   HQIC                       -115785.623\n",
      "                              - 61734                                         \n",
      "Covariance Type:                  opg                                         \n",
      "==============================================================================\n",
      "                 coef    std err          z      P>|z|      [0.025      0.975]\n",
      "------------------------------------------------------------------------------\n",
      "const      -7.976e-07   1.18e-06     -0.676      0.499   -3.11e-06    1.52e-06\n",
      "VIX_Last      -1.1365      0.000  -2511.673      0.000      -1.137      -1.136\n",
      "ar.L1         -0.1218      0.001   -205.695      0.000      -0.123      -0.121\n",
      "ma.L1         -0.9973      0.000  -3222.263      0.000      -0.998      -0.997\n",
      "sigma2         0.0093   1.49e-06   6245.986      0.000       0.009       0.009\n",
      "===================================================================================\n",
      "Ljung-Box (L1) (Q):                  40.20   Jarque-Bera (JB):       70906711566.24\n",
      "Prob(Q):                              0.00   Prob(JB):                         0.00\n",
      "Heteroskedasticity (H):               0.24   Skew:                            41.30\n",
      "Prob(H) (two-sided):                  0.00   Kurtosis:                      5252.69\n",
      "===================================================================================\n",
      "\n",
      "Warnings:\n",
      "[1] Covariance matrix calculated using the outer product of gradients (complex-step).\n"
     ]
    }
   ],
   "source": [
    "'''Fit ARIMA(1,0,1) on validation dataset'''\n",
    "arima_validation_101 = ARIMA(df_validation_sd['SPY_Last'], df_validation_sd['VIX_Last'], order=(1,0,1))\n",
    "res_arima_validation_101 = arima_validation_101.fit()\n",
    "print(res_arima_validation_101.summary())"
   ]
  },
  {
   "cell_type": "code",
   "execution_count": null,
   "metadata": {},
   "outputs": [],
   "source": []
  },
  {
   "cell_type": "code",
   "execution_count": null,
   "metadata": {},
   "outputs": [],
   "source": []
  },
  {
   "cell_type": "code",
   "execution_count": null,
   "metadata": {},
   "outputs": [],
   "source": []
  },
  {
   "cell_type": "code",
   "execution_count": null,
   "metadata": {},
   "outputs": [],
   "source": []
  },
  {
   "cell_type": "code",
   "execution_count": 49,
   "metadata": {},
   "outputs": [],
   "source": [
    "mse_101 = np.sqrt(np.mean(res_arima_101.resid[3:]**2))\n",
    "mae_101 = np.mean(np.abs(res_arima_101.resid[3:]))"
   ]
  },
  {
   "cell_type": "code",
   "execution_count": 50,
   "metadata": {},
   "outputs": [
    {
     "name": "stdout",
     "output_type": "stream",
     "text": [
      "MSE:  0.12314853685640616\n",
      "MAE:  0.04939551945366293\n"
     ]
    }
   ],
   "source": [
    "print('MSE: ', mse_101)\n",
    "print('MAE: ', mae_101)"
   ]
  },
  {
   "cell_type": "code",
   "execution_count": 51,
   "metadata": {},
   "outputs": [],
   "source": [
    "ARIMA?"
   ]
  },
  {
   "cell_type": "code",
   "execution_count": 52,
   "metadata": {},
   "outputs": [
    {
     "data": {
      "text/plain": [
       "TimeIndex\n",
       "2020-06-11 18:26:05    0.11\n",
       "2020-06-11 18:26:20   -0.05\n",
       "2020-06-11 18:26:35    0.07\n",
       "2020-06-11 18:26:50   -0.06\n",
       "2020-06-11 18:27:05   -0.09\n",
       "                       ... \n",
       "2020-10-22 19:09:34   -0.04\n",
       "2020-10-22 19:09:49    0.02\n",
       "2020-10-22 19:10:49    0.06\n",
       "2020-10-22 19:11:04   -0.07\n",
       "2020-10-22 19:11:19    0.06\n",
       "Name: SPY_Last, Length: 123469, dtype: float64"
      ]
     },
     "execution_count": 52,
     "metadata": {},
     "output_type": "execute_result"
    }
   ],
   "source": [
    "df_test_lagged['SPY_Last']"
   ]
  },
  {
   "cell_type": "code",
   "execution_count": 53,
   "metadata": {},
   "outputs": [
    {
     "data": {
      "text/plain": [
       "TimeIndex\n",
       "2020-06-11 18:25:50    3.000000e-01\n",
       "2020-06-11 18:26:05   -2.500000e-01\n",
       "2020-06-11 18:26:20    1.100000e-01\n",
       "2020-06-11 18:26:35   -3.000000e-02\n",
       "2020-06-11 18:26:50    3.000000e-02\n",
       "                           ...     \n",
       "2020-10-22 19:09:34    3.552714e-15\n",
       "2020-10-22 19:09:49   -1.000000e-02\n",
       "2020-10-22 19:10:49   -3.000000e-02\n",
       "2020-10-22 19:11:04    4.000000e-02\n",
       "2020-10-22 19:11:19   -2.000000e-02\n",
       "Name: VIX_Last, Length: 123470, dtype: float64"
      ]
     },
     "execution_count": 53,
     "metadata": {},
     "output_type": "execute_result"
    }
   ],
   "source": [
    "df_test_sd['VIX_Last']"
   ]
  },
  {
   "cell_type": "code",
   "execution_count": 54,
   "metadata": {},
   "outputs": [],
   "source": [
    "# predict_arima_101_test_sd =res_arima_101.params[0] + res_arima_1.params[1]*df_test_sd['VIX_Last'] + res_arima_1.params[2]*df_test_lagged_sd['SPY_Last'] + res_arima_1.params[3]*df_test_lagged['SPY_Last']+ res_arima_1.params[3]"
   ]
  },
  {
   "cell_type": "code",
   "execution_count": 55,
   "metadata": {},
   "outputs": [
    {
     "data": {
      "text/plain": [
       "-3.2408345313344327e-06"
      ]
     },
     "execution_count": 55,
     "metadata": {},
     "output_type": "execute_result"
    }
   ],
   "source": [
    "res_arima_101.params[0]"
   ]
  },
  {
   "cell_type": "code",
   "execution_count": 56,
   "metadata": {},
   "outputs": [],
   "source": [
    "p = res_arima_101.get_prediction(start=-20)"
   ]
  },
  {
   "cell_type": "code",
   "execution_count": 57,
   "metadata": {},
   "outputs": [
    {
     "data": {
      "text/plain": [
       "432150"
      ]
     },
     "execution_count": 57,
     "metadata": {},
     "output_type": "execute_result"
    }
   ],
   "source": [
    "len(res_arima_101.forecasts[0])"
   ]
  },
  {
   "cell_type": "code",
   "execution_count": 58,
   "metadata": {},
   "outputs": [],
   "source": [
    "# print(p.predictions)"
   ]
  },
  {
   "cell_type": "code",
   "execution_count": 61,
   "metadata": {},
   "outputs": [],
   "source": [
    "# res_arima_101.get_forecast(steps=1)\n",
    "# res_arima_101.get_forecast(steps=1)"
   ]
  },
  {
   "cell_type": "code",
   "execution_count": 62,
   "metadata": {
    "scrolled": true
   },
   "outputs": [],
   "source": [
    "# my_summary.as_latex()"
   ]
  },
  {
   "cell_type": "code",
   "execution_count": 63,
   "metadata": {},
   "outputs": [],
   "source": [
    "# predict_arima_sd = -0.6168*df_train_sd['VIX_Last'] - 0.5331*df_train_lagged['SPY_Last'] + 0.0223 "
   ]
  },
  {
   "cell_type": "code",
   "execution_count": 64,
   "metadata": {},
   "outputs": [
    {
     "name": "stdout",
     "output_type": "stream",
     "text": [
      "-0.6056504416266216\n",
      "-0.5306712130853932\n",
      "0.023637624854561015\n"
     ]
    }
   ],
   "source": [
    "# for i in res_arima_1.params.index:\n",
    "#     if i != 'const':\n",
    "#         res_arima_1.params[i]\n",
    "# res_arima_1.params['const']\n",
    "print(res_arima_1.params[1])\n",
    "print(res_arima_1.params[2])\n",
    "print(res_arima_1.params[3])"
   ]
  },
  {
   "cell_type": "code",
   "execution_count": 65,
   "metadata": {},
   "outputs": [],
   "source": [
    "predict_arima_sd = res_arima_1.params[1]*df_train_sd['VIX_Last'] + res_arima_1.params[2]*df_train_lagged['SPY_Last'] + res_arima_1.params[3]\n",
    "# predict_arima_test_sd = res_arima_1.params[1]*df_test_sd['VIX_Last'] + res_arima_1.params[2]*df_test_lagged['SPY_Last'] + res_arima_1.params[3]"
   ]
  },
  {
   "cell_type": "code",
   "execution_count": 66,
   "metadata": {},
   "outputs": [],
   "source": [
    "sma_20 = df.rolling(20).mean()"
   ]
  },
  {
   "cell_type": "code",
   "execution_count": 67,
   "metadata": {},
   "outputs": [],
   "source": [
    "resid_20 = df - sma_20"
   ]
  },
  {
   "cell_type": "code",
   "execution_count": 68,
   "metadata": {},
   "outputs": [
    {
     "name": "stdout",
     "output_type": "stream",
     "text": [
      "                     SPY_Last  VIX_Last\n",
      "TimeIndex                              \n",
      "2019-01-02 14:31:04       NaN       NaN\n",
      "2019-01-02 14:31:19       NaN       NaN\n",
      "2019-01-02 14:31:34       NaN       NaN\n",
      "2019-01-02 14:31:49       NaN       NaN\n",
      "2019-01-02 14:32:04       NaN       NaN\n",
      "...                       ...       ...\n",
      "2020-12-31 20:58:51   0.10675     0.058\n",
      "2020-12-31 20:59:06   0.26225     0.007\n",
      "2020-12-31 20:59:21   0.14300    -0.023\n",
      "2020-12-31 20:59:36   0.13525     0.033\n",
      "2020-12-31 20:59:51   0.41900    -0.074\n",
      "\n",
      "[617360 rows x 2 columns]\n"
     ]
    }
   ],
   "source": [
    "print(resid_20)"
   ]
  },
  {
   "cell_type": "code",
   "execution_count": 69,
   "metadata": {},
   "outputs": [
    {
     "data": {
      "text/html": [
       "<div>\n",
       "<style scoped>\n",
       "    .dataframe tbody tr th:only-of-type {\n",
       "        vertical-align: middle;\n",
       "    }\n",
       "\n",
       "    .dataframe tbody tr th {\n",
       "        vertical-align: top;\n",
       "    }\n",
       "\n",
       "    .dataframe thead th {\n",
       "        text-align: right;\n",
       "    }\n",
       "</style>\n",
       "<table border=\"1\" class=\"dataframe\">\n",
       "  <thead>\n",
       "    <tr style=\"text-align: right;\">\n",
       "      <th></th>\n",
       "      <th>SPY_Last</th>\n",
       "      <th>VIX_Last</th>\n",
       "    </tr>\n",
       "    <tr>\n",
       "      <th>TimeIndex</th>\n",
       "      <th></th>\n",
       "      <th></th>\n",
       "    </tr>\n",
       "  </thead>\n",
       "  <tbody>\n",
       "    <tr>\n",
       "      <th>2020-10-22 19:11:34</th>\n",
       "      <td>344.080</td>\n",
       "      <td>28.17</td>\n",
       "    </tr>\n",
       "    <tr>\n",
       "      <th>2020-10-22 19:11:49</th>\n",
       "      <td>344.052</td>\n",
       "      <td>28.16</td>\n",
       "    </tr>\n",
       "    <tr>\n",
       "      <th>2020-10-22 19:12:04</th>\n",
       "      <td>344.000</td>\n",
       "      <td>28.16</td>\n",
       "    </tr>\n",
       "    <tr>\n",
       "      <th>2020-10-22 19:12:19</th>\n",
       "      <td>344.000</td>\n",
       "      <td>28.17</td>\n",
       "    </tr>\n",
       "    <tr>\n",
       "      <th>2020-10-22 19:12:49</th>\n",
       "      <td>343.950</td>\n",
       "      <td>28.18</td>\n",
       "    </tr>\n",
       "    <tr>\n",
       "      <th>...</th>\n",
       "      <td>...</td>\n",
       "      <td>...</td>\n",
       "    </tr>\n",
       "    <tr>\n",
       "      <th>2020-12-31 20:58:51</th>\n",
       "      <td>374.260</td>\n",
       "      <td>22.64</td>\n",
       "    </tr>\n",
       "    <tr>\n",
       "      <th>2020-12-31 20:59:06</th>\n",
       "      <td>374.430</td>\n",
       "      <td>22.59</td>\n",
       "    </tr>\n",
       "    <tr>\n",
       "      <th>2020-12-31 20:59:21</th>\n",
       "      <td>374.320</td>\n",
       "      <td>22.56</td>\n",
       "    </tr>\n",
       "    <tr>\n",
       "      <th>2020-12-31 20:59:36</th>\n",
       "      <td>374.320</td>\n",
       "      <td>22.62</td>\n",
       "    </tr>\n",
       "    <tr>\n",
       "      <th>2020-12-31 20:59:51</th>\n",
       "      <td>374.630</td>\n",
       "      <td>22.51</td>\n",
       "    </tr>\n",
       "  </tbody>\n",
       "</table>\n",
       "<p>61736 rows × 2 columns</p>\n",
       "</div>"
      ],
      "text/plain": [
       "                     SPY_Last  VIX_Last\n",
       "TimeIndex                              \n",
       "2020-10-22 19:11:34   344.080     28.17\n",
       "2020-10-22 19:11:49   344.052     28.16\n",
       "2020-10-22 19:12:04   344.000     28.16\n",
       "2020-10-22 19:12:19   344.000     28.17\n",
       "2020-10-22 19:12:49   343.950     28.18\n",
       "...                       ...       ...\n",
       "2020-12-31 20:58:51   374.260     22.64\n",
       "2020-12-31 20:59:06   374.430     22.59\n",
       "2020-12-31 20:59:21   374.320     22.56\n",
       "2020-12-31 20:59:36   374.320     22.62\n",
       "2020-12-31 20:59:51   374.630     22.51\n",
       "\n",
       "[61736 rows x 2 columns]"
      ]
     },
     "execution_count": 69,
     "metadata": {},
     "output_type": "execute_result"
    }
   ],
   "source": [
    "df[int(len(df)*0.9):]"
   ]
  },
  {
   "cell_type": "code",
   "execution_count": 70,
   "metadata": {},
   "outputs": [],
   "source": [
    "predict_arima_test_sd = res_arima_1.params[1]*df_test_sd['VIX_Last'] + res_arima_1.params[2]*df_test_lagged['SPY_Last'] + res_arima_1.params[3]"
   ]
  },
  {
   "cell_type": "code",
   "execution_count": 71,
   "metadata": {},
   "outputs": [
    {
     "data": {
      "text/plain": [
       "TimeIndex\n",
       "2020-06-11 18:25:50         NaN\n",
       "2020-06-11 18:26:05    0.116676\n",
       "2020-06-11 18:26:20   -0.016450\n",
       "2020-06-11 18:26:35    0.004660\n",
       "2020-06-11 18:26:50    0.037308\n",
       "dtype: float64"
      ]
     },
     "execution_count": 71,
     "metadata": {},
     "output_type": "execute_result"
    }
   ],
   "source": [
    "predict_arima_test_sd.head(5)"
   ]
  },
  {
   "cell_type": "code",
   "execution_count": 72,
   "metadata": {},
   "outputs": [
    {
     "data": {
      "text/plain": [
       "TimeIndex\n",
       "2020-06-11 18:25:50    0.11\n",
       "2020-06-11 18:26:05   -0.05\n",
       "2020-06-11 18:26:20    0.07\n",
       "2020-06-11 18:26:35   -0.06\n",
       "2020-06-11 18:26:50   -0.09\n",
       "Name: SPY_Last, dtype: float64"
      ]
     },
     "execution_count": 72,
     "metadata": {},
     "output_type": "execute_result"
    }
   ],
   "source": [
    "df_test_sd['SPY_Last'].head(5)"
   ]
  },
  {
   "cell_type": "code",
   "execution_count": 73,
   "metadata": {},
   "outputs": [
    {
     "data": {
      "text/plain": [
       "<matplotlib.legend.Legend at 0x223069d6b80>"
      ]
     },
     "execution_count": 73,
     "metadata": {},
     "output_type": "execute_result"
    },
    {
     "data": {
      "image/png": "[encoded data removed]",
      "text/plain": [
       "<Figure size 432x288 with 1 Axes>"
      ]
     },
     "metadata": {
      "needs_background": "light"
     },
     "output_type": "display_data"
    }
   ],
   "source": [
    "plt.plot(df_test_sd['SPY_Last'], label='SD SPY Last - Test')\n",
    "plt.plot(predict_arima_test_sd, label='Forecast(1) SD of SPY Last - Test')\n",
    "# plt.plot(df_delta_1, label='Delta')\n",
    "plt.legend()"
   ]
  },
  {
   "cell_type": "code",
   "execution_count": 74,
   "metadata": {},
   "outputs": [],
   "source": [
    "predicted_arima_test_1_undiff = 2*df_test['SPY_Last'].shift(1) - df_test['SPY_Last'].shift(2) + predict_arima_test_sd\n",
    "predicted_arima_test_1_undiff.dropna(inplace=True)"
   ]
  },
  {
   "cell_type": "code",
   "execution_count": 75,
   "metadata": {},
   "outputs": [
    {
     "name": "stdout",
     "output_type": "stream",
     "text": [
      "{'MSE': 0.015538607786140699}\n",
      "{'MAE': 0.0761275176379745}\n"
     ]
    }
   ],
   "source": [
    "print(get_prediction_accuracy('MSE', df_test['SPY_Last'][3:], predicted_arima_test_1_undiff))\n",
    "print(get_prediction_accuracy('MAE', df_test['SPY_Last'][3:], predicted_arima_test_1_undiff))"
   ]
  },
  {
   "cell_type": "code",
   "execution_count": 76,
   "metadata": {},
   "outputs": [
    {
     "name": "stdout",
     "output_type": "stream",
     "text": [
      "sd  {'MSE': 0.01553860778614069}\n",
      "sd  {'MAE': 0.07612751763797448}\n"
     ]
    }
   ],
   "source": [
    "# predict_arima_test_sd.dropna()\n",
    "# Second-differenced datasets are better, more accurate to compare\n",
    "print('sd ', get_prediction_accuracy('MSE', df_test_sd['SPY_Last'][1:], predict_arima_test_sd.dropna()))\n",
    "print('sd ', get_prediction_accuracy('MAE', df_test_sd['SPY_Last'][1:], predict_arima_test_sd.dropna()))"
   ]
  },
  {
   "cell_type": "markdown",
   "metadata": {},
   "source": [
    "ARIMA(1,0,0) seems to be more accurate than VAR(1) and possibly VAR(2) but less accurate than VAR(3) on the out-of-sample dataset"
   ]
  },
  {
   "cell_type": "code",
   "execution_count": 77,
   "metadata": {},
   "outputs": [
    {
     "name": "stderr",
     "output_type": "stream",
     "text": [
      "C:\\Users\\cemre\\anaconda3\\lib\\site-packages\\statsmodels\\tsa\\base\\tsa_model.py:581: ValueWarning: A date index has been provided, but it has no associated frequency information and so will be ignored when e.g. forecasting.\n",
      "  warnings.warn('A date index has been provided, but it has no'\n",
      "C:\\Users\\cemre\\anaconda3\\lib\\site-packages\\statsmodels\\tsa\\base\\tsa_model.py:581: ValueWarning: A date index has been provided, but it has no associated frequency information and so will be ignored when e.g. forecasting.\n",
      "  warnings.warn('A date index has been provided, but it has no'\n",
      "C:\\Users\\cemre\\anaconda3\\lib\\site-packages\\statsmodels\\tsa\\base\\tsa_model.py:581: ValueWarning: A date index has been provided, but it has no associated frequency information and so will be ignored when e.g. forecasting.\n",
      "  warnings.warn('A date index has been provided, but it has no'\n"
     ]
    },
    {
     "name": "stdout",
     "output_type": "stream",
     "text": [
      "                               SARIMAX Results                                \n",
      "==============================================================================\n",
      "Dep. Variable:               SPY_Last   No. Observations:               432150\n",
      "Model:                 ARIMA(2, 0, 0)   Log Likelihood              225948.485\n",
      "Date:                Sat, 17 Apr 2021   AIC                        -451886.971\n",
      "Time:                        20:19:14   BIC                        -451832.088\n",
      "Sample:                             0   HQIC                       -451871.339\n",
      "                             - 432150                                         \n",
      "Covariance Type:                  opg                                         \n",
      "==============================================================================\n",
      "                 coef    std err          z      P>|z|      [0.025      0.975]\n",
      "------------------------------------------------------------------------------\n",
      "const      -5.082e-06      0.000     -0.045      0.964      -0.000       0.000\n",
      "VIX_Last      -0.6513   6.02e-05  -1.08e+04      0.000      -0.651      -0.651\n",
      "ar.L1         -0.7256   5.05e-05  -1.44e+04      0.000      -0.726      -0.726\n",
      "ar.L2         -0.3611   4.34e-05  -8321.762      0.000      -0.361      -0.361\n",
      "sigma2         0.0206   7.77e-07   2.65e+04      0.000       0.021       0.021\n",
      "===================================================================================\n",
      "Ljung-Box (L1) (Q):                3619.84   Jarque-Bera (JB):      992293443655.22\n",
      "Prob(Q):                              0.00   Prob(JB):                         0.00\n",
      "Heteroskedasticity (H):              12.49   Skew:                           -27.75\n",
      "Prob(H) (two-sided):                  0.00   Kurtosis:                      7426.29\n",
      "===================================================================================\n",
      "\n",
      "Warnings:\n",
      "[1] Covariance matrix calculated using the outer product of gradients (complex-step).\n"
     ]
    }
   ],
   "source": [
    "'''Let us try ARIMA(2,0,0)'''\n",
    "arima_2 = ARIMA(df_train_sd['SPY_Last'], df_train_sd['VIX_Last'], order=(2,0,0))\n",
    "res_arima_2 = arima_2.fit()\n",
    "print(res_arima_2.summary())"
   ]
  },
  {
   "cell_type": "code",
   "execution_count": 311,
   "metadata": {},
   "outputs": [
    {
     "name": "stderr",
     "output_type": "stream",
     "text": [
      "C:\\Users\\cemre\\anaconda3\\lib\\site-packages\\statsmodels\\tsa\\base\\tsa_model.py:581: ValueWarning: A date index has been provided, but it has no associated frequency information and so will be ignored when e.g. forecasting.\n",
      "  warnings.warn('A date index has been provided, but it has no'\n",
      "C:\\Users\\cemre\\anaconda3\\lib\\site-packages\\statsmodels\\tsa\\base\\tsa_model.py:581: ValueWarning: A date index has been provided, but it has no associated frequency information and so will be ignored when e.g. forecasting.\n",
      "  warnings.warn('A date index has been provided, but it has no'\n",
      "C:\\Users\\cemre\\anaconda3\\lib\\site-packages\\statsmodels\\tsa\\base\\tsa_model.py:581: ValueWarning: A date index has been provided, but it has no associated frequency information and so will be ignored when e.g. forecasting.\n",
      "  warnings.warn('A date index has been provided, but it has no'\n"
     ]
    },
    {
     "name": "stdout",
     "output_type": "stream",
     "text": [
      "                               SARIMAX Results                                \n",
      "==============================================================================\n",
      "Dep. Variable:               SPY_Last   No. Observations:               432152\n",
      "Model:                 ARIMA(2, 1, 1)   Log Likelihood              293764.089\n",
      "Date:                Sat, 17 Apr 2021   AIC                        -587518.179\n",
      "Time:                        23:47:02   BIC                        -587463.296\n",
      "Sample:                             0   HQIC                       -587502.547\n",
      "                             - 432152                                         \n",
      "Covariance Type:                  opg                                         \n",
      "==============================================================================\n",
      "                 coef    std err          z      P>|z|      [0.025      0.975]\n",
      "------------------------------------------------------------------------------\n",
      "VIX_Last      -0.6930   4.26e-05  -1.63e+04      0.000      -0.693      -0.693\n",
      "ar.L1          0.0893      0.010      9.310      0.000       0.071       0.108\n",
      "ar.L2         -0.0100      0.001     -9.543      0.000      -0.012      -0.008\n",
      "ma.L1         -0.1873      0.010    -19.512      0.000      -0.206      -0.168\n",
      "sigma2         0.0150   4.29e-07   3.51e+04      0.000       0.015       0.015\n",
      "===================================================================================\n",
      "Ljung-Box (L1) (Q):                   0.00   Jarque-Bera (JB):     3169895059564.78\n",
      "Prob(Q):                              0.97   Prob(JB):                         0.00\n",
      "Heteroskedasticity (H):              12.84   Skew:                           -49.09\n",
      "Prob(H) (two-sided):                  0.00   Kurtosis:                     13270.78\n",
      "===================================================================================\n",
      "\n",
      "Warnings:\n",
      "[1] Covariance matrix calculated using the outer product of gradients (complex-step).\n"
     ]
    }
   ],
   "source": [
    "'''Let us try ARIMA(2,1,1)'''\n",
    "arima_22 = ARIMA(df_train['SPY_Last'], df_train['VIX_Last'], order=(2,1,1))\n",
    "res_arima_22 = arima_22.fit()\n",
    "print(res_arima_22.summary())"
   ]
  },
  {
   "cell_type": "code",
   "execution_count": 312,
   "metadata": {},
   "outputs": [
    {
     "name": "stderr",
     "output_type": "stream",
     "text": [
      "C:\\Users\\cemre\\anaconda3\\lib\\site-packages\\statsmodels\\tsa\\base\\tsa_model.py:581: ValueWarning: A date index has been provided, but it has no associated frequency information and so will be ignored when e.g. forecasting.\n",
      "  warnings.warn('A date index has been provided, but it has no'\n",
      "C:\\Users\\cemre\\anaconda3\\lib\\site-packages\\statsmodels\\tsa\\base\\tsa_model.py:581: ValueWarning: A date index has been provided, but it has no associated frequency information and so will be ignored when e.g. forecasting.\n",
      "  warnings.warn('A date index has been provided, but it has no'\n",
      "C:\\Users\\cemre\\anaconda3\\lib\\site-packages\\statsmodels\\tsa\\base\\tsa_model.py:581: ValueWarning: A date index has been provided, but it has no associated frequency information and so will be ignored when e.g. forecasting.\n",
      "  warnings.warn('A date index has been provided, but it has no'\n"
     ]
    },
    {
     "name": "stdout",
     "output_type": "stream",
     "text": [
      "                               SARIMAX Results                                \n",
      "==============================================================================\n",
      "Dep. Variable:               SPY_Last   No. Observations:               432152\n",
      "Model:                 ARIMA(2, 1, 1)   Log Likelihood              293764.089\n",
      "Date:                Sat, 17 Apr 2021   AIC                        -587518.179\n",
      "Time:                        23:47:49   BIC                        -587463.296\n",
      "Sample:                             0   HQIC                       -587502.547\n",
      "                             - 432152                                         \n",
      "Covariance Type:                  opg                                         \n",
      "==============================================================================\n",
      "                 coef    std err          z      P>|z|      [0.025      0.975]\n",
      "------------------------------------------------------------------------------\n",
      "VIX_Last      -0.6930   4.26e-05  -1.63e+04      0.000      -0.693      -0.693\n",
      "ar.L1          0.0893      0.010      9.310      0.000       0.071       0.108\n",
      "ar.L2         -0.0100      0.001     -9.543      0.000      -0.012      -0.008\n",
      "ma.L1         -0.1873      0.010    -19.512      0.000      -0.206      -0.168\n",
      "sigma2         0.0150   4.29e-07   3.51e+04      0.000       0.015       0.015\n",
      "===================================================================================\n",
      "Ljung-Box (L1) (Q):                   0.00   Jarque-Bera (JB):     3169895059564.78\n",
      "Prob(Q):                              0.97   Prob(JB):                         0.00\n",
      "Heteroskedasticity (H):              12.84   Skew:                           -49.09\n",
      "Prob(H) (two-sided):                  0.00   Kurtosis:                     13270.78\n",
      "===================================================================================\n",
      "\n",
      "Warnings:\n",
      "[1] Covariance matrix calculated using the outer product of gradients (complex-step).\n"
     ]
    }
   ],
   "source": [
    "'''Let us try ARIMA(2,1,1)'''\n",
    "arima_validation_22 = ARIMA(df_validation['SPY_Last'], df_validation['VIX_Last'], order=(2,1,1))\n",
    "res_arima_validation_22 = arima_22.filter(res_arima_22.params)\n",
    "print(res_arima_validation_22.summary())"
   ]
  },
  {
   "cell_type": "code",
   "execution_count": 313,
   "metadata": {},
   "outputs": [
    {
     "name": "stderr",
     "output_type": "stream",
     "text": [
      "C:\\Users\\cemre\\anaconda3\\lib\\site-packages\\statsmodels\\tsa\\base\\tsa_model.py:376: ValueWarning: No supported index is available. Prediction results will be given with an integer index beginning at `start`.\n",
      "  warnings.warn('No supported index is available.'\n"
     ]
    }
   ],
   "source": [
    "arima_22_forecast = res_arima_validation_22.forecast(steps=1, exog=df_validation_fd['VIX_Last'].iloc[5])"
   ]
  },
  {
   "cell_type": "code",
   "execution_count": 322,
   "metadata": {},
   "outputs": [
    {
     "name": "stdout",
     "output_type": "stream",
     "text": [
      "Empty DataFrame\n",
      "Columns: []\n",
      "Index: []\n"
     ]
    }
   ],
   "source": [
    "import warnings\n",
    "warnings.filterwarnings('ignore')\n",
    "\n",
    "arima_22 = []\n",
    "for i in range(len(df_validation)):\n",
    "    arima_22.append(res_arima_validation_22.forecast(steps=1, exog=df_validation['VIX_Last'].iloc[i]))\n",
    "print(arima_22_forecast)"
   ]
  },
  {
   "cell_type": "code",
   "execution_count": 348,
   "metadata": {},
   "outputs": [
    {
     "data": {
      "text/html": [
       "<div>\n",
       "<style scoped>\n",
       "    .dataframe tbody tr th:only-of-type {\n",
       "        vertical-align: middle;\n",
       "    }\n",
       "\n",
       "    .dataframe tbody tr th {\n",
       "        vertical-align: top;\n",
       "    }\n",
       "\n",
       "    .dataframe thead th {\n",
       "        text-align: right;\n",
       "    }\n",
       "</style>\n",
       "<table border=\"1\" class=\"dataframe\">\n",
       "  <thead>\n",
       "    <tr style=\"text-align: right;\">\n",
       "      <th></th>\n",
       "      <th>arima</th>\n",
       "    </tr>\n",
       "    <tr>\n",
       "      <th>TimeIndex</th>\n",
       "      <th></th>\n",
       "    </tr>\n",
       "  </thead>\n",
       "  <tbody>\n",
       "    <tr>\n",
       "      <th>2020-10-22 19:11:34</th>\n",
       "      <td>309.614204</td>\n",
       "    </tr>\n",
       "    <tr>\n",
       "      <th>2020-10-22 19:11:49</th>\n",
       "      <td>309.621134</td>\n",
       "    </tr>\n",
       "    <tr>\n",
       "      <th>2020-10-22 19:12:04</th>\n",
       "      <td>309.621134</td>\n",
       "    </tr>\n",
       "    <tr>\n",
       "      <th>2020-10-22 19:12:19</th>\n",
       "      <td>309.614204</td>\n",
       "    </tr>\n",
       "    <tr>\n",
       "      <th>2020-10-22 19:12:49</th>\n",
       "      <td>309.607274</td>\n",
       "    </tr>\n",
       "    <tr>\n",
       "      <th>...</th>\n",
       "      <td>...</td>\n",
       "    </tr>\n",
       "    <tr>\n",
       "      <th>2020-12-31 20:58:51</th>\n",
       "      <td>313.446476</td>\n",
       "    </tr>\n",
       "    <tr>\n",
       "      <th>2020-12-31 20:59:06</th>\n",
       "      <td>313.481126</td>\n",
       "    </tr>\n",
       "    <tr>\n",
       "      <th>2020-12-31 20:59:21</th>\n",
       "      <td>313.501916</td>\n",
       "    </tr>\n",
       "    <tr>\n",
       "      <th>2020-12-31 20:59:36</th>\n",
       "      <td>313.460336</td>\n",
       "    </tr>\n",
       "    <tr>\n",
       "      <th>2020-12-31 20:59:51</th>\n",
       "      <td>313.536565</td>\n",
       "    </tr>\n",
       "  </tbody>\n",
       "</table>\n",
       "<p>61736 rows × 1 columns</p>\n",
       "</div>"
      ],
      "text/plain": [
       "                          arima\n",
       "TimeIndex                      \n",
       "2020-10-22 19:11:34  309.614204\n",
       "2020-10-22 19:11:49  309.621134\n",
       "2020-10-22 19:12:04  309.621134\n",
       "2020-10-22 19:12:19  309.614204\n",
       "2020-10-22 19:12:49  309.607274\n",
       "...                         ...\n",
       "2020-12-31 20:58:51  313.446476\n",
       "2020-12-31 20:59:06  313.481126\n",
       "2020-12-31 20:59:21  313.501916\n",
       "2020-12-31 20:59:36  313.460336\n",
       "2020-12-31 20:59:51  313.536565\n",
       "\n",
       "[61736 rows x 1 columns]"
      ]
     },
     "execution_count": 348,
     "metadata": {},
     "output_type": "execute_result"
    }
   ],
   "source": [
    "ar = []\n",
    "for i in range(len(arima_22)):\n",
    "    ar.append(arima_22[i].iloc[0])\n",
    "arima_22_forecast = pd.DataFrame(index=df_validation['VIX_Last'].index)\n",
    "arima_22_forecast = pd.DataFrame({'arima':ar}, index=df_validation['VIX_Last'].index)\n",
    "arima_22_forecast"
   ]
  },
  {
   "cell_type": "code",
   "execution_count": 346,
   "metadata": {},
   "outputs": [
    {
     "data": {
      "text/plain": [
       "[309.614204006251,\n",
       " 309.6211339734354,\n",
       " 309.6211339734354,\n",
       " 309.614204006251,\n",
       " 309.60727403906657,\n",
       " 309.60727403906657,\n",
       " 309.60727403906657,\n",
       " 309.614204006251,\n",
       " 309.60727403906657,\n",
       " 309.6211339734354,\n",
       " 309.6211339734354,\n",
       " 309.6211339734354,\n",
       " 309.6211339734354,\n",
       " 309.6280639406198,\n",
       " 309.6280639406198,\n",
       " 309.6419238749886,\n",
       " 309.65578380935744,\n",
       " 309.6627137765418,\n",
       " 309.6696437437262,\n",
       " 309.6696437437262,\n",
       " 309.67657371091065,\n",
       " 309.70429357964827,\n",
       " 309.70429357964827,\n",
       " 309.6904336452794,\n",
       " 309.6904336452794,\n",
       " 309.70429357964827,\n",
       " 309.71815351401705,\n",
       " 309.72508348120147,\n",
       " 309.72508348120147,\n",
       " 309.7320134483859,\n",
       " 309.72508348120147,\n",
       " 309.7320134483859,\n",
       " 309.72508348120147,\n",
       " 309.72508348120147,\n",
       " 309.72508348120147,\n",
       " 309.72508348120147,\n",
       " 309.72508348120147,\n",
       " 309.71815351401705,\n",
       " 309.71815351401705,\n",
       " 309.71815351401705,\n",
       " 309.7320134483859,\n",
       " 309.7389434155703,\n",
       " 309.7389434155703,\n",
       " 309.7320134483859,\n",
       " 309.7320134483859,\n",
       " 309.72508348120147,\n",
       " 309.7320134483859,\n",
       " 309.74587338275467,\n",
       " 309.74587338275467,\n",
       " 309.74587338275467,\n",
       " 309.7389434155703,\n",
       " 309.74587338275467,\n",
       " 309.7666632843079,\n",
       " 309.7874531858611,\n",
       " 309.7874531858611,\n",
       " 309.7735932514923,\n",
       " 309.7805232186767,\n",
       " 309.7805232186767,\n",
       " 309.79438315304554,\n",
       " 309.79438315304554,\n",
       " 309.7874531858611,\n",
       " 309.7874531858611,\n",
       " 309.79438315304554,\n",
       " 309.79438315304554,\n",
       " 309.79438315304554,\n",
       " 309.8013131202299,\n",
       " 309.8082430874143,\n",
       " 309.8082430874143,\n",
       " 309.8013131202299,\n",
       " 309.81517305459874,\n",
       " 309.8082430874143,\n",
       " 309.81517305459874,\n",
       " 309.83596295615195,\n",
       " 309.83596295615195,\n",
       " 309.8290329889676,\n",
       " 309.84289292333636,\n",
       " 309.84289292333636,\n",
       " 309.83596295615195,\n",
       " 309.8775427592584,\n",
       " 309.870612792074,\n",
       " 309.8844727264428,\n",
       " 309.8775427592584,\n",
       " 309.870612792074,\n",
       " 309.8775427592584,\n",
       " 309.870612792074,\n",
       " 309.8775427592584,\n",
       " 309.8775427592584,\n",
       " 309.870612792074,\n",
       " 309.8775427592584,\n",
       " 309.8844727264428,\n",
       " 309.8775427592584,\n",
       " 309.86368282488957,\n",
       " 309.86368282488957,\n",
       " 309.83596295615195,\n",
       " 309.81517305459874,\n",
       " 309.79438315304554,\n",
       " 309.7874531858611,\n",
       " 309.7874531858611,\n",
       " 309.79438315304554,\n",
       " 309.81517305459874,\n",
       " 309.81517305459874,\n",
       " 309.8082430874143,\n",
       " 309.79438315304554,\n",
       " 309.7874531858611,\n",
       " 309.79438315304554,\n",
       " 309.7735932514923,\n",
       " 309.7735932514923,\n",
       " 309.7735932514923,\n",
       " 309.7597333171235,\n",
       " 309.74587338275467,\n",
       " 309.7112235468327,\n",
       " 309.7112235468327,\n",
       " 309.71815351401705,\n",
       " 309.7112235468327,\n",
       " 309.69736361246385,\n",
       " 309.70429357964827,\n",
       " 309.70429357964827,\n",
       " 309.70429357964827,\n",
       " 309.70429357964827,\n",
       " 309.70429357964827,\n",
       " 309.71815351401705,\n",
       " 309.7112235468327,\n",
       " 309.72508348120147,\n",
       " 309.72508348120147,\n",
       " 309.71815351401705,\n",
       " 309.72508348120147,\n",
       " 309.72508348120147,\n",
       " 309.72508348120147,\n",
       " 309.7112235468327,\n",
       " 309.7112235468327,\n",
       " 309.7112235468327,\n",
       " 309.71815351401705,\n",
       " 309.7528033499391,\n",
       " 309.7666632843079,\n",
       " 309.7528033499391,\n",
       " 309.74587338275467,\n",
       " 309.74587338275467,\n",
       " 309.7320134483859,\n",
       " 309.7389434155703,\n",
       " 309.7389434155703,\n",
       " 309.74587338275467,\n",
       " 309.74587338275467,\n",
       " 309.7528033499391,\n",
       " 309.7528033499391,\n",
       " 309.7597333171235,\n",
       " 309.7528033499391,\n",
       " 309.7666632843079,\n",
       " 309.7805232186767,\n",
       " 309.79438315304554,\n",
       " 309.8290329889676,\n",
       " 309.83596295615195,\n",
       " 309.81517305459874,\n",
       " 309.81517305459874,\n",
       " 309.7805232186767,\n",
       " 309.8082430874143,\n",
       " 309.79438315304554,\n",
       " 309.7735932514923,\n",
       " 309.7874531858611,\n",
       " 309.7735932514923,\n",
       " 309.7805232186767,\n",
       " 309.8082430874143,\n",
       " 309.82210302178316,\n",
       " 309.8082430874143,\n",
       " 309.8013131202299,\n",
       " 309.7874531858611,\n",
       " 309.79438315304554,\n",
       " 309.8013131202299,\n",
       " 309.8082430874143,\n",
       " 309.81517305459874,\n",
       " 309.82210302178316,\n",
       " 309.82210302178316,\n",
       " 309.9884222342089,\n",
       " 309.9884222342089,\n",
       " 309.9884222342089,\n",
       " 309.93991246391806,\n",
       " 309.95377239828684,\n",
       " 309.93298249673364,\n",
       " 309.9468424311024,\n",
       " 309.95377239828684,\n",
       " 309.9468424311024,\n",
       " 309.95377239828684,\n",
       " 309.96070236547126,\n",
       " 309.96070236547126,\n",
       " 309.95377239828684,\n",
       " 309.93991246391806,\n",
       " 309.95377239828684,\n",
       " 309.93991246391806,\n",
       " 309.9676323326557,\n",
       " 309.93991246391806,\n",
       " 309.905262627996,\n",
       " 309.9260525295492,\n",
       " 309.9260525295492,\n",
       " 309.9260525295492,\n",
       " 309.9260525295492,\n",
       " 309.93298249673364,\n",
       " 309.91219259518044,\n",
       " 309.9191225623648,\n",
       " 309.905262627996,\n",
       " 309.8914026936272,\n",
       " 309.8914026936272,\n",
       " 309.8983326608116,\n",
       " 309.8983326608116,\n",
       " 309.905262627996,\n",
       " 309.8983326608116,\n",
       " 309.8914026936272,\n",
       " 309.8983326608116,\n",
       " 309.9191225623648,\n",
       " 309.905262627996,\n",
       " 309.8844727264428,\n",
       " 309.8844727264428,\n",
       " 309.905262627996,\n",
       " 309.91219259518044,\n",
       " 309.9191225623648,\n",
       " 309.96070236547126,\n",
       " 309.93991246391806,\n",
       " 309.93298249673364,\n",
       " 309.93991246391806,\n",
       " 309.9468424311024,\n",
       " 309.9260525295492,\n",
       " 309.9191225623648,\n",
       " 309.93298249673364,\n",
       " 309.9260525295492,\n",
       " 309.9468424311024,\n",
       " 309.9468424311024,\n",
       " 309.9468424311024,\n",
       " 309.96070236547126,\n",
       " 309.9468424311024,\n",
       " 309.9260525295492,\n",
       " 309.9468424311024,\n",
       " 309.93298249673364,\n",
       " 309.93991246391806,\n",
       " 309.96070236547126,\n",
       " 309.96070236547126,\n",
       " 309.96070236547126,\n",
       " 309.9468424311024,\n",
       " 309.9676323326557,\n",
       " 309.98149226702446,\n",
       " 309.9676323326557,\n",
       " 309.9676323326557,\n",
       " 309.9468424311024,\n",
       " 309.93991246391806,\n",
       " 309.9191225623648,\n",
       " 309.9191225623648,\n",
       " 309.91219259518044,\n",
       " 309.9191225623648,\n",
       " 309.8983326608116,\n",
       " 309.8983326608116,\n",
       " 309.8983326608116,\n",
       " 309.8914026936272,\n",
       " 309.91219259518044,\n",
       " 309.9260525295492,\n",
       " 309.9191225623648,\n",
       " 309.9468424311024,\n",
       " 309.96070236547126,\n",
       " 309.95377239828684,\n",
       " 309.95377239828684,\n",
       " 309.9676323326557,\n",
       " 309.96070236547126,\n",
       " 309.96070236547126,\n",
       " 309.96070236547126,\n",
       " 309.97456229984004,\n",
       " 310.00228216857766,\n",
       " 310.00228216857766,\n",
       " 309.97456229984004,\n",
       " 309.98149226702446,\n",
       " 309.97456229984004,\n",
       " 309.9676323326557,\n",
       " 309.96070236547126,\n",
       " 309.95377239828684,\n",
       " 309.9468424311024,\n",
       " 309.93298249673364,\n",
       " 309.93298249673364,\n",
       " 309.93298249673364,\n",
       " 309.9468424311024,\n",
       " 309.8914026936272,\n",
       " 309.8844727264428,\n",
       " 309.8914026936272,\n",
       " 309.870612792074,\n",
       " 309.8775427592584,\n",
       " 309.8567528577052,\n",
       " 309.83596295615195,\n",
       " 309.82210302178316,\n",
       " 309.8290329889676,\n",
       " 309.8013131202299,\n",
       " 309.7735932514923,\n",
       " 309.7597333171235,\n",
       " 309.7666632843079,\n",
       " 309.7735932514923,\n",
       " 309.8013131202299,\n",
       " 309.7874531858611,\n",
       " 309.7805232186767,\n",
       " 309.79438315304554,\n",
       " 309.7805232186767,\n",
       " 309.7735932514923,\n",
       " 309.7597333171235,\n",
       " 309.7735932514923,\n",
       " 309.7735932514923,\n",
       " 309.7666632843079,\n",
       " 309.7528033499391,\n",
       " 309.7528033499391,\n",
       " 309.74587338275467,\n",
       " 309.7666632843079,\n",
       " 309.7597333171235,\n",
       " 309.7597333171235,\n",
       " 309.7666632843079,\n",
       " 309.7666632843079,\n",
       " 309.7528033499391,\n",
       " 309.7389434155703,\n",
       " 309.7389434155703,\n",
       " 309.74587338275467,\n",
       " 309.7389434155703,\n",
       " 309.7320134483859,\n",
       " 309.74587338275467,\n",
       " 309.74587338275467,\n",
       " 309.7389434155703,\n",
       " 309.74587338275467,\n",
       " 309.7389434155703,\n",
       " 309.72508348120147,\n",
       " 309.72508348120147,\n",
       " 309.7320134483859,\n",
       " 309.7389434155703,\n",
       " 309.72508348120147,\n",
       " 309.74587338275467,\n",
       " 309.7597333171235,\n",
       " 309.79438315304554,\n",
       " 309.8013131202299,\n",
       " 309.8082430874143,\n",
       " 309.81517305459874,\n",
       " 309.8290329889676,\n",
       " 309.82210302178316,\n",
       " 309.81517305459874,\n",
       " 309.8082430874143,\n",
       " 309.8013131202299,\n",
       " 309.7874531858611,\n",
       " 309.79438315304554,\n",
       " 309.79438315304554,\n",
       " 309.7666632843079,\n",
       " 309.7735932514923,\n",
       " 309.7805232186767,\n",
       " 309.7874531858611,\n",
       " 309.7805232186767,\n",
       " 309.7805232186767,\n",
       " 309.7874531858611,\n",
       " 309.7874531858611,\n",
       " 309.7735932514923,\n",
       " 309.7597333171235,\n",
       " 309.7528033499391,\n",
       " 309.7597333171235,\n",
       " 309.74587338275467,\n",
       " 309.7528033499391,\n",
       " 309.7666632843079,\n",
       " 309.7528033499391,\n",
       " 309.72508348120147,\n",
       " 309.7320134483859,\n",
       " 309.7320134483859,\n",
       " 309.7320134483859,\n",
       " 309.7320134483859,\n",
       " 309.72508348120147,\n",
       " 309.70429357964827,\n",
       " 309.6904336452794,\n",
       " 309.67657371091065,\n",
       " 309.6696437437262,\n",
       " 309.6419238749886,\n",
       " 309.6003440718822,\n",
       " 309.614204006251,\n",
       " 309.5934141046978,\n",
       " 309.614204006251,\n",
       " 309.5934141046978,\n",
       " 309.5934141046978,\n",
       " 309.57955417032895,\n",
       " 309.57955417032895,\n",
       " 309.614204006251,\n",
       " 309.6211339734354,\n",
       " 309.614204006251,\n",
       " 309.614204006251,\n",
       " 309.614204006251,\n",
       " 309.6211339734354,\n",
       " 309.6211339734354,\n",
       " 309.6349939078042,\n",
       " 309.648853842173,\n",
       " 309.648853842173,\n",
       " 309.6419238749886,\n",
       " 309.6349939078042,\n",
       " 309.6349939078042,\n",
       " 309.6349939078042,\n",
       " 309.6280639406198,\n",
       " 309.60727403906657,\n",
       " 309.6349939078042,\n",
       " 309.6419238749886,\n",
       " 309.6419238749886,\n",
       " 309.648853842173,\n",
       " 309.65578380935744,\n",
       " 309.648853842173,\n",
       " 309.6627137765418,\n",
       " 309.6627137765418,\n",
       " 309.6696437437262,\n",
       " 309.6627137765418,\n",
       " 309.6627137765418,\n",
       " 309.6696437437262,\n",
       " 309.68350367809506,\n",
       " 309.68350367809506,\n",
       " 309.6696437437262,\n",
       " 309.6696437437262,\n",
       " 309.6627137765418,\n",
       " 309.6419238749886,\n",
       " 309.65578380935744,\n",
       " 309.648853842173,\n",
       " 309.65578380935744,\n",
       " 309.6696437437262,\n",
       " 309.68350367809506,\n",
       " 309.6904336452794,\n",
       " 309.6904336452794,\n",
       " 309.68350367809506,\n",
       " 309.6904336452794,\n",
       " 309.68350367809506,\n",
       " 309.6696437437262,\n",
       " 309.65578380935744,\n",
       " 309.6627137765418,\n",
       " 309.67657371091065,\n",
       " 309.6904336452794,\n",
       " 309.6904336452794,\n",
       " 309.67657371091065,\n",
       " 309.67657371091065,\n",
       " 309.65578380935744,\n",
       " 309.65578380935744,\n",
       " 309.65578380935744,\n",
       " 309.65578380935744,\n",
       " 309.65578380935744,\n",
       " 309.6627137765418,\n",
       " 309.648853842173,\n",
       " 309.6211339734354,\n",
       " 309.6003440718822,\n",
       " 309.60727403906657,\n",
       " 309.614204006251,\n",
       " 309.5726242031445,\n",
       " 309.5726242031445,\n",
       " 309.57955417032895,\n",
       " 309.6003440718822,\n",
       " 309.6003440718822,\n",
       " 309.60727403906657,\n",
       " 309.5934141046978,\n",
       " 309.60727403906657,\n",
       " 309.60727403906657,\n",
       " 309.5934141046978,\n",
       " 309.60727403906657,\n",
       " 309.6003440718822,\n",
       " 309.6003440718822,\n",
       " 309.5934141046978,\n",
       " 309.5726242031445,\n",
       " 309.56569423596017,\n",
       " 309.5726242031445,\n",
       " 309.5934141046978,\n",
       " 309.58648413751337,\n",
       " 309.5726242031445,\n",
       " 309.5726242031445,\n",
       " 309.55876426877575,\n",
       " 309.55876426877575,\n",
       " 309.5518343015913,\n",
       " 309.53797436722255,\n",
       " 309.5171844656693,\n",
       " 309.5171844656693,\n",
       " 309.5102544984849,\n",
       " 309.4963945641161,\n",
       " 309.4756046625629,\n",
       " 309.46174472819405,\n",
       " 309.4825346297473,\n",
       " 309.4825346297473,\n",
       " 309.4963945641161,\n",
       " 309.4963945641161,\n",
       " 309.48946459693167,\n",
       " 309.48946459693167,\n",
       " 309.5033245313005,\n",
       " 309.5033245313005,\n",
       " 309.5171844656693,\n",
       " 309.5102544984849,\n",
       " 309.5102544984849,\n",
       " 309.5033245313005,\n",
       " 309.5102544984849,\n",
       " 309.5033245313005,\n",
       " 309.5033245313005,\n",
       " 309.5102544984849,\n",
       " 309.5171844656693,\n",
       " 309.5102544984849,\n",
       " 309.5241144328537,\n",
       " 309.5310444000381,\n",
       " 309.54490433440697,\n",
       " 309.53797436722255,\n",
       " 309.5310444000381,\n",
       " 309.5241144328537,\n",
       " 309.5102544984849,\n",
       " 309.4963945641161,\n",
       " 309.4963945641161,\n",
       " 309.5033245313005,\n",
       " 309.5171844656693,\n",
       " 309.5241144328537,\n",
       " 309.53797436722255,\n",
       " 309.54490433440697,\n",
       " 309.5518343015913,\n",
       " 309.54490433440697,\n",
       " 309.54490433440697,\n",
       " 309.53797436722255,\n",
       " 309.5310444000381,\n",
       " 309.5241144328537,\n",
       " 309.5310444000381,\n",
       " 309.5310444000381,\n",
       " 309.5310444000381,\n",
       " 309.5102544984849,\n",
       " 309.5102544984849,\n",
       " 309.5310444000381,\n",
       " 309.5310444000381,\n",
       " 309.5241144328537,\n",
       " 309.5310444000381,\n",
       " 309.54490433440697,\n",
       " 309.57955417032895,\n",
       " 309.5241144328537,\n",
       " 309.5310444000381,\n",
       " 309.55876426877575,\n",
       " 309.56569423596017,\n",
       " 309.5726242031445,\n",
       " 309.57955417032895,\n",
       " 309.5934141046978,\n",
       " 309.58648413751337,\n",
       " 309.5934141046978,\n",
       " 309.614204006251,\n",
       " 309.6280639406198,\n",
       " 309.614204006251,\n",
       " 309.614204006251,\n",
       " 309.614204006251,\n",
       " 309.60727403906657,\n",
       " 309.6211339734354,\n",
       " 309.6349939078042,\n",
       " 309.6280639406198,\n",
       " 309.6349939078042,\n",
       " 309.6211339734354,\n",
       " 309.6211339734354,\n",
       " 309.6211339734354,\n",
       " 309.60727403906657,\n",
       " 309.614204006251,\n",
       " 309.614204006251,\n",
       " 309.614204006251,\n",
       " 309.614204006251,\n",
       " 309.614204006251,\n",
       " 309.614204006251,\n",
       " 309.6003440718822,\n",
       " 309.6003440718822,\n",
       " 309.60727403906657,\n",
       " 309.60727403906657,\n",
       " 309.5726242031445,\n",
       " 309.56569423596017,\n",
       " 309.5033245313005,\n",
       " 309.46174472819405,\n",
       " 309.4756046625629,\n",
       " 309.43402485945643,\n",
       " 309.42016492508765,\n",
       " 309.43402485945643,\n",
       " 309.42016492508765,\n",
       " 309.42016492508765,\n",
       " 309.42709489227207,\n",
       " 309.43402485945643,\n",
       " 309.44095482664085,\n",
       " 309.43402485945643,\n",
       " 309.42016492508765,\n",
       " 309.4132349579032,\n",
       " 309.4063049907188,\n",
       " 309.4132349579032,\n",
       " 309.4063049907188,\n",
       " 309.4132349579032,\n",
       " 309.4063049907188,\n",
       " 309.39937502353445,\n",
       " 309.39937502353445,\n",
       " 309.4063049907188,\n",
       " 309.42709489227207,\n",
       " 309.46867469537847,\n",
       " 309.4825346297473,\n",
       " 309.4825346297473,\n",
       " 309.4963945641161,\n",
       " 309.5171844656693,\n",
       " 309.5310444000381,\n",
       " 309.5171844656693,\n",
       " 309.5241144328537,\n",
       " 309.5310444000381,\n",
       " 309.53797436722255,\n",
       " 309.53797436722255,\n",
       " 309.54490433440697,\n",
       " 309.5310444000381,\n",
       " 309.5310444000381,\n",
       " 309.5241144328537,\n",
       " 309.53797436722255,\n",
       " 309.5241144328537,\n",
       " 309.54490433440697,\n",
       " 309.54490433440697,\n",
       " 309.5726242031445,\n",
       " 309.55876426877575,\n",
       " 309.5726242031445,\n",
       " 309.5726242031445,\n",
       " 309.54490433440697,\n",
       " 309.53797436722255,\n",
       " 309.55876426877575,\n",
       " 309.54490433440697,\n",
       " 309.55876426877575,\n",
       " 309.54490433440697,\n",
       " 309.53797436722255,\n",
       " 309.56569423596017,\n",
       " 309.55876426877575,\n",
       " 309.55876426877575,\n",
       " 309.55876426877575,\n",
       " 309.54490433440697,\n",
       " 309.53797436722255,\n",
       " 309.53797436722255,\n",
       " 309.53797436722255,\n",
       " 309.53797436722255,\n",
       " 309.53797436722255,\n",
       " 309.5310444000381,\n",
       " 309.5102544984849,\n",
       " 309.5241144328537,\n",
       " 309.4963945641161,\n",
       " 309.4963945641161,\n",
       " 309.5033245313005,\n",
       " 309.5033245313005,\n",
       " 309.5241144328537,\n",
       " 309.5310444000381,\n",
       " 309.53797436722255,\n",
       " 309.53797436722255,\n",
       " 309.5518343015913,\n",
       " 309.53797436722255,\n",
       " 309.53797436722255,\n",
       " 309.5518343015913,\n",
       " 309.53797436722255,\n",
       " 309.5241144328537,\n",
       " 309.5102544984849,\n",
       " 309.5171844656693,\n",
       " 309.5102544984849,\n",
       " 309.5102544984849,\n",
       " 309.5102544984849,\n",
       " 309.5241144328537,\n",
       " 309.5102544984849,\n",
       " 309.46174472819405,\n",
       " 309.42709489227207,\n",
       " 309.42709489227207,\n",
       " 309.42709489227207,\n",
       " 309.43402485945643,\n",
       " 309.42016492508765,\n",
       " 309.39937502353445,\n",
       " 309.39937502353445,\n",
       " 309.4063049907188,\n",
       " 309.4063049907188,\n",
       " 309.3855150891656,\n",
       " 309.3716551547968,\n",
       " 309.3647251876124,\n",
       " 309.3647251876124,\n",
       " 309.3647251876124,\n",
       " 309.357795220428,\n",
       " 309.357795220428,\n",
       " 309.3785851219812,\n",
       " 309.3855150891656,\n",
       " 309.39937502353445,\n",
       " 309.3855150891656,\n",
       " 309.3785851219812,\n",
       " 309.3785851219812,\n",
       " 309.3647251876124,\n",
       " 309.39244505635,\n",
       " 309.39244505635,\n",
       " 309.39244505635,\n",
       " 309.39937502353445,\n",
       " 309.4063049907188,\n",
       " 309.42016492508765,\n",
       " 309.42016492508765,\n",
       " 309.44788479382527,\n",
       " 309.46174472819405,\n",
       " 309.4756046625629,\n",
       " 309.4825346297473,\n",
       " 309.4825346297473,\n",
       " 309.5033245313005,\n",
       " 309.5033245313005,\n",
       " 309.5102544984849,\n",
       " 309.5171844656693,\n",
       " 309.5102544984849,\n",
       " 309.5171844656693,\n",
       " 309.5171844656693,\n",
       " 309.5102544984849,\n",
       " 309.5171844656693,\n",
       " 309.5033245313005,\n",
       " 309.5241144328537,\n",
       " 309.5171844656693,\n",
       " 309.5241144328537,\n",
       " 309.5102544984849,\n",
       " 309.5171844656693,\n",
       " 309.5171844656693,\n",
       " 309.5241144328537,\n",
       " 309.5241144328537,\n",
       " 309.5171844656693,\n",
       " 309.5171844656693,\n",
       " 309.5102544984849,\n",
       " 309.5241144328537,\n",
       " 309.5241144328537,\n",
       " 309.53797436722255,\n",
       " 309.53797436722255,\n",
       " 309.55876426877575,\n",
       " 309.58648413751337,\n",
       " 309.58648413751337,\n",
       " 309.57955417032895,\n",
       " 309.6003440718822,\n",
       " 309.5934141046978,\n",
       " 309.5934141046978,\n",
       " 309.6003440718822,\n",
       " 309.6003440718822,\n",
       " 309.6003440718822,\n",
       " 309.57955417032895,\n",
       " 309.56569423596017,\n",
       " 309.56569423596017,\n",
       " 309.56569423596017,\n",
       " 309.55876426877575,\n",
       " 309.55876426877575,\n",
       " 309.55876426877575,\n",
       " 309.5726242031445,\n",
       " 309.56569423596017,\n",
       " 309.55876426877575,\n",
       " 309.56569423596017,\n",
       " 309.56569423596017,\n",
       " 309.55876426877575,\n",
       " 309.55876426877575,\n",
       " 309.56569423596017,\n",
       " 309.55876426877575,\n",
       " 309.55876426877575,\n",
       " 309.5310444000381,\n",
       " 309.5518343015913,\n",
       " 309.55876426877575,\n",
       " 309.55876426877575,\n",
       " 309.55876426877575,\n",
       " 309.54490433440697,\n",
       " 309.5518343015913,\n",
       " 309.55876426877575,\n",
       " 309.55876426877575,\n",
       " 309.57955417032895,\n",
       " 309.56569423596017,\n",
       " 309.43402485945643,\n",
       " 309.46174472819405,\n",
       " 309.48946459693167,\n",
       " 309.4548147610097,\n",
       " 309.4548147610097,\n",
       " 309.44788479382527,\n",
       " 309.43402485945643,\n",
       " 309.42709489227207,\n",
       " 309.46867469537847,\n",
       " 309.46867469537847,\n",
       " 309.46867469537847,\n",
       " 309.4756046625629,\n",
       " 309.44788479382527,\n",
       " 309.44095482664085,\n",
       " 309.39937502353445,\n",
       " 309.32314538450595,\n",
       " 309.2884955485839,\n",
       " 309.29542551576833,\n",
       " 309.30235548295275,\n",
       " 309.30928545013717,\n",
       " 309.29542551576833,\n",
       " 309.27463561421513,\n",
       " 309.2884955485839,\n",
       " 309.2677056470307,\n",
       " 309.27463561421513,\n",
       " 309.30235548295275,\n",
       " 309.32314538450595,\n",
       " 309.33007535169037,\n",
       " 309.33007535169037,\n",
       " 309.3162154173216,\n",
       " 309.30928545013717,\n",
       " 309.3162154173216,\n",
       " 309.30928545013717,\n",
       " 309.33007535169037,\n",
       " 309.32314538450595,\n",
       " 309.357795220428,\n",
       " 309.357795220428,\n",
       " 309.3716551547968,\n",
       " 309.3647251876124,\n",
       " 309.35086525324357,\n",
       " 309.357795220428,\n",
       " 309.357795220428,\n",
       " 309.3647251876124,\n",
       " 309.3785851219812,\n",
       " 309.3785851219812,\n",
       " 309.3785851219812,\n",
       " 309.39244505635,\n",
       " 309.3855150891656,\n",
       " 309.3855150891656,\n",
       " 309.3785851219812,\n",
       " 309.3855150891656,\n",
       " 309.3716551547968,\n",
       " 309.3647251876124,\n",
       " 309.3716551547968,\n",
       " 309.3855150891656,\n",
       " 309.3785851219812,\n",
       " 309.3855150891656,\n",
       " 309.3855150891656,\n",
       " 309.39244505635,\n",
       " 309.39244505635,\n",
       " 309.39244505635,\n",
       " 309.39244505635,\n",
       " 309.39937502353445,\n",
       " 309.46867469537847,\n",
       " 309.46174472819405,\n",
       " 309.46174472819405,\n",
       " 309.46174472819405,\n",
       " 309.4756046625629,\n",
       " 309.46867469537847,\n",
       " 309.4825346297473,\n",
       " 309.4756046625629,\n",
       " 309.4756046625629,\n",
       " 309.46867469537847,\n",
       " 309.46867469537847,\n",
       " 309.4756046625629,\n",
       " 309.4756046625629,\n",
       " 309.4825346297473,\n",
       " 309.4825346297473,\n",
       " 309.46867469537847,\n",
       " 309.46867469537847,\n",
       " 309.4756046625629,\n",
       " 309.4963945641161,\n",
       " 309.4825346297473,\n",
       " 309.48946459693167,\n",
       " 309.5102544984849,\n",
       " 309.5171844656693,\n",
       " 309.5171844656693,\n",
       " 309.5102544984849,\n",
       " 309.5241144328537,\n",
       " 309.5310444000381,\n",
       " 309.53797436722255,\n",
       " 309.5310444000381,\n",
       " 309.5171844656693,\n",
       " 309.53797436722255,\n",
       " 309.5518343015913,\n",
       " 309.55876426877575,\n",
       " 309.57955417032895,\n",
       " 309.57955417032895,\n",
       " 309.57955417032895,\n",
       " 309.57955417032895,\n",
       " 309.5726242031445,\n",
       " 309.56569423596017,\n",
       " 309.55876426877575,\n",
       " 309.54490433440697,\n",
       " 309.5171844656693,\n",
       " 309.5033245313005,\n",
       " 309.4825346297473,\n",
       " 309.4548147610097,\n",
       " 309.44788479382527,\n",
       " 309.46867469537847,\n",
       " 309.4756046625629,\n",
       " 309.46867469537847,\n",
       " 309.46174472819405,\n",
       " 309.46867469537847,\n",
       " 309.46174472819405,\n",
       " 309.46174472819405,\n",
       " 309.46174472819405,\n",
       " 309.46867469537847,\n",
       " 309.46174472819405,\n",
       " 309.46867469537847,\n",
       " 309.46174472819405,\n",
       " 309.46174472819405,\n",
       " 309.44788479382527,\n",
       " 309.42709489227207,\n",
       " 309.42709489227207,\n",
       " 309.42016492508765,\n",
       " 309.43402485945643,\n",
       " 309.4548147610097,\n",
       " 309.44095482664085,\n",
       " 309.43402485945643,\n",
       " 309.4063049907188,\n",
       " 309.3855150891656,\n",
       " 309.39937502353445,\n",
       " 309.39244505635,\n",
       " 309.3855150891656,\n",
       " 309.35086525324357,\n",
       " 309.30235548295275,\n",
       " 309.33007535169037,\n",
       " 309.33007535169037,\n",
       " 309.3439352860592,\n",
       " 309.35086525324357,\n",
       " 309.3439352860592,\n",
       " 309.3370053188748,\n",
       " 309.33007535169037,\n",
       " 309.32314538450595,\n",
       " 309.3439352860592,\n",
       " 309.357795220428,\n",
       " 309.3785851219812,\n",
       " 309.3855150891656,\n",
       " 309.39244505635,\n",
       " 309.3855150891656,\n",
       " 309.42016492508765,\n",
       " 309.43402485945643,\n",
       " 309.44788479382527,\n",
       " 309.46867469537847,\n",
       " 309.4756046625629,\n",
       " 309.4825346297473,\n",
       " 309.4825346297473,\n",
       " 309.4963945641161,\n",
       " 309.4963945641161,\n",
       " 309.4963945641161,\n",
       " 309.4963945641161,\n",
       " 309.4963945641161,\n",
       " 309.4963945641161,\n",
       " 309.4963945641161,\n",
       " 309.5033245313005,\n",
       " 309.5033245313005,\n",
       " 309.5033245313005,\n",
       " 309.5102544984849,\n",
       " 309.5102544984849,\n",
       " 309.5033245313005,\n",
       " 309.4963945641161,\n",
       " 309.4963945641161,\n",
       " 309.5102544984849,\n",
       " 309.5033245313005,\n",
       " 309.5102544984849,\n",
       " 309.5171844656693,\n",
       " 309.5171844656693,\n",
       " 309.5171844656693,\n",
       " 309.5171844656693,\n",
       " 309.5102544984849,\n",
       " 309.5102544984849,\n",
       " 309.5102544984849,\n",
       " 309.48946459693167,\n",
       " 309.4825346297473,\n",
       " 309.4756046625629,\n",
       " 309.46174472819405,\n",
       " 309.5033245313005,\n",
       " 309.4963945641161,\n",
       " 309.4963945641161,\n",
       " 309.4548147610097,\n",
       " 309.46174472819405,\n",
       " 309.4756046625629,\n",
       " 309.46867469537847,\n",
       " 309.46867469537847,\n",
       " 309.46867469537847,\n",
       " 309.46867469537847,\n",
       " 309.46867469537847,\n",
       " 309.4963945641161,\n",
       " 309.48946459693167,\n",
       " 309.48946459693167,\n",
       " 309.5102544984849,\n",
       " 309.5241144328537,\n",
       " 309.53797436722255,\n",
       " 309.5310444000381,\n",
       " 309.54490433440697,\n",
       " 309.54490433440697,\n",
       " 309.53797436722255,\n",
       " 309.5518343015913,\n",
       " 309.57955417032895,\n",
       " 309.57955417032895,\n",
       " 309.6349939078042,\n",
       " 309.58648413751337,\n",
       " 309.58648413751337,\n",
       " 309.60727403906657,\n",
       " 309.6003440718822,\n",
       " 309.6003440718822,\n",
       " 309.60727403906657,\n",
       " 309.60727403906657,\n",
       " 309.60727403906657,\n",
       " 309.6003440718822,\n",
       " 309.60727403906657,\n",
       " 309.5934141046978,\n",
       " 309.58648413751337,\n",
       " 309.58648413751337,\n",
       " 309.58648413751337,\n",
       " 309.6003440718822,\n",
       " 309.60727403906657,\n",
       " 309.614204006251,\n",
       " 309.614204006251,\n",
       " 309.6349939078042,\n",
       " 309.6280639406198,\n",
       " 309.648853842173,\n",
       " 309.65578380935744,\n",
       " 309.648853842173,\n",
       " 309.6419238749886,\n",
       " 309.648853842173,\n",
       " 309.6627137765418,\n",
       " 309.65578380935744,\n",
       " 309.6627137765418,\n",
       " 309.65578380935744,\n",
       " 309.6419238749886,\n",
       " 309.6349939078042,\n",
       " 309.6419238749886,\n",
       " 309.648853842173,\n",
       " 309.648853842173,\n",
       " 309.648853842173,\n",
       " 309.648853842173,\n",
       " 309.648853842173,\n",
       " 309.648853842173,\n",
       " 309.648853842173,\n",
       " 309.6349939078042,\n",
       " 309.6419238749886,\n",
       " 309.648853842173,\n",
       " 309.6419238749886,\n",
       " 309.648853842173,\n",
       " 309.6349939078042,\n",
       " 309.6349939078042,\n",
       " 309.6280639406198,\n",
       " 309.6280639406198,\n",
       " 309.6349939078042,\n",
       " 309.6349939078042,\n",
       " 309.6349939078042,\n",
       " 309.6419238749886,\n",
       " 309.648853842173,\n",
       " ...]"
      ]
     },
     "execution_count": 346,
     "metadata": {},
     "output_type": "execute_result"
    }
   ],
   "source": [
    "ar = []\n",
    "for i in range(len(arima_22)):\n",
    "    ar.append(arima_22[i].iloc[0])\n",
    "ar"
   ]
  },
  {
   "cell_type": "code",
   "execution_count": 345,
   "metadata": {},
   "outputs": [
    {
     "data": {
      "text/plain": [
       "61736"
      ]
     },
     "execution_count": 345,
     "metadata": {},
     "output_type": "execute_result"
    }
   ],
   "source": [
    "len(arima_22)"
   ]
  },
  {
   "cell_type": "code",
   "execution_count": 320,
   "metadata": {},
   "outputs": [
    {
     "data": {
      "text/html": [
       "<div>\n",
       "<style scoped>\n",
       "    .dataframe tbody tr th:only-of-type {\n",
       "        vertical-align: middle;\n",
       "    }\n",
       "\n",
       "    .dataframe tbody tr th {\n",
       "        vertical-align: top;\n",
       "    }\n",
       "\n",
       "    .dataframe thead th {\n",
       "        text-align: right;\n",
       "    }\n",
       "</style>\n",
       "<table border=\"1\" class=\"dataframe\">\n",
       "  <thead>\n",
       "    <tr style=\"text-align: right;\">\n",
       "      <th></th>\n",
       "    </tr>\n",
       "  </thead>\n",
       "  <tbody>\n",
       "  </tbody>\n",
       "</table>\n",
       "</div>"
      ],
      "text/plain": [
       "Empty DataFrame\n",
       "Columns: []\n",
       "Index: []"
      ]
     },
     "execution_count": 320,
     "metadata": {},
     "output_type": "execute_result"
    }
   ],
   "source": [
    "arima_22_forecast.head(5)"
   ]
  },
  {
   "cell_type": "code",
   "execution_count": 321,
   "metadata": {},
   "outputs": [
    {
     "data": {
      "text/html": [
       "<div>\n",
       "<style scoped>\n",
       "    .dataframe tbody tr th:only-of-type {\n",
       "        vertical-align: middle;\n",
       "    }\n",
       "\n",
       "    .dataframe tbody tr th {\n",
       "        vertical-align: top;\n",
       "    }\n",
       "\n",
       "    .dataframe thead th {\n",
       "        text-align: right;\n",
       "    }\n",
       "</style>\n",
       "<table border=\"1\" class=\"dataframe\">\n",
       "  <thead>\n",
       "    <tr style=\"text-align: right;\">\n",
       "      <th></th>\n",
       "      <th>SPY_Last</th>\n",
       "      <th>VIX_Last</th>\n",
       "    </tr>\n",
       "    <tr>\n",
       "      <th>TimeIndex</th>\n",
       "      <th></th>\n",
       "      <th></th>\n",
       "    </tr>\n",
       "  </thead>\n",
       "  <tbody>\n",
       "    <tr>\n",
       "      <th>2020-10-22 19:11:49</th>\n",
       "      <td>-0.028</td>\n",
       "      <td>-0.01</td>\n",
       "    </tr>\n",
       "    <tr>\n",
       "      <th>2020-10-22 19:12:04</th>\n",
       "      <td>-0.052</td>\n",
       "      <td>0.00</td>\n",
       "    </tr>\n",
       "    <tr>\n",
       "      <th>2020-10-22 19:12:19</th>\n",
       "      <td>0.000</td>\n",
       "      <td>0.01</td>\n",
       "    </tr>\n",
       "    <tr>\n",
       "      <th>2020-10-22 19:12:49</th>\n",
       "      <td>-0.050</td>\n",
       "      <td>0.01</td>\n",
       "    </tr>\n",
       "    <tr>\n",
       "      <th>2020-10-22 19:13:04</th>\n",
       "      <td>0.025</td>\n",
       "      <td>0.00</td>\n",
       "    </tr>\n",
       "  </tbody>\n",
       "</table>\n",
       "</div>"
      ],
      "text/plain": [
       "                     SPY_Last  VIX_Last\n",
       "TimeIndex                              \n",
       "2020-10-22 19:11:49    -0.028     -0.01\n",
       "2020-10-22 19:12:04    -0.052      0.00\n",
       "2020-10-22 19:12:19     0.000      0.01\n",
       "2020-10-22 19:12:49    -0.050      0.01\n",
       "2020-10-22 19:13:04     0.025      0.00"
      ]
     },
     "execution_count": 321,
     "metadata": {},
     "output_type": "execute_result"
    }
   ],
   "source": [
    "df_validation_fd.head(5)"
   ]
  },
  {
   "cell_type": "code",
   "execution_count": 305,
   "metadata": {},
   "outputs": [
    {
     "data": {
      "text/plain": [
       "432151   -0.000033\n",
       "dtype: float64"
      ]
     },
     "execution_count": 305,
     "metadata": {},
     "output_type": "execute_result"
    }
   ],
   "source": [
    "arima_22_forecast.rolling()"
   ]
  },
  {
   "cell_type": "code",
   "execution_count": 78,
   "metadata": {},
   "outputs": [],
   "source": [
    "# predict_arima_sd = res_arima_1.params[1]*df_train_sd['VIX_Last'] + res_arima_1.params[2]*df_train_lagged['SPY_Last'] + res_arima_1.params[3]\n",
    "predict_arima2_test_sd = res_arima_2.params[1]*df_test_sd['VIX_Last'] + res_arima_2.params[2]*df_test_lagged['SPY_Last'] + res_arima_2.params[3]*df_test_lagged_2['SPY_Last'] + res_arima_2.params[4]"
   ]
  },
  {
   "cell_type": "code",
   "execution_count": 79,
   "metadata": {},
   "outputs": [
    {
     "name": "stdout",
     "output_type": "stream",
     "text": [
      "sd  {'MSE': 0.014073246410637591}\n",
      "sd  {'MAE': 0.07196482270566078}\n"
     ]
    }
   ],
   "source": [
    "# predict_arima_test_sd.dropna()\n",
    "# Second-differenced datasets are better, more accurate to compare\n",
    "print('sd ', get_prediction_accuracy('MSE', df_test_sd['SPY_Last'][2:], predict_arima2_test_sd.dropna()))\n",
    "print('sd ', get_prediction_accuracy('MAE', df_test_sd['SPY_Last'][2:], predict_arima2_test_sd.dropna()))"
   ]
  },
  {
   "cell_type": "markdown",
   "metadata": {},
   "source": [
    "### Cointegration Test"
   ]
  },
  {
   "cell_type": "code",
   "execution_count": 80,
   "metadata": {},
   "outputs": [
    {
     "data": {
      "text/plain": [
       "array([[ 1.       , -0.2385576],\n",
       "       [-0.2385576,  1.       ]])"
      ]
     },
     "execution_count": 80,
     "metadata": {},
     "output_type": "execute_result"
    }
   ],
   "source": [
    "np.corrcoef(df['SPY_Last'][:-2], df['VIX_Last'].shift(-2).dropna())"
   ]
  },
  {
   "cell_type": "code",
   "execution_count": 81,
   "metadata": {},
   "outputs": [
    {
     "data": {
      "text/html": [
       "<div>\n",
       "<style scoped>\n",
       "    .dataframe tbody tr th:only-of-type {\n",
       "        vertical-align: middle;\n",
       "    }\n",
       "\n",
       "    .dataframe tbody tr th {\n",
       "        vertical-align: top;\n",
       "    }\n",
       "\n",
       "    .dataframe thead th {\n",
       "        text-align: right;\n",
       "    }\n",
       "</style>\n",
       "<table border=\"1\" class=\"dataframe\">\n",
       "  <thead>\n",
       "    <tr style=\"text-align: right;\">\n",
       "      <th></th>\n",
       "      <th>SPY_Last</th>\n",
       "      <th>VIX_Last</th>\n",
       "    </tr>\n",
       "  </thead>\n",
       "  <tbody>\n",
       "    <tr>\n",
       "      <th>SPY_Last</th>\n",
       "      <td>1.000000</td>\n",
       "      <td>-0.238583</td>\n",
       "    </tr>\n",
       "    <tr>\n",
       "      <th>VIX_Last</th>\n",
       "      <td>-0.238583</td>\n",
       "      <td>1.000000</td>\n",
       "    </tr>\n",
       "  </tbody>\n",
       "</table>\n",
       "</div>"
      ],
      "text/plain": [
       "          SPY_Last  VIX_Last\n",
       "SPY_Last  1.000000 -0.238583\n",
       "VIX_Last -0.238583  1.000000"
      ]
     },
     "execution_count": 81,
     "metadata": {},
     "output_type": "execute_result"
    }
   ],
   "source": [
    "df.corr()"
   ]
  },
  {
   "cell_type": "code",
   "execution_count": 82,
   "metadata": {},
   "outputs": [],
   "source": [
    "# print(my_coint)\n",
    "# print(my_coint.crit_value)\n",
    "# print(my_coint.pvalue)"
   ]
  },
  {
   "cell_type": "markdown",
   "metadata": {},
   "source": [
    "The p-value is 0.154 so we do not have enough evidence to reject the Null hypothesis that there is no cointegration "
   ]
  },
  {
   "cell_type": "code",
   "execution_count": 83,
   "metadata": {},
   "outputs": [],
   "source": [
    "# print(my_coint)"
   ]
  },
  {
   "cell_type": "code",
   "execution_count": 84,
   "metadata": {},
   "outputs": [
    {
     "data": {
      "text/html": [
       "<div>\n",
       "<style scoped>\n",
       "    .dataframe tbody tr th:only-of-type {\n",
       "        vertical-align: middle;\n",
       "    }\n",
       "\n",
       "    .dataframe tbody tr th {\n",
       "        vertical-align: top;\n",
       "    }\n",
       "\n",
       "    .dataframe thead th {\n",
       "        text-align: right;\n",
       "    }\n",
       "</style>\n",
       "<table border=\"1\" class=\"dataframe\">\n",
       "  <thead>\n",
       "    <tr style=\"text-align: right;\">\n",
       "      <th></th>\n",
       "      <th>SPY_Last</th>\n",
       "      <th>VIX_Last</th>\n",
       "    </tr>\n",
       "    <tr>\n",
       "      <th>TimeIndex</th>\n",
       "      <th></th>\n",
       "      <th></th>\n",
       "    </tr>\n",
       "  </thead>\n",
       "  <tbody>\n",
       "    <tr>\n",
       "      <th>2020-06-11 18:25:20</th>\n",
       "      <td>303.91</td>\n",
       "      <td>36.56</td>\n",
       "    </tr>\n",
       "    <tr>\n",
       "      <th>2020-06-11 18:25:35</th>\n",
       "      <td>303.84</td>\n",
       "      <td>36.41</td>\n",
       "    </tr>\n",
       "    <tr>\n",
       "      <th>2020-06-11 18:25:50</th>\n",
       "      <td>303.88</td>\n",
       "      <td>36.56</td>\n",
       "    </tr>\n",
       "    <tr>\n",
       "      <th>2020-06-11 18:26:05</th>\n",
       "      <td>303.87</td>\n",
       "      <td>36.46</td>\n",
       "    </tr>\n",
       "    <tr>\n",
       "      <th>2020-06-11 18:26:20</th>\n",
       "      <td>303.93</td>\n",
       "      <td>36.47</td>\n",
       "    </tr>\n",
       "  </tbody>\n",
       "</table>\n",
       "</div>"
      ],
      "text/plain": [
       "                     SPY_Last  VIX_Last\n",
       "TimeIndex                              \n",
       "2020-06-11 18:25:20    303.91     36.56\n",
       "2020-06-11 18:25:35    303.84     36.41\n",
       "2020-06-11 18:25:50    303.88     36.56\n",
       "2020-06-11 18:26:05    303.87     36.46\n",
       "2020-06-11 18:26:20    303.93     36.47"
      ]
     },
     "execution_count": 84,
     "metadata": {},
     "output_type": "execute_result"
    }
   ],
   "source": [
    "df_test.head(5)"
   ]
  },
  {
   "cell_type": "code",
   "execution_count": 85,
   "metadata": {},
   "outputs": [
    {
     "data": {
      "text/plain": [
       "TimeIndex\n",
       "2020-06-11 18:25:20      NaN\n",
       "2020-06-11 18:25:35      NaN\n",
       "2020-06-11 18:25:50    36.56\n",
       "2020-06-11 18:26:05    36.41\n",
       "2020-06-11 18:26:20    36.56\n",
       "                       ...  \n",
       "2020-10-22 19:09:34    28.17\n",
       "2020-10-22 19:09:49    28.18\n",
       "2020-10-22 19:10:49    28.19\n",
       "2020-10-22 19:11:04    28.19\n",
       "2020-10-22 19:11:19    28.16\n",
       "Name: VIX_Last, Length: 123472, dtype: float64"
      ]
     },
     "execution_count": 85,
     "metadata": {},
     "output_type": "execute_result"
    }
   ],
   "source": [
    "df_test['VIX_Last'].shift(2)"
   ]
  },
  {
   "cell_type": "markdown",
   "metadata": {},
   "source": [
    "### GARCH"
   ]
  },
  {
   "cell_type": "code",
   "execution_count": 86,
   "metadata": {},
   "outputs": [],
   "source": [
    "from arch.univariate import ConstantMean, GARCH, Normal, arch_model"
   ]
  },
  {
   "cell_type": "code",
   "execution_count": 87,
   "metadata": {},
   "outputs": [],
   "source": [
    "from sklearn.metrics import mean_absolute_error, mean_squared_error"
   ]
  },
  {
   "cell_type": "code",
   "execution_count": 88,
   "metadata": {},
   "outputs": [],
   "source": [
    "def get_prediction_accuracy(method, expected, predicted):\n",
    "    if method == 'MSE':\n",
    "        accuracy = mean_squared_error(expected, predicted)\n",
    "        return {method:accuracy}\n",
    "    elif method == 'MAE':\n",
    "        accuracy = mean_absolute_error(expected, predicted)\n",
    "        return {method:accuracy}\n",
    "#     else:\n",
    "#         accuracy = mean_absolute_error(expected, predicted)\n",
    "#         return {method:accuracy}"
   ]
  },
  {
   "cell_type": "code",
   "execution_count": 89,
   "metadata": {},
   "outputs": [
    {
     "data": {
      "text/plain": [
       "-0.21606740785177708"
      ]
     },
     "execution_count": 89,
     "metadata": {},
     "output_type": "execute_result"
    }
   ],
   "source": [
    "var_3_fitted.coefs[2][0][0]"
   ]
  },
  {
   "cell_type": "markdown",
   "metadata": {},
   "source": [
    "- Consider ARIMA and GARCH?\n",
    "- VIX vs no VIX\n",
    "- VAR(p) where p = 1 to 5? Determine parsimony (elbow) rule\n",
    "- Train vs test dataset\n",
    "- Forecast(1) vs Forecast(up to 5)"
   ]
  },
  {
   "cell_type": "code",
   "execution_count": 90,
   "metadata": {},
   "outputs": [],
   "source": [
    "predicted_1_undiff = 2*df_test['SPY_Last'].shift(1) - df_test['SPY_Last'].shift(2) + predicted_test_1\n",
    "predicted_2_undiff = 2*df_test['SPY_Last'].shift(1) - df_test['SPY_Last'].shift(2) + predicted_test_2\n",
    "predicted_3_undiff = 2*df_test['SPY_Last'].shift(1) - df_test['SPY_Last'].shift(2) + predicted_test_3"
   ]
  },
  {
   "cell_type": "code",
   "execution_count": 91,
   "metadata": {},
   "outputs": [],
   "source": [
    "predicted_1_undiff.dropna(inplace=True)"
   ]
  },
  {
   "cell_type": "code",
   "execution_count": 92,
   "metadata": {},
   "outputs": [
    {
     "name": "stdout",
     "output_type": "stream",
     "text": [
      "{'MSE': 0.01761297041411011}\n",
      "{'MAE': 0.07506639186650572}\n",
      "{'MSE': 0.015677563890730446}\n",
      "{'MAE': 0.07078747474730565}\n",
      "{'MSE': 0.014727283878118707}\n",
      "{'MAE': 0.06840291999451488}\n"
     ]
    }
   ],
   "source": [
    "preds = [predicted_1_undiff.dropna(), predicted_2_undiff.dropna(), predicted_3_undiff.dropna()]\n",
    "for i in range(0, len(preds)):\n",
    "    print (get_prediction_accuracy('MSE', df_test['SPY_Last'][3+i:], preds[i]))\n",
    "    print (get_prediction_accuracy('MAE', df_test['SPY_Last'][3+i:], preds[i]))\n",
    "#     print (get_prediction_accuracy('MAPE', df['SPY_Last'][3+i:], preds[i]))"
   ]
  },
  {
   "cell_type": "code",
   "execution_count": 93,
   "metadata": {},
   "outputs": [
    {
     "name": "stdout",
     "output_type": "stream",
     "text": [
      "{'MSE': 0.01761297041411011}\n"
     ]
    }
   ],
   "source": [
    "print(get_prediction_accuracy('MSE', df_test['SPY_Last'][3:], predicted_1_undiff))"
   ]
  },
  {
   "cell_type": "code",
   "execution_count": 94,
   "metadata": {},
   "outputs": [],
   "source": [
    "# plt.plot(df_second['SPY_Last'], label='Actual SD of SPY')\n",
    "# plt.plot(predicted_1, label='Predicted VAR(1) SD of SPY')\n",
    "# plt.legend()"
   ]
  },
  {
   "cell_type": "code",
   "execution_count": 95,
   "metadata": {},
   "outputs": [],
   "source": [
    "def rebuild_diffed_get_fd(series, previous_series):\n",
    "    cumsum = series.cumsum()\n",
    "    undiff = cumsum.fillna(0) + previous_series.iloc[0]\n",
    "    return previous_series.head(2).append(undiff)\n",
    "def rebuild_diffed_get_undiff(series, previous_series):\n",
    "    cumsum = series.cumsum()\n",
    "    undiff = cumsum.fillna(0) + previous_series.iloc[0]\n",
    "    return previous_series.head(1).append(undiff)\n",
    "# assert rebuild_diffed(df_log_returns_no_vol_fd, df_log_returns_no_vol).equals(df_log_returns_no_vol)\n",
    "# rebuild_diffed(rebuild_diffed(df_log_returns_no_vol_fd, df_log_returns_no_vol), df_original)"
   ]
  },
  {
   "cell_type": "code",
   "execution_count": 96,
   "metadata": {},
   "outputs": [],
   "source": [
    "from arch.univariate import HARX, GARCH"
   ]
  },
  {
   "cell_type": "code",
   "execution_count": 97,
   "metadata": {},
   "outputs": [
    {
     "name": "stderr",
     "output_type": "stream",
     "text": [
      "C:\\Users\\cemre\\anaconda3\\lib\\site-packages\\arch\\univariate\\mean.py:506: FutureWarning: Support for multi-dimensional indexing (e.g. `obj[:, None]`) is deprecated and will be removed in a future version.  Convert to a numpy array before indexing instead.\n",
      "  self._x = self._x[:, None]\n"
     ]
    }
   ],
   "source": [
    "harx = HARX(df['SPY_Last'],df['VIX_Last'])\n",
    "harx.volatility = GARCH()"
   ]
  },
  {
   "cell_type": "code",
   "execution_count": 98,
   "metadata": {},
   "outputs": [
    {
     "name": "stdout",
     "output_type": "stream",
     "text": [
      "Iteration:      1,   Func. Count:      7,   Neg. LLF: 134936907391.35071\n",
      "Iteration:      2,   Func. Count:     22,   Neg. LLF: 7061280.401353186\n",
      "Iteration:      3,   Func. Count:     33,   Neg. LLF: 33552051503855.78\n",
      "Iteration:      4,   Func. Count:     42,   Neg. LLF: 174773488.58569583\n",
      "Iteration:      5,   Func. Count:     51,   Neg. LLF: 5116440.084369458\n",
      "Iteration:      6,   Func. Count:     58,   Neg. LLF: 4360100.534384726\n",
      "Iteration:      7,   Func. Count:     67,   Neg. LLF: 2.785815017146035e+19\n",
      "Iteration:      8,   Func. Count:     83,   Neg. LLF: 1301564135736.7393\n",
      "Iteration:      9,   Func. Count:     91,   Neg. LLF: 1849414814.0666096\n",
      "Iteration:     10,   Func. Count:     99,   Neg. LLF: 10317160873.224895\n",
      "Iteration:     11,   Func. Count:    112,   Neg. LLF: 12288478285300.15\n",
      "Iteration:     12,   Func. Count:    121,   Neg. LLF: 64729233953769.2\n",
      "Iteration:     13,   Func. Count:    133,   Neg. LLF: 210068465682.31183\n",
      "Iteration:     14,   Func. Count:    148,   Neg. LLF: 6296706.188497815\n",
      "Iteration:     15,   Func. Count:    156,   Neg. LLF: 2719415.7633520723\n",
      "Iteration:     16,   Func. Count:    163,   Neg. LLF: 9.62755387422087e+17\n",
      "Iteration:     17,   Func. Count:    178,   Neg. LLF: 7176360.478785103\n",
      "Iteration:     18,   Func. Count:    190,   Neg. LLF: 5802244.849111279\n",
      "Iteration:     19,   Func. Count:    197,   Neg. LLF: 3229001.5324354614\n",
      "Iteration:     20,   Func. Count:    205,   Neg. LLF: 2496942.921329572\n",
      "Iteration:     21,   Func. Count:    211,   Neg. LLF: 2642178.907172607\n",
      "Iteration:     22,   Func. Count:    227,   Neg. LLF: 2547649.590974137\n",
      "Iteration:     23,   Func. Count:    235,   Neg. LLF: 2550629.821653583\n",
      "Iteration:     24,   Func. Count:    243,   Neg. LLF: 2482766.1267010034\n",
      "Iteration:     25,   Func. Count:    251,   Neg. LLF: 2485122.2594467015\n",
      "Iteration:     26,   Func. Count:    258,   Neg. LLF: 1243009158.1812954\n",
      "Iteration:     27,   Func. Count:    268,   Neg. LLF: 2482131.7100106287\n",
      "Iteration:     28,   Func. Count:    275,   Neg. LLF: 2481819.996212362\n",
      "Iteration:     29,   Func. Count:    282,   Neg. LLF: 2480830.1685615056\n",
      "Iteration:     30,   Func. Count:    289,   Neg. LLF: 2480470.3801024226\n",
      "Iteration:     31,   Func. Count:    296,   Neg. LLF: 2480121.7558602123\n",
      "Iteration:     32,   Func. Count:    303,   Neg. LLF: 2480193.562789206\n",
      "Iteration:     33,   Func. Count:    310,   Neg. LLF: 2480011.921636934\n",
      "Iteration:     34,   Func. Count:    317,   Neg. LLF: 2479591.905147558\n",
      "Iteration:     35,   Func. Count:    324,   Neg. LLF: 2479502.3493328025\n",
      "Iteration:     36,   Func. Count:    330,   Neg. LLF: 2479499.0771359336\n",
      "Iteration:     37,   Func. Count:    336,   Neg. LLF: 2479498.2950519407\n",
      "Iteration:     38,   Func. Count:    342,   Neg. LLF: 2479498.2754188627\n",
      "Iteration:     39,   Func. Count:    348,   Neg. LLF: 2479498.2791378433\n",
      "Iteration:     40,   Func. Count:    355,   Neg. LLF: 2479498.2704405384\n",
      "Iteration:     41,   Func. Count:    361,   Neg. LLF: 2479498.270417702\n",
      "Iteration:     42,   Func. Count:    367,   Neg. LLF: 2657676.2474378287\n",
      "Optimization terminated successfully    (Exit mode 0)\n",
      "            Current function value: 2479498.2704176945\n",
      "            Iterations: 46\n",
      "            Function evaluations: 375\n",
      "            Gradient evaluations: 42\n"
     ]
    }
   ],
   "source": [
    "harx_res = harx.fit()"
   ]
  },
  {
   "cell_type": "code",
   "execution_count": 99,
   "metadata": {},
   "outputs": [
    {
     "name": "stdout",
     "output_type": "stream",
     "text": [
      "                         HAR-X - GARCH Model Results                          \n",
      "==============================================================================\n",
      "Dep. Variable:               SPY_Last   R-squared:                      -0.177\n",
      "Mean Model:                     HAR-X   Adj. R-squared:                 -0.177\n",
      "Vol Model:                      GARCH   Log-Likelihood:           -2.47950e+06\n",
      "Distribution:                  Normal   AIC:                       4.95901e+06\n",
      "Method:            Maximum Likelihood   BIC:                       4.95906e+06\n",
      "                                        No. Observations:               617360\n",
      "Date:                Sat, Apr 17 2021   Df Residuals:                   617358\n",
      "Time:                        20:20:04   Df Model:                            2\n",
      "                                 Mean Model                                 \n",
      "============================================================================\n",
      "                 coef    std err          t      P>|t|      95.0% Conf. Int.\n",
      "----------------------------------------------------------------------------\n",
      "Const        309.9831  2.943e-02  1.053e+04      0.000 [3.099e+02,3.100e+02]\n",
      "x0            -0.7829  5.571e-04  -1405.430      0.000     [ -0.784, -0.782]\n",
      "                              Volatility Model                              \n",
      "============================================================================\n",
      "                 coef    std err          t      P>|t|      95.0% Conf. Int.\n",
      "----------------------------------------------------------------------------\n",
      "omega      7.2272e-04  9.848e-05      7.339  2.159e-13 [5.297e-04,9.157e-04]\n",
      "alpha[1]       0.5270  2.604e-02     20.234  4.919e-91     [  0.476,  0.578]\n",
      "beta[1]        0.4730  2.603e-02     18.174  8.360e-74     [  0.422,  0.524]\n",
      "============================================================================\n",
      "\n",
      "Covariance estimator: robust\n"
     ]
    }
   ],
   "source": [
    "print(harx_res.summary())"
   ]
  },
  {
   "cell_type": "code",
   "execution_count": 100,
   "metadata": {},
   "outputs": [
    {
     "data": {
      "text/html": [
       "<div>\n",
       "<style scoped>\n",
       "    .dataframe tbody tr th:only-of-type {\n",
       "        vertical-align: middle;\n",
       "    }\n",
       "\n",
       "    .dataframe tbody tr th {\n",
       "        vertical-align: top;\n",
       "    }\n",
       "\n",
       "    .dataframe thead th {\n",
       "        text-align: right;\n",
       "    }\n",
       "</style>\n",
       "<table border=\"1\" class=\"dataframe\">\n",
       "  <thead>\n",
       "    <tr style=\"text-align: right;\">\n",
       "      <th></th>\n",
       "      <th>SPY_Last</th>\n",
       "      <th>VIX_Last</th>\n",
       "    </tr>\n",
       "  </thead>\n",
       "  <tbody>\n",
       "    <tr>\n",
       "      <th>count</th>\n",
       "      <td>432151.000000</td>\n",
       "      <td>432151.000000</td>\n",
       "    </tr>\n",
       "    <tr>\n",
       "      <th>mean</th>\n",
       "      <td>0.000133</td>\n",
       "      <td>0.000021</td>\n",
       "    </tr>\n",
       "    <tr>\n",
       "      <th>std</th>\n",
       "      <td>0.135833</td>\n",
       "      <td>0.086337</td>\n",
       "    </tr>\n",
       "    <tr>\n",
       "      <th>min</th>\n",
       "      <td>-31.755000</td>\n",
       "      <td>-10.120000</td>\n",
       "    </tr>\n",
       "    <tr>\n",
       "      <th>25%</th>\n",
       "      <td>-0.030000</td>\n",
       "      <td>-0.010000</td>\n",
       "    </tr>\n",
       "    <tr>\n",
       "      <th>50%</th>\n",
       "      <td>0.000000</td>\n",
       "      <td>0.000000</td>\n",
       "    </tr>\n",
       "    <tr>\n",
       "      <th>75%</th>\n",
       "      <td>0.030000</td>\n",
       "      <td>0.010000</td>\n",
       "    </tr>\n",
       "    <tr>\n",
       "      <th>max</th>\n",
       "      <td>14.700000</td>\n",
       "      <td>18.520000</td>\n",
       "    </tr>\n",
       "  </tbody>\n",
       "</table>\n",
       "</div>"
      ],
      "text/plain": [
       "            SPY_Last       VIX_Last\n",
       "count  432151.000000  432151.000000\n",
       "mean        0.000133       0.000021\n",
       "std         0.135833       0.086337\n",
       "min       -31.755000     -10.120000\n",
       "25%        -0.030000      -0.010000\n",
       "50%         0.000000       0.000000\n",
       "75%         0.030000       0.010000\n",
       "max        14.700000      18.520000"
      ]
     },
     "execution_count": 100,
     "metadata": {},
     "output_type": "execute_result"
    }
   ],
   "source": [
    "df_train_fd.describe()"
   ]
  },
  {
   "cell_type": "code",
   "execution_count": 101,
   "metadata": {},
   "outputs": [
    {
     "name": "stdout",
     "output_type": "stream",
     "text": [
      "Iteration:      1,   Func. Count:      6,   Neg. LLF: 36603218.55310997\n",
      "Iteration:      2,   Func. Count:     14,   Neg. LLF: 1988602.0582401706\n",
      "Optimization terminated successfully    (Exit mode 0)\n",
      "            Current function value: 1988602.0536825282\n",
      "            Iterations: 6\n",
      "            Function evaluations: 14\n",
      "            Gradient evaluations: 2\n",
      "                     Constant Mean - GARCH Model Results                      \n",
      "==============================================================================\n",
      "Dep. Variable:               SPY_Last   R-squared:                       0.000\n",
      "Mean Model:             Constant Mean   Adj. R-squared:                  0.000\n",
      "Vol Model:                      GARCH   Log-Likelihood:           -1.98860e+06\n",
      "Distribution:                  Normal   AIC:                       3.97721e+06\n",
      "Method:            Maximum Likelihood   BIC:                       3.97726e+06\n",
      "                                        No. Observations:               493887\n",
      "Date:                Sat, Apr 17 2021   Df Residuals:                   493886\n",
      "Time:                        20:20:07   Df Model:                            1\n",
      "                                 Mean Model                                 \n",
      "============================================================================\n",
      "                 coef    std err          t      P>|t|      95.0% Conf. Int.\n",
      "----------------------------------------------------------------------------\n",
      "mu           292.4498  3.750e-02   7799.387      0.000 [2.924e+02,2.925e+02]\n",
      "                            Volatility Model                            \n",
      "========================================================================\n",
      "                 coef    std err          t      P>|t|  95.0% Conf. Int.\n",
      "------------------------------------------------------------------------\n",
      "omega          9.8512  2.262e-02    435.544      0.000 [  9.807,  9.896]\n",
      "alpha[1]       0.1998  5.362e-04    372.713      0.000 [  0.199,  0.201]\n",
      "beta[1]        0.7794  5.248e-04   1485.269      0.000 [  0.778,  0.780]\n",
      "========================================================================\n",
      "\n",
      "Covariance estimator: robust\n"
     ]
    }
   ],
   "source": [
    "'''GARCH(1,1)'''\n",
    "split_date = '2020-08-18 13:42:04'\n",
    "model = arch_model(df['SPY_Last'],df['VIX_Last'], vol='GARCH', p=1, q=1)\n",
    "results=model.fit(last_obs=split_date)\n",
    "print(results.summary())\n",
    "# garch_model = GARCH(p=1,q=1)"
   ]
  },
  {
   "cell_type": "code",
   "execution_count": null,
   "metadata": {},
   "outputs": [],
   "source": [
    "'''GARCH(2,1)'''\n",
    "split_date = '2020-08-18 13:42:04'\n",
    "model = arch_model(df['SPY_Last'],df['VIX_Last'], vol='GARCH', p=2, q=1)\n",
    "results=model.fit(last_obs=split_date)\n",
    "print(results.summary())\n",
    "# garch_model = GARCH(p=1,q=1)"
   ]
  },
  {
   "cell_type": "code",
   "execution_count": null,
   "metadata": {},
   "outputs": [],
   "source": [
    "'''GARCH(2,2)'''\n",
    "split_date = '2020-08-18 13:42:04'\n",
    "model = arch_model(df['SPY_Last'],df['VIX_Last'], vol='GARCH', p=2, q=2)\n",
    "results=model.fit(last_obs=split_date)\n",
    "print(results.summary())\n",
    "# garch_model = GARCH(p=1,q=1)"
   ]
  },
  {
   "cell_type": "markdown",
   "metadata": {},
   "source": [
    "Fit an VAR/ARIMA(1,0,0). On the original data, this would be ARIMA(1,2,0). Fit GARCH(1,1) on the residuals taken from VAR/ARIMA. Assume residuals are highly volatile and mean 0."
   ]
  },
  {
   "cell_type": "code",
   "execution_count": 102,
   "metadata": {},
   "outputs": [
    {
     "name": "stderr",
     "output_type": "stream",
     "text": [
      "C:\\Users\\cemre\\anaconda3\\lib\\site-packages\\arch\\__future__\\_utility.py:11: FutureWarning: \n",
      "The default for reindex is True. After September 2021 this will change to\n",
      "False. Set reindex to True or False to silence this message. Alternatively,\n",
      "you can use the import comment\n",
      "\n",
      "from arch.__future__ import reindexing\n",
      "\n",
      "to globally set reindex to True and silence this warning.\n",
      "\n",
      "  warnings.warn(\n"
     ]
    },
    {
     "data": {
      "text/html": [
       "<div>\n",
       "<style scoped>\n",
       "    .dataframe tbody tr th:only-of-type {\n",
       "        vertical-align: middle;\n",
       "    }\n",
       "\n",
       "    .dataframe tbody tr th {\n",
       "        vertical-align: top;\n",
       "    }\n",
       "\n",
       "    .dataframe thead th {\n",
       "        text-align: right;\n",
       "    }\n",
       "</style>\n",
       "<table border=\"1\" class=\"dataframe\">\n",
       "  <thead>\n",
       "    <tr style=\"text-align: right;\">\n",
       "      <th></th>\n",
       "      <th>h.1</th>\n",
       "    </tr>\n",
       "    <tr>\n",
       "      <th>TimeIndex</th>\n",
       "      <th></th>\n",
       "    </tr>\n",
       "  </thead>\n",
       "  <tbody>\n",
       "    <tr>\n",
       "      <th>2019-01-02 14:31:04</th>\n",
       "      <td>NaN</td>\n",
       "    </tr>\n",
       "    <tr>\n",
       "      <th>2019-01-02 14:31:19</th>\n",
       "      <td>NaN</td>\n",
       "    </tr>\n",
       "    <tr>\n",
       "      <th>2019-01-02 14:31:34</th>\n",
       "      <td>NaN</td>\n",
       "    </tr>\n",
       "    <tr>\n",
       "      <th>2019-01-02 14:31:49</th>\n",
       "      <td>NaN</td>\n",
       "    </tr>\n",
       "    <tr>\n",
       "      <th>2019-01-02 14:32:04</th>\n",
       "      <td>NaN</td>\n",
       "    </tr>\n",
       "    <tr>\n",
       "      <th>...</th>\n",
       "      <td>...</td>\n",
       "    </tr>\n",
       "    <tr>\n",
       "      <th>2020-12-31 20:58:51</th>\n",
       "      <td>6102.434207</td>\n",
       "    </tr>\n",
       "    <tr>\n",
       "      <th>2020-12-31 20:59:06</th>\n",
       "      <td>6109.190332</td>\n",
       "    </tr>\n",
       "    <tr>\n",
       "      <th>2020-12-31 20:59:21</th>\n",
       "      <td>6110.854105</td>\n",
       "    </tr>\n",
       "    <tr>\n",
       "      <th>2020-12-31 20:59:36</th>\n",
       "      <td>6112.150847</td>\n",
       "    </tr>\n",
       "    <tr>\n",
       "      <th>2020-12-31 20:59:51</th>\n",
       "      <td>6123.324821</td>\n",
       "    </tr>\n",
       "  </tbody>\n",
       "</table>\n",
       "<p>617360 rows × 1 columns</p>\n",
       "</div>"
      ],
      "text/plain": [
       "                             h.1\n",
       "TimeIndex                       \n",
       "2019-01-02 14:31:04          NaN\n",
       "2019-01-02 14:31:19          NaN\n",
       "2019-01-02 14:31:34          NaN\n",
       "2019-01-02 14:31:49          NaN\n",
       "2019-01-02 14:32:04          NaN\n",
       "...                          ...\n",
       "2020-12-31 20:58:51  6102.434207\n",
       "2020-12-31 20:59:06  6109.190332\n",
       "2020-12-31 20:59:21  6110.854105\n",
       "2020-12-31 20:59:36  6112.150847\n",
       "2020-12-31 20:59:51  6123.324821\n",
       "\n",
       "[617360 rows x 1 columns]"
      ]
     },
     "execution_count": 102,
     "metadata": {},
     "output_type": "execute_result"
    }
   ],
   "source": [
    "garch_prediction = results.forecast(horizon=1, start=split_date)\n",
    "# garch_prediction = results.forecast(horizon=5, start=split_date)\n",
    "garch_prediction.variance"
   ]
  },
  {
   "cell_type": "code",
   "execution_count": 103,
   "metadata": {},
   "outputs": [
    {
     "data": {
      "text/html": [
       "<div>\n",
       "<style scoped>\n",
       "    .dataframe tbody tr th:only-of-type {\n",
       "        vertical-align: middle;\n",
       "    }\n",
       "\n",
       "    .dataframe tbody tr th {\n",
       "        vertical-align: top;\n",
       "    }\n",
       "\n",
       "    .dataframe thead th {\n",
       "        text-align: right;\n",
       "    }\n",
       "</style>\n",
       "<table border=\"1\" class=\"dataframe\">\n",
       "  <thead>\n",
       "    <tr style=\"text-align: right;\">\n",
       "      <th></th>\n",
       "      <th>SPY_Last</th>\n",
       "      <th>VIX_Last</th>\n",
       "    </tr>\n",
       "    <tr>\n",
       "      <th>TimeIndex</th>\n",
       "      <th></th>\n",
       "      <th></th>\n",
       "    </tr>\n",
       "  </thead>\n",
       "  <tbody>\n",
       "    <tr>\n",
       "      <th>2020-06-11 18:24:05</th>\n",
       "      <td>303.48</td>\n",
       "      <td>36.81</td>\n",
       "    </tr>\n",
       "    <tr>\n",
       "      <th>2020-06-11 18:24:20</th>\n",
       "      <td>303.56</td>\n",
       "      <td>36.78</td>\n",
       "    </tr>\n",
       "    <tr>\n",
       "      <th>2020-06-11 18:24:35</th>\n",
       "      <td>303.76</td>\n",
       "      <td>36.62</td>\n",
       "    </tr>\n",
       "    <tr>\n",
       "      <th>2020-06-11 18:24:50</th>\n",
       "      <td>303.72</td>\n",
       "      <td>36.67</td>\n",
       "    </tr>\n",
       "    <tr>\n",
       "      <th>2020-06-11 18:25:05</th>\n",
       "      <td>303.78</td>\n",
       "      <td>36.59</td>\n",
       "    </tr>\n",
       "  </tbody>\n",
       "</table>\n",
       "</div>"
      ],
      "text/plain": [
       "                     SPY_Last  VIX_Last\n",
       "TimeIndex                              \n",
       "2020-06-11 18:24:05    303.48     36.81\n",
       "2020-06-11 18:24:20    303.56     36.78\n",
       "2020-06-11 18:24:35    303.76     36.62\n",
       "2020-06-11 18:24:50    303.72     36.67\n",
       "2020-06-11 18:25:05    303.78     36.59"
      ]
     },
     "execution_count": 103,
     "metadata": {},
     "output_type": "execute_result"
    }
   ],
   "source": [
    "df_train.tail(5)"
   ]
  },
  {
   "cell_type": "markdown",
   "metadata": {},
   "source": [
    "We will forecast ARIMA(1,0,1) for rolling mean"
   ]
  },
  {
   "cell_type": "markdown",
   "metadata": {},
   "source": [
    "Need the following: VAR(1)(predicted_validation_undiff), ARIMA(2,1,1) (arima_22_forecast), GARCH(1,1) volatilities (garch_prediction), SPY actuals (df_validation['SPY_Last']). Using VAR(1), sma_20 (simple 20-day moving average) and SPY actuals we can construct a one-period forecast of the simple-moving average"
   ]
  },
  {
   "cell_type": "code",
   "execution_count": 224,
   "metadata": {},
   "outputs": [],
   "source": [
    "# var_predictions = pd.DataFrame(predicted_test_1_undiff)"
   ]
  },
  {
   "cell_type": "code",
   "execution_count": 225,
   "metadata": {},
   "outputs": [],
   "source": [
    "actuals_for_ma = df_validation['SPY_Last'].copy()"
   ]
  },
  {
   "cell_type": "code",
   "execution_count": 226,
   "metadata": {},
   "outputs": [],
   "source": [
    "actuals_for_ma = pd.DataFrame(actuals_for_ma)\n",
    "p = pd.DataFrame(df_test['SPY_Last'][-20:])\n",
    "p.rename(columns={0:'SPY_Last'})\n",
    "p\n",
    "actuals_for_ma = pd.concat([p,actuals_for_ma],axis=0)"
   ]
  },
  {
   "cell_type": "code",
   "execution_count": 228,
   "metadata": {},
   "outputs": [
    {
     "data": {
      "text/html": [
       "<div>\n",
       "<style scoped>\n",
       "    .dataframe tbody tr th:only-of-type {\n",
       "        vertical-align: middle;\n",
       "    }\n",
       "\n",
       "    .dataframe tbody tr th {\n",
       "        vertical-align: top;\n",
       "    }\n",
       "\n",
       "    .dataframe thead th {\n",
       "        text-align: right;\n",
       "    }\n",
       "</style>\n",
       "<table border=\"1\" class=\"dataframe\">\n",
       "  <thead>\n",
       "    <tr style=\"text-align: right;\">\n",
       "      <th></th>\n",
       "      <th>SPY_Last</th>\n",
       "    </tr>\n",
       "    <tr>\n",
       "      <th>TimeIndex</th>\n",
       "      <th></th>\n",
       "    </tr>\n",
       "  </thead>\n",
       "  <tbody>\n",
       "    <tr>\n",
       "      <th>2020-10-22 19:05:34</th>\n",
       "      <td>344.220</td>\n",
       "    </tr>\n",
       "    <tr>\n",
       "      <th>2020-10-22 19:05:49</th>\n",
       "      <td>344.275</td>\n",
       "    </tr>\n",
       "    <tr>\n",
       "      <th>2020-10-22 19:06:04</th>\n",
       "      <td>344.160</td>\n",
       "    </tr>\n",
       "    <tr>\n",
       "      <th>2020-10-22 19:06:19</th>\n",
       "      <td>343.970</td>\n",
       "    </tr>\n",
       "    <tr>\n",
       "      <th>2020-10-22 19:06:34</th>\n",
       "      <td>344.030</td>\n",
       "    </tr>\n",
       "    <tr>\n",
       "      <th>...</th>\n",
       "      <td>...</td>\n",
       "    </tr>\n",
       "    <tr>\n",
       "      <th>2020-12-31 20:58:51</th>\n",
       "      <td>374.260</td>\n",
       "    </tr>\n",
       "    <tr>\n",
       "      <th>2020-12-31 20:59:06</th>\n",
       "      <td>374.430</td>\n",
       "    </tr>\n",
       "    <tr>\n",
       "      <th>2020-12-31 20:59:21</th>\n",
       "      <td>374.320</td>\n",
       "    </tr>\n",
       "    <tr>\n",
       "      <th>2020-12-31 20:59:36</th>\n",
       "      <td>374.320</td>\n",
       "    </tr>\n",
       "    <tr>\n",
       "      <th>2020-12-31 20:59:51</th>\n",
       "      <td>374.630</td>\n",
       "    </tr>\n",
       "  </tbody>\n",
       "</table>\n",
       "<p>61756 rows × 1 columns</p>\n",
       "</div>"
      ],
      "text/plain": [
       "                     SPY_Last\n",
       "TimeIndex                    \n",
       "2020-10-22 19:05:34   344.220\n",
       "2020-10-22 19:05:49   344.275\n",
       "2020-10-22 19:06:04   344.160\n",
       "2020-10-22 19:06:19   343.970\n",
       "2020-10-22 19:06:34   344.030\n",
       "...                       ...\n",
       "2020-12-31 20:58:51   374.260\n",
       "2020-12-31 20:59:06   374.430\n",
       "2020-12-31 20:59:21   374.320\n",
       "2020-12-31 20:59:36   374.320\n",
       "2020-12-31 20:59:51   374.630\n",
       "\n",
       "[61756 rows x 1 columns]"
      ]
     },
     "execution_count": 228,
     "metadata": {},
     "output_type": "execute_result"
    }
   ],
   "source": [
    "actuals_for_ma"
   ]
  },
  {
   "cell_type": "code",
   "execution_count": 229,
   "metadata": {},
   "outputs": [
    {
     "data": {
      "text/html": [
       "<div>\n",
       "<style scoped>\n",
       "    .dataframe tbody tr th:only-of-type {\n",
       "        vertical-align: middle;\n",
       "    }\n",
       "\n",
       "    .dataframe tbody tr th {\n",
       "        vertical-align: top;\n",
       "    }\n",
       "\n",
       "    .dataframe thead th {\n",
       "        text-align: right;\n",
       "    }\n",
       "</style>\n",
       "<table border=\"1\" class=\"dataframe\">\n",
       "  <thead>\n",
       "    <tr style=\"text-align: right;\">\n",
       "      <th></th>\n",
       "      <th>VAR_1</th>\n",
       "    </tr>\n",
       "    <tr>\n",
       "      <th>TimeIndex</th>\n",
       "      <th></th>\n",
       "    </tr>\n",
       "  </thead>\n",
       "  <tbody>\n",
       "    <tr>\n",
       "      <th>2020-10-22 19:11:34</th>\n",
       "      <td>NaN</td>\n",
       "    </tr>\n",
       "    <tr>\n",
       "      <th>2020-10-22 19:11:49</th>\n",
       "      <td>NaN</td>\n",
       "    </tr>\n",
       "    <tr>\n",
       "      <th>2020-10-22 19:12:04</th>\n",
       "      <td>NaN</td>\n",
       "    </tr>\n",
       "    <tr>\n",
       "      <th>2020-10-22 19:12:19</th>\n",
       "      <td>343.960362</td>\n",
       "    </tr>\n",
       "    <tr>\n",
       "      <th>2020-10-22 19:12:49</th>\n",
       "      <td>343.975908</td>\n",
       "    </tr>\n",
       "    <tr>\n",
       "      <th>...</th>\n",
       "      <td>...</td>\n",
       "    </tr>\n",
       "    <tr>\n",
       "      <th>2020-12-31 20:58:51</th>\n",
       "      <td>374.207812</td>\n",
       "    </tr>\n",
       "    <tr>\n",
       "      <th>2020-12-31 20:59:06</th>\n",
       "      <td>374.256287</td>\n",
       "    </tr>\n",
       "    <tr>\n",
       "      <th>2020-12-31 20:59:21</th>\n",
       "      <td>374.529991</td>\n",
       "    </tr>\n",
       "    <tr>\n",
       "      <th>2020-12-31 20:59:36</th>\n",
       "      <td>374.346004</td>\n",
       "    </tr>\n",
       "    <tr>\n",
       "      <th>2020-12-31 20:59:51</th>\n",
       "      <td>374.274892</td>\n",
       "    </tr>\n",
       "  </tbody>\n",
       "</table>\n",
       "<p>61736 rows × 1 columns</p>\n",
       "</div>"
      ],
      "text/plain": [
       "                          VAR_1\n",
       "TimeIndex                      \n",
       "2020-10-22 19:11:34         NaN\n",
       "2020-10-22 19:11:49         NaN\n",
       "2020-10-22 19:12:04         NaN\n",
       "2020-10-22 19:12:19  343.960362\n",
       "2020-10-22 19:12:49  343.975908\n",
       "...                         ...\n",
       "2020-12-31 20:58:51  374.207812\n",
       "2020-12-31 20:59:06  374.256287\n",
       "2020-12-31 20:59:21  374.529991\n",
       "2020-12-31 20:59:36  374.346004\n",
       "2020-12-31 20:59:51  374.274892\n",
       "\n",
       "[61736 rows x 1 columns]"
      ]
     },
     "execution_count": 229,
     "metadata": {},
     "output_type": "execute_result"
    }
   ],
   "source": [
    "df_var = pd.DataFrame(predicted_validation_undiff)\n",
    "df_var.rename(columns={0:'VAR_1'},inplace=True)\n",
    "df_var"
   ]
  },
  {
   "cell_type": "code",
   "execution_count": 230,
   "metadata": {},
   "outputs": [],
   "source": [
    "spy_and_var_for_ma = actuals_for_ma.join(df_var)\n",
    "# spy_and_var_for_Ma"
   ]
  },
  {
   "cell_type": "code",
   "execution_count": 231,
   "metadata": {},
   "outputs": [
    {
     "data": {
      "text/html": [
       "<div>\n",
       "<style scoped>\n",
       "    .dataframe tbody tr th:only-of-type {\n",
       "        vertical-align: middle;\n",
       "    }\n",
       "\n",
       "    .dataframe tbody tr th {\n",
       "        vertical-align: top;\n",
       "    }\n",
       "\n",
       "    .dataframe thead th {\n",
       "        text-align: right;\n",
       "    }\n",
       "</style>\n",
       "<table border=\"1\" class=\"dataframe\">\n",
       "  <thead>\n",
       "    <tr style=\"text-align: right;\">\n",
       "      <th></th>\n",
       "      <th>SPY_Last</th>\n",
       "      <th>VAR_1</th>\n",
       "    </tr>\n",
       "    <tr>\n",
       "      <th>TimeIndex</th>\n",
       "      <th></th>\n",
       "      <th></th>\n",
       "    </tr>\n",
       "  </thead>\n",
       "  <tbody>\n",
       "    <tr>\n",
       "      <th>2020-10-22 19:05:34</th>\n",
       "      <td>344.220</td>\n",
       "      <td>NaN</td>\n",
       "    </tr>\n",
       "    <tr>\n",
       "      <th>2020-10-22 19:05:49</th>\n",
       "      <td>344.275</td>\n",
       "      <td>NaN</td>\n",
       "    </tr>\n",
       "    <tr>\n",
       "      <th>2020-10-22 19:06:04</th>\n",
       "      <td>344.160</td>\n",
       "      <td>NaN</td>\n",
       "    </tr>\n",
       "    <tr>\n",
       "      <th>2020-10-22 19:06:19</th>\n",
       "      <td>343.970</td>\n",
       "      <td>NaN</td>\n",
       "    </tr>\n",
       "    <tr>\n",
       "      <th>2020-10-22 19:06:34</th>\n",
       "      <td>344.030</td>\n",
       "      <td>NaN</td>\n",
       "    </tr>\n",
       "    <tr>\n",
       "      <th>...</th>\n",
       "      <td>...</td>\n",
       "      <td>...</td>\n",
       "    </tr>\n",
       "    <tr>\n",
       "      <th>2020-12-31 20:58:51</th>\n",
       "      <td>374.260</td>\n",
       "      <td>374.207812</td>\n",
       "    </tr>\n",
       "    <tr>\n",
       "      <th>2020-12-31 20:59:06</th>\n",
       "      <td>374.430</td>\n",
       "      <td>374.256287</td>\n",
       "    </tr>\n",
       "    <tr>\n",
       "      <th>2020-12-31 20:59:21</th>\n",
       "      <td>374.320</td>\n",
       "      <td>374.529991</td>\n",
       "    </tr>\n",
       "    <tr>\n",
       "      <th>2020-12-31 20:59:36</th>\n",
       "      <td>374.320</td>\n",
       "      <td>374.346004</td>\n",
       "    </tr>\n",
       "    <tr>\n",
       "      <th>2020-12-31 20:59:51</th>\n",
       "      <td>374.630</td>\n",
       "      <td>374.274892</td>\n",
       "    </tr>\n",
       "  </tbody>\n",
       "</table>\n",
       "<p>61756 rows × 2 columns</p>\n",
       "</div>"
      ],
      "text/plain": [
       "                     SPY_Last       VAR_1\n",
       "TimeIndex                                \n",
       "2020-10-22 19:05:34   344.220         NaN\n",
       "2020-10-22 19:05:49   344.275         NaN\n",
       "2020-10-22 19:06:04   344.160         NaN\n",
       "2020-10-22 19:06:19   343.970         NaN\n",
       "2020-10-22 19:06:34   344.030         NaN\n",
       "...                       ...         ...\n",
       "2020-12-31 20:58:51   374.260  374.207812\n",
       "2020-12-31 20:59:06   374.430  374.256287\n",
       "2020-12-31 20:59:21   374.320  374.529991\n",
       "2020-12-31 20:59:36   374.320  374.346004\n",
       "2020-12-31 20:59:51   374.630  374.274892\n",
       "\n",
       "[61756 rows x 2 columns]"
      ]
     },
     "execution_count": 231,
     "metadata": {},
     "output_type": "execute_result"
    }
   ],
   "source": [
    "spy_and_var_for_ma"
   ]
  },
  {
   "cell_type": "code",
   "execution_count": 310,
   "metadata": {},
   "outputs": [
    {
     "data": {
      "text/html": [
       "<div>\n",
       "<style scoped>\n",
       "    .dataframe tbody tr th:only-of-type {\n",
       "        vertical-align: middle;\n",
       "    }\n",
       "\n",
       "    .dataframe tbody tr th {\n",
       "        vertical-align: top;\n",
       "    }\n",
       "\n",
       "    .dataframe thead th {\n",
       "        text-align: right;\n",
       "    }\n",
       "</style>\n",
       "<table border=\"1\" class=\"dataframe\">\n",
       "  <thead>\n",
       "    <tr style=\"text-align: right;\">\n",
       "      <th></th>\n",
       "      <th>h.1</th>\n",
       "    </tr>\n",
       "    <tr>\n",
       "      <th>TimeIndex</th>\n",
       "      <th></th>\n",
       "    </tr>\n",
       "  </thead>\n",
       "  <tbody>\n",
       "    <tr>\n",
       "      <th>2019-01-02 14:31:04</th>\n",
       "      <td>NaN</td>\n",
       "    </tr>\n",
       "    <tr>\n",
       "      <th>2019-01-02 14:31:19</th>\n",
       "      <td>NaN</td>\n",
       "    </tr>\n",
       "    <tr>\n",
       "      <th>2019-01-02 14:31:34</th>\n",
       "      <td>NaN</td>\n",
       "    </tr>\n",
       "    <tr>\n",
       "      <th>2019-01-02 14:31:49</th>\n",
       "      <td>NaN</td>\n",
       "    </tr>\n",
       "    <tr>\n",
       "      <th>2019-01-02 14:32:04</th>\n",
       "      <td>NaN</td>\n",
       "    </tr>\n",
       "    <tr>\n",
       "      <th>...</th>\n",
       "      <td>...</td>\n",
       "    </tr>\n",
       "    <tr>\n",
       "      <th>2020-12-31 20:58:51</th>\n",
       "      <td>6102.434207</td>\n",
       "    </tr>\n",
       "    <tr>\n",
       "      <th>2020-12-31 20:59:06</th>\n",
       "      <td>6109.190332</td>\n",
       "    </tr>\n",
       "    <tr>\n",
       "      <th>2020-12-31 20:59:21</th>\n",
       "      <td>6110.854105</td>\n",
       "    </tr>\n",
       "    <tr>\n",
       "      <th>2020-12-31 20:59:36</th>\n",
       "      <td>6112.150847</td>\n",
       "    </tr>\n",
       "    <tr>\n",
       "      <th>2020-12-31 20:59:51</th>\n",
       "      <td>6123.324821</td>\n",
       "    </tr>\n",
       "  </tbody>\n",
       "</table>\n",
       "<p>617360 rows × 1 columns</p>\n",
       "</div>"
      ],
      "text/plain": [
       "                             h.1\n",
       "TimeIndex                       \n",
       "2019-01-02 14:31:04          NaN\n",
       "2019-01-02 14:31:19          NaN\n",
       "2019-01-02 14:31:34          NaN\n",
       "2019-01-02 14:31:49          NaN\n",
       "2019-01-02 14:32:04          NaN\n",
       "...                          ...\n",
       "2020-12-31 20:58:51  6102.434207\n",
       "2020-12-31 20:59:06  6109.190332\n",
       "2020-12-31 20:59:21  6110.854105\n",
       "2020-12-31 20:59:36  6112.150847\n",
       "2020-12-31 20:59:51  6123.324821\n",
       "\n",
       "[617360 rows x 1 columns]"
      ]
     },
     "execution_count": 310,
     "metadata": {},
     "output_type": "execute_result"
    }
   ],
   "source": [
    "garch_prediction.variance"
   ]
  },
  {
   "cell_type": "code",
   "execution_count": 350,
   "metadata": {},
   "outputs": [
    {
     "data": {
      "text/html": [
       "<div>\n",
       "<style scoped>\n",
       "    .dataframe tbody tr th:only-of-type {\n",
       "        vertical-align: middle;\n",
       "    }\n",
       "\n",
       "    .dataframe tbody tr th {\n",
       "        vertical-align: top;\n",
       "    }\n",
       "\n",
       "    .dataframe thead th {\n",
       "        text-align: right;\n",
       "    }\n",
       "</style>\n",
       "<table border=\"1\" class=\"dataframe\">\n",
       "  <thead>\n",
       "    <tr style=\"text-align: right;\">\n",
       "      <th></th>\n",
       "      <th>arima</th>\n",
       "    </tr>\n",
       "    <tr>\n",
       "      <th>TimeIndex</th>\n",
       "      <th></th>\n",
       "    </tr>\n",
       "  </thead>\n",
       "  <tbody>\n",
       "    <tr>\n",
       "      <th>2020-10-22 19:11:34</th>\n",
       "      <td>309.614204</td>\n",
       "    </tr>\n",
       "    <tr>\n",
       "      <th>2020-10-22 19:11:49</th>\n",
       "      <td>309.621134</td>\n",
       "    </tr>\n",
       "    <tr>\n",
       "      <th>2020-10-22 19:12:04</th>\n",
       "      <td>309.621134</td>\n",
       "    </tr>\n",
       "    <tr>\n",
       "      <th>2020-10-22 19:12:19</th>\n",
       "      <td>309.614204</td>\n",
       "    </tr>\n",
       "    <tr>\n",
       "      <th>2020-10-22 19:12:49</th>\n",
       "      <td>309.607274</td>\n",
       "    </tr>\n",
       "    <tr>\n",
       "      <th>...</th>\n",
       "      <td>...</td>\n",
       "    </tr>\n",
       "    <tr>\n",
       "      <th>2020-12-31 20:58:51</th>\n",
       "      <td>313.446476</td>\n",
       "    </tr>\n",
       "    <tr>\n",
       "      <th>2020-12-31 20:59:06</th>\n",
       "      <td>313.481126</td>\n",
       "    </tr>\n",
       "    <tr>\n",
       "      <th>2020-12-31 20:59:21</th>\n",
       "      <td>313.501916</td>\n",
       "    </tr>\n",
       "    <tr>\n",
       "      <th>2020-12-31 20:59:36</th>\n",
       "      <td>313.460336</td>\n",
       "    </tr>\n",
       "    <tr>\n",
       "      <th>2020-12-31 20:59:51</th>\n",
       "      <td>313.536565</td>\n",
       "    </tr>\n",
       "  </tbody>\n",
       "</table>\n",
       "<p>61736 rows × 1 columns</p>\n",
       "</div>"
      ],
      "text/plain": [
       "                          arima\n",
       "TimeIndex                      \n",
       "2020-10-22 19:11:34  309.614204\n",
       "2020-10-22 19:11:49  309.621134\n",
       "2020-10-22 19:12:04  309.621134\n",
       "2020-10-22 19:12:19  309.614204\n",
       "2020-10-22 19:12:49  309.607274\n",
       "...                         ...\n",
       "2020-12-31 20:58:51  313.446476\n",
       "2020-12-31 20:59:06  313.481126\n",
       "2020-12-31 20:59:21  313.501916\n",
       "2020-12-31 20:59:36  313.460336\n",
       "2020-12-31 20:59:51  313.536565\n",
       "\n",
       "[61736 rows x 1 columns]"
      ]
     },
     "execution_count": 350,
     "metadata": {},
     "output_type": "execute_result"
    }
   ],
   "source": [
    "arima_22_forecast"
   ]
  },
  {
   "cell_type": "code",
   "execution_count": 354,
   "metadata": {},
   "outputs": [],
   "source": [
    "df_bollinger = spy_and_var_for_ma.join(garch_prediction.variance).join(arima_22_forecast)"
   ]
  },
  {
   "cell_type": "code",
   "execution_count": 355,
   "metadata": {},
   "outputs": [
    {
     "data": {
      "text/html": [
       "<div>\n",
       "<style scoped>\n",
       "    .dataframe tbody tr th:only-of-type {\n",
       "        vertical-align: middle;\n",
       "    }\n",
       "\n",
       "    .dataframe tbody tr th {\n",
       "        vertical-align: top;\n",
       "    }\n",
       "\n",
       "    .dataframe thead th {\n",
       "        text-align: right;\n",
       "    }\n",
       "</style>\n",
       "<table border=\"1\" class=\"dataframe\">\n",
       "  <thead>\n",
       "    <tr style=\"text-align: right;\">\n",
       "      <th></th>\n",
       "      <th>SPY_Last</th>\n",
       "      <th>VAR_1</th>\n",
       "      <th>h.1</th>\n",
       "      <th>arima</th>\n",
       "    </tr>\n",
       "    <tr>\n",
       "      <th>TimeIndex</th>\n",
       "      <th></th>\n",
       "      <th></th>\n",
       "      <th></th>\n",
       "      <th></th>\n",
       "    </tr>\n",
       "  </thead>\n",
       "  <tbody>\n",
       "    <tr>\n",
       "      <th>2020-10-22 19:05:34</th>\n",
       "      <td>344.220</td>\n",
       "      <td>NaN</td>\n",
       "      <td>2479.449004</td>\n",
       "      <td>NaN</td>\n",
       "    </tr>\n",
       "    <tr>\n",
       "      <th>2020-10-22 19:05:49</th>\n",
       "      <td>344.275</td>\n",
       "      <td>NaN</td>\n",
       "      <td>2479.084660</td>\n",
       "      <td>NaN</td>\n",
       "    </tr>\n",
       "    <tr>\n",
       "      <th>2020-10-22 19:06:04</th>\n",
       "      <td>344.160</td>\n",
       "      <td>NaN</td>\n",
       "      <td>2476.421209</td>\n",
       "      <td>NaN</td>\n",
       "    </tr>\n",
       "    <tr>\n",
       "      <th>2020-10-22 19:06:19</th>\n",
       "      <td>343.970</td>\n",
       "      <td>NaN</td>\n",
       "      <td>2470.425587</td>\n",
       "      <td>NaN</td>\n",
       "    </tr>\n",
       "    <tr>\n",
       "      <th>2020-10-22 19:06:34</th>\n",
       "      <td>344.030</td>\n",
       "      <td>NaN</td>\n",
       "      <td>2466.988864</td>\n",
       "      <td>NaN</td>\n",
       "    </tr>\n",
       "    <tr>\n",
       "      <th>...</th>\n",
       "      <td>...</td>\n",
       "      <td>...</td>\n",
       "      <td>...</td>\n",
       "      <td>...</td>\n",
       "    </tr>\n",
       "    <tr>\n",
       "      <th>2020-12-31 20:58:51</th>\n",
       "      <td>374.260</td>\n",
       "      <td>374.207812</td>\n",
       "      <td>6102.434207</td>\n",
       "      <td>313.446476</td>\n",
       "    </tr>\n",
       "    <tr>\n",
       "      <th>2020-12-31 20:59:06</th>\n",
       "      <td>374.430</td>\n",
       "      <td>374.256287</td>\n",
       "      <td>6109.190332</td>\n",
       "      <td>313.481126</td>\n",
       "    </tr>\n",
       "    <tr>\n",
       "      <th>2020-12-31 20:59:21</th>\n",
       "      <td>374.320</td>\n",
       "      <td>374.529991</td>\n",
       "      <td>6110.854105</td>\n",
       "      <td>313.501916</td>\n",
       "    </tr>\n",
       "    <tr>\n",
       "      <th>2020-12-31 20:59:36</th>\n",
       "      <td>374.320</td>\n",
       "      <td>374.346004</td>\n",
       "      <td>6112.150847</td>\n",
       "      <td>313.460336</td>\n",
       "    </tr>\n",
       "    <tr>\n",
       "      <th>2020-12-31 20:59:51</th>\n",
       "      <td>374.630</td>\n",
       "      <td>374.274892</td>\n",
       "      <td>6123.324821</td>\n",
       "      <td>313.536565</td>\n",
       "    </tr>\n",
       "  </tbody>\n",
       "</table>\n",
       "<p>61756 rows × 4 columns</p>\n",
       "</div>"
      ],
      "text/plain": [
       "                     SPY_Last       VAR_1          h.1       arima\n",
       "TimeIndex                                                         \n",
       "2020-10-22 19:05:34   344.220         NaN  2479.449004         NaN\n",
       "2020-10-22 19:05:49   344.275         NaN  2479.084660         NaN\n",
       "2020-10-22 19:06:04   344.160         NaN  2476.421209         NaN\n",
       "2020-10-22 19:06:19   343.970         NaN  2470.425587         NaN\n",
       "2020-10-22 19:06:34   344.030         NaN  2466.988864         NaN\n",
       "...                       ...         ...          ...         ...\n",
       "2020-12-31 20:58:51   374.260  374.207812  6102.434207  313.446476\n",
       "2020-12-31 20:59:06   374.430  374.256287  6109.190332  313.481126\n",
       "2020-12-31 20:59:21   374.320  374.529991  6110.854105  313.501916\n",
       "2020-12-31 20:59:36   374.320  374.346004  6112.150847  313.460336\n",
       "2020-12-31 20:59:51   374.630  374.274892  6123.324821  313.536565\n",
       "\n",
       "[61756 rows x 4 columns]"
      ]
     },
     "execution_count": 355,
     "metadata": {},
     "output_type": "execute_result"
    }
   ],
   "source": [
    "df_bollinger.r"
   ]
  },
  {
   "cell_type": "code",
   "execution_count": 357,
   "metadata": {},
   "outputs": [
    {
     "data": {
      "text/html": [
       "<div>\n",
       "<style scoped>\n",
       "    .dataframe tbody tr th:only-of-type {\n",
       "        vertical-align: middle;\n",
       "    }\n",
       "\n",
       "    .dataframe tbody tr th {\n",
       "        vertical-align: top;\n",
       "    }\n",
       "\n",
       "    .dataframe thead th {\n",
       "        text-align: right;\n",
       "    }\n",
       "</style>\n",
       "<table border=\"1\" class=\"dataframe\">\n",
       "  <thead>\n",
       "    <tr style=\"text-align: right;\">\n",
       "      <th></th>\n",
       "      <th>SPY_Last</th>\n",
       "      <th>VAR_1</th>\n",
       "      <th>h.1</th>\n",
       "      <th>arima</th>\n",
       "      <th>20 Day MA</th>\n",
       "      <th>Upper Band</th>\n",
       "      <th>Lower Band</th>\n",
       "    </tr>\n",
       "    <tr>\n",
       "      <th>TimeIndex</th>\n",
       "      <th></th>\n",
       "      <th></th>\n",
       "      <th></th>\n",
       "      <th></th>\n",
       "      <th></th>\n",
       "      <th></th>\n",
       "      <th></th>\n",
       "    </tr>\n",
       "  </thead>\n",
       "  <tbody>\n",
       "    <tr>\n",
       "      <th>2020-12-31 20:34:21</th>\n",
       "      <td>373.4900</td>\n",
       "      <td>373.485203</td>\n",
       "      <td>5980.986677</td>\n",
       "      <td>313.508846</td>\n",
       "      <td>373.345195</td>\n",
       "      <td>528.018873</td>\n",
       "      <td>218.671517</td>\n",
       "    </tr>\n",
       "    <tr>\n",
       "      <th>2020-12-31 20:34:36</th>\n",
       "      <td>373.5000</td>\n",
       "      <td>373.517449</td>\n",
       "      <td>5984.234087</td>\n",
       "      <td>313.494986</td>\n",
       "      <td>373.352945</td>\n",
       "      <td>528.068608</td>\n",
       "      <td>218.637282</td>\n",
       "    </tr>\n",
       "    <tr>\n",
       "      <th>2020-12-31 20:34:51</th>\n",
       "      <td>373.4411</td>\n",
       "      <td>373.523845</td>\n",
       "      <td>5984.857730</td>\n",
       "      <td>313.494986</td>\n",
       "      <td>373.359250</td>\n",
       "      <td>528.082974</td>\n",
       "      <td>218.635526</td>\n",
       "    </tr>\n",
       "    <tr>\n",
       "      <th>2020-12-31 20:35:06</th>\n",
       "      <td>373.4700</td>\n",
       "      <td>373.413547</td>\n",
       "      <td>5986.279503</td>\n",
       "      <td>313.481126</td>\n",
       "      <td>373.365500</td>\n",
       "      <td>528.107602</td>\n",
       "      <td>218.623398</td>\n",
       "    </tr>\n",
       "    <tr>\n",
       "      <th>2020-12-31 20:35:21</th>\n",
       "      <td>373.4750</td>\n",
       "      <td>373.458487</td>\n",
       "      <td>5987.549549</td>\n",
       "      <td>313.481126</td>\n",
       "      <td>373.372250</td>\n",
       "      <td>528.130766</td>\n",
       "      <td>218.613734</td>\n",
       "    </tr>\n",
       "    <tr>\n",
       "      <th>...</th>\n",
       "      <td>...</td>\n",
       "      <td>...</td>\n",
       "      <td>...</td>\n",
       "      <td>...</td>\n",
       "      <td>...</td>\n",
       "      <td>...</td>\n",
       "      <td>...</td>\n",
       "    </tr>\n",
       "    <tr>\n",
       "      <th>2020-12-31 20:58:51</th>\n",
       "      <td>374.2600</td>\n",
       "      <td>374.207812</td>\n",
       "      <td>6102.434207</td>\n",
       "      <td>313.446476</td>\n",
       "      <td>374.153250</td>\n",
       "      <td>530.389407</td>\n",
       "      <td>217.917093</td>\n",
       "    </tr>\n",
       "    <tr>\n",
       "      <th>2020-12-31 20:59:06</th>\n",
       "      <td>374.4300</td>\n",
       "      <td>374.256287</td>\n",
       "      <td>6109.190332</td>\n",
       "      <td>313.481126</td>\n",
       "      <td>374.167750</td>\n",
       "      <td>530.490369</td>\n",
       "      <td>217.845131</td>\n",
       "    </tr>\n",
       "    <tr>\n",
       "      <th>2020-12-31 20:59:21</th>\n",
       "      <td>374.3200</td>\n",
       "      <td>374.529991</td>\n",
       "      <td>6110.854105</td>\n",
       "      <td>313.501916</td>\n",
       "      <td>374.177000</td>\n",
       "      <td>530.520904</td>\n",
       "      <td>217.833096</td>\n",
       "    </tr>\n",
       "    <tr>\n",
       "      <th>2020-12-31 20:59:36</th>\n",
       "      <td>374.3200</td>\n",
       "      <td>374.346004</td>\n",
       "      <td>6112.150847</td>\n",
       "      <td>313.460336</td>\n",
       "      <td>374.184750</td>\n",
       "      <td>530.545242</td>\n",
       "      <td>217.824258</td>\n",
       "    </tr>\n",
       "    <tr>\n",
       "      <th>2020-12-31 20:59:51</th>\n",
       "      <td>374.6300</td>\n",
       "      <td>374.274892</td>\n",
       "      <td>6123.324821</td>\n",
       "      <td>313.536565</td>\n",
       "      <td>374.211000</td>\n",
       "      <td>530.714352</td>\n",
       "      <td>217.707648</td>\n",
       "    </tr>\n",
       "  </tbody>\n",
       "</table>\n",
       "<p>100 rows × 7 columns</p>\n",
       "</div>"
      ],
      "text/plain": [
       "                     SPY_Last       VAR_1          h.1       arima  \\\n",
       "TimeIndex                                                            \n",
       "2020-12-31 20:34:21  373.4900  373.485203  5980.986677  313.508846   \n",
       "2020-12-31 20:34:36  373.5000  373.517449  5984.234087  313.494986   \n",
       "2020-12-31 20:34:51  373.4411  373.523845  5984.857730  313.494986   \n",
       "2020-12-31 20:35:06  373.4700  373.413547  5986.279503  313.481126   \n",
       "2020-12-31 20:35:21  373.4750  373.458487  5987.549549  313.481126   \n",
       "...                       ...         ...          ...         ...   \n",
       "2020-12-31 20:58:51  374.2600  374.207812  6102.434207  313.446476   \n",
       "2020-12-31 20:59:06  374.4300  374.256287  6109.190332  313.481126   \n",
       "2020-12-31 20:59:21  374.3200  374.529991  6110.854105  313.501916   \n",
       "2020-12-31 20:59:36  374.3200  374.346004  6112.150847  313.460336   \n",
       "2020-12-31 20:59:51  374.6300  374.274892  6123.324821  313.536565   \n",
       "\n",
       "                      20 Day MA  Upper Band  Lower Band  \n",
       "TimeIndex                                                \n",
       "2020-12-31 20:34:21  373.345195  528.018873  218.671517  \n",
       "2020-12-31 20:34:36  373.352945  528.068608  218.637282  \n",
       "2020-12-31 20:34:51  373.359250  528.082974  218.635526  \n",
       "2020-12-31 20:35:06  373.365500  528.107602  218.623398  \n",
       "2020-12-31 20:35:21  373.372250  528.130766  218.613734  \n",
       "...                         ...         ...         ...  \n",
       "2020-12-31 20:58:51  374.153250  530.389407  217.917093  \n",
       "2020-12-31 20:59:06  374.167750  530.490369  217.845131  \n",
       "2020-12-31 20:59:21  374.177000  530.520904  217.833096  \n",
       "2020-12-31 20:59:36  374.184750  530.545242  217.824258  \n",
       "2020-12-31 20:59:51  374.211000  530.714352  217.707648  \n",
       "\n",
       "[100 rows x 7 columns]"
      ]
     },
     "execution_count": 357,
     "metadata": {},
     "output_type": "execute_result"
    }
   ],
   "source": [
    "df_bollinger.tail(100)"
   ]
  },
  {
   "cell_type": "code",
   "execution_count": 365,
   "metadata": {},
   "outputs": [],
   "source": [
    "df_bollinger['20 Day MA'] = df_bollinger['SPY_Last'].rolling(20).mean()\n",
    "df_bollinger['Upper Band'] = df_bollinger['20 Day MA'] + 2*np.sqrt(df_bollinger['h.1']/len(df_bollinger))\n",
    "df_bollinger['Lower Band'] = df_bollinger['20 Day MA'] - 2*np.sqrt(df_bollinger['h.1']/len(df_bollinger))\n",
    "# df_bollinger['Lower Band'] = df_bollinger['20 Day MA'] - 2*np.sqrt(df_bollinger['h.1'])"
   ]
  },
  {
   "cell_type": "code",
   "execution_count": 366,
   "metadata": {},
   "outputs": [
    {
     "data": {
      "text/plain": [
       "<matplotlib.legend.Legend at 0x223d2e0d6a0>"
      ]
     },
     "execution_count": 366,
     "metadata": {},
     "output_type": "execute_result"
    },
    {
     "data": {
      "image/png": "[encoded data removed]",
      "text/plain": [
       "<Figure size 432x288 with 1 Axes>"
      ]
     },
     "metadata": {
      "needs_background": "light"
     },
     "output_type": "display_data"
    }
   ],
   "source": [
    "plt.plot(df_bollinger['SPY_Last'].iloc[-100:], label='SPY Last')\n",
    "plt.plot(df_bollinger['20 Day MA'].iloc[-100:], label='20 Day MA')\n",
    "plt.plot(df_bollinger['Upper Band'].iloc[-100:], label='Upper Band')\n",
    "plt.plot(df_bollinger['Lower Band'].iloc[-100:], label='Lower Band')\n",
    "plt.plot(df_bollinger['VAR_1'].iloc[-100:], label='VAR(1)')\n",
    "# plt.plot(predict_arima_test_sd, label='Forecast(1) SD of SPY Last - Test')\n",
    "# plt.plot(df_delta_1, label='Delta')\n",
    "plt.legend()"
   ]
  },
  {
   "cell_type": "code",
   "execution_count": 376,
   "metadata": {},
   "outputs": [],
   "source": [
    "df_bollinger['20 Day MA'] = df_bollinger['SPY_Last'].rolling(20).mean()\n",
    "df_bollinger['Upper Band'] = df_bollinger['20 Day MA'] + 2*df_bollinger['SPY_Last'].rolling(20).std()\n",
    "df_bollinger['Lower Band'] = df_bollinger['20 Day MA'] - 2*df_bollinger['SPY_Last'].rolling(20).std()\n",
    "# df_bollinger['Lower Band'] = df_bollinger['20 Day MA'] - 2*np.sqrt(df_bollinger['h.1'])"
   ]
  },
  {
   "cell_type": "code",
   "execution_count": 377,
   "metadata": {},
   "outputs": [
    {
     "data": {
      "text/plain": [
       "<matplotlib.legend.Legend at 0x223d3232ac0>"
      ]
     },
     "execution_count": 377,
     "metadata": {},
     "output_type": "execute_result"
    },
    {
     "data": {
      "image/png": "[encoded data removed]",
      "text/plain": [
       "<Figure size 432x288 with 1 Axes>"
      ]
     },
     "metadata": {
      "needs_background": "light"
     },
     "output_type": "display_data"
    }
   ],
   "source": [
    "plt.plot(df_bollinger['SPY_Last'].iloc[-100:], label='SPY Last')\n",
    "plt.plot(df_bollinger['20 Day MA'].iloc[-100:], label='20 Day MA')\n",
    "plt.plot(df_bollinger['Upper Band'].iloc[-100:], label='Upper Band')\n",
    "plt.plot(df_bollinger['Lower Band'].iloc[-100:], label='Lower Band')\n",
    "plt.plot(df_bollinger['VAR_1'].iloc[-100:], label='VAR(1)')\n",
    "# plt.plot(predict_arima_test_sd, label='Forecast(1) SD of SPY Last - Test')\n",
    "# plt.plot(df_delta_1, label='Delta')\n",
    "plt.legend()"
   ]
  },
  {
   "cell_type": "code",
   "execution_count": 375,
   "metadata": {},
   "outputs": [
    {
     "data": {
      "text/plain": [
       "<matplotlib.legend.Legend at 0x223d31e3b50>"
      ]
     },
     "execution_count": 375,
     "metadata": {},
     "output_type": "execute_result"
    },
    {
     "data": {
      "image/png": "[encoded data removed]",
      "text/plain": [
       "<Figure size 432x288 with 1 Axes>"
      ]
     },
     "metadata": {
      "needs_background": "light"
     },
     "output_type": "display_data"
    }
   ],
   "source": [
    "plt.plot(df_bollinger['SPY_Last'].iloc[-2000:-1500], label='SPY Last')\n",
    "plt.plot(df_bollinger['20 Day MA'].iloc[-2000:-1500], label='20 Day MA')\n",
    "plt.plot(df_bollinger['Upper Band'].iloc[-2000:-1500], label='Upper Band')\n",
    "plt.plot(df_bollinger['Lower Band'].iloc[-2000:-1500], label='Lower Band')\n",
    "plt.plot(df_bollinger['VAR_1'].iloc[-2000:-1500], label='VAR(1)')\n",
    "# plt.plot(predict_arima_test_sd, label='Forecast(1) SD of SPY Last - Test')\n",
    "# plt.plot(df_delta_1, label='Delta')\n",
    "plt.legend()"
   ]
  },
  {
   "cell_type": "code",
   "execution_count": null,
   "metadata": {},
   "outputs": [],
   "source": []
  }
 ],
 "metadata": {
  "kernelspec": {
   "display_name": "Python 3",
   "language": "python",
   "name": "python3"
  },
  "language_info": {
   "codemirror_mode": {
    "name": "ipython",
    "version": 3
   },
   "file_extension": ".py",
   "mimetype": "text/x-python",
   "name": "python",
   "nbconvert_exporter": "python",
   "pygments_lexer": "ipython3",
   "version": "3.7.4"
  }
 },
 "nbformat": 4,
 "nbformat_minor": 4
}
